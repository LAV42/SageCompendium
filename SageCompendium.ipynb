{
 "cells": [
  {
   "cell_type": "code",
   "execution_count": 86,
   "metadata": {},
   "outputs": [],
   "source": [
    "#This cell has to be executed\n",
    "load('superpartition.py')\n",
    "load('sym_superfunct.py')"
   ]
  },
  {
   "cell_type": "markdown",
   "metadata": {},
   "source": [
    "# Superpartition and symmetric superpolynomials"
   ]
  },
  {
   "cell_type": "markdown",
   "metadata": {
    "collapsed": true
   },
   "source": [
    "## Superpartitions\n",
    "### Superpartition: the $(\\Lambda^a; \\Lambda^s)$ description. \n",
    "The superpartitions are introduced in the following way. \n",
    "#### `Superpartitions()` class\n",
    "We first introduce the complete space of superpartitions like so"
   ]
  },
  {
   "cell_type": "code",
   "execution_count": 87,
   "metadata": {},
   "outputs": [
    {
     "data": {
      "text/plain": [
       "superpartitions"
      ]
     },
     "execution_count": 87,
     "metadata": {},
     "output_type": "execute_result"
    }
   ],
   "source": [
    "S = Superpartitions() # Creates an instance of the set of superpartitions\n",
    "S #We print the description of the just created set. "
   ]
  },
  {
   "cell_type": "markdown",
   "metadata": {},
   "source": [
    "Let us consider a superpartition.\n",
    " (Note that since Python is underlying  Sage, one should never use `lambda` as variable name since it is a special function.)"
   ]
  },
  {
   "cell_type": "code",
   "execution_count": 88,
   "metadata": {},
   "outputs": [
    {
     "data": {
      "text/plain": [
       "[[3, 2], [4, 2, 2]]"
      ]
     },
     "execution_count": 88,
     "metadata": {},
     "output_type": "execute_result"
    }
   ],
   "source": [
    "my_spart = S([[3,2],[4,2,2]]) # This how you define a superpartition\n",
    "my_spart # We print it"
   ]
  },
  {
   "cell_type": "markdown",
   "metadata": {},
   "source": [
    "We know that for superpartition $\\Lambda$ we have\n",
    "$$\n",
    "\\Lambda_1 > \\Lambda_2 > \\cdots > \\Lambda_m \\geq 0 \\quad \\text{and} \\quad\n",
    "\\Lambda_{m+1} \\geq \\Lambda_{m+2} \\geq \\cdots \\geq \\Lambda_{\\ell} > 0\n",
    "$$\n",
    "This is enforced into the declaration of superpartitions. Trying to define a superpartition that violates these conditions will raise an error:"
   ]
  },
  {
   "cell_type": "code",
   "execution_count": 89,
   "metadata": {},
   "outputs": [
    {
     "name": "stdout",
     "output_type": "stream",
     "text": [
      "('The following error was raised: ', ValueError('The fermionic partition must contain decreasing distinct parts >= 0',))\n"
     ]
    }
   ],
   "source": [
    "try: # This tries to execute the following statement\n",
    "        my_bad_spart = S([[3,2,1,1],[5]]) # This generates an error\n",
    "except ValueError as err: # If an error was raised, the following is executed\n",
    "    print(\"The following error was raised: \", err)"
   ]
  },
  {
   "cell_type": "markdown",
   "metadata": {},
   "source": [
    "#### `len( a_superpartition )` and `sector()`\n",
    "Back to our superpartition, we can retrieve different information about it. "
   ]
  },
  {
   "cell_type": "code",
   "execution_count": 90,
   "metadata": {},
   "outputs": [
    {
     "name": "stdout",
     "output_type": "stream",
     "text": [
      "[[3, 2], [4, 2, 2]]\n",
      "The length of my spart is 5\n",
      "My spart is in the sector (13, 2)\n"
     ]
    }
   ],
   "source": [
    "print(my_spart)\n",
    "length = len(my_spart) # Define length\n",
    "print('The length of my spart is ' + str(length))\n",
    "sector = my_spart.sector() \n",
    "print('My spart is in the sector ' + str(sector))"
   ]
  },
  {
   "cell_type": "markdown",
   "metadata": {},
   "source": [
    "You can access the both $\\Lambda^a$ and $\\Lambda^s$"
   ]
  },
  {
   "cell_type": "code",
   "execution_count": null,
   "metadata": {},
   "outputs": [],
   "source": []
  },
  {
   "cell_type": "code",
   "execution_count": 91,
   "metadata": {},
   "outputs": [
    {
     "name": "stdout",
     "output_type": "stream",
     "text": [
      "[3, 2]\n",
      "[4, 2, 2]\n"
     ]
    }
   ],
   "source": [
    "fermionic_part = my_spart[0]\n",
    "print(fermionic_part)\n",
    "bosonic_part = my_spart[1]\n",
    "print(bosonic_part)"
   ]
  },
  {
   "cell_type": "markdown",
   "metadata": {},
   "source": [
    "#### `Superpartitions(n, m)`\n",
    "Previously we have defined the whole space of superpartitions. Now let say that we want to deal with only on sector. Then, we just call the `Superpartitions` with `n` (the number of boxes, or bosonic degree) and `m` (the number of circles, or fermionic degree) as arguments:"
   ]
  },
  {
   "cell_type": "code",
   "execution_count": 92,
   "metadata": {},
   "outputs": [
    {
     "data": {
      "text/plain": [
       "Superpartitions with 12 boxes and 3 circles"
      ]
     },
     "execution_count": 92,
     "metadata": {},
     "output_type": "execute_result"
    }
   ],
   "source": [
    "spart_nm = Superpartitions(12, 3)\n",
    "spart_nm"
   ]
  },
  {
   "cell_type": "markdown",
   "metadata": {},
   "source": [
    "You can retrieve the elements of a set as a list, let's take a smaller set not to clutter the doccument. "
   ]
  },
  {
   "cell_type": "code",
   "execution_count": 93,
   "metadata": {},
   "outputs": [
    {
     "name": "stdout",
     "output_type": "stream",
     "text": [
      "Superpartitions with 5 boxes and 2 circles\n",
      "[[[5, 0], []], [[4, 1], []], [[3, 2], []], [[4, 0], [1]], [[3, 1], [1]], [[3, 0], [2]], [[3, 0], [1, 1]], [[2, 1], [2]], [[2, 1], [1, 1]], [[2, 0], [3]], [[2, 0], [2, 1]], [[2, 0], [1, 1, 1]], [[1, 0], [4]], [[1, 0], [3, 1]], [[1, 0], [2, 2]], [[1, 0], [2, 1, 1]], [[1, 0], [1, 1, 1, 1]]]\n"
     ]
    }
   ],
   "source": [
    "myset = Superpartitions(5, 2)\n",
    "print(myset)\n",
    "mylist = list(myset)\n",
    "print(mylist)"
   ]
  },
  {
   "cell_type": "markdown",
   "metadata": {},
   "source": [
    "Note that order in the list is deterministic but somewhat arbitrary. \n",
    "\n",
    "The set can also be used as an iterator:"
   ]
  },
  {
   "cell_type": "code",
   "execution_count": 94,
   "metadata": {},
   "outputs": [
    {
     "name": "stdout",
     "output_type": "stream",
     "text": [
      "Superpartitions with 4 boxes and 2 circles\n",
      "[[4, 0], []]\n",
      "[[3, 1], []]\n",
      "[[3, 0], [1]]\n",
      "[[2, 1], [1]]\n",
      "[[2, 0], [2]]\n",
      "[[2, 0], [1, 1]]\n",
      "[[1, 0], [3]]\n",
      "[[1, 0], [2, 1]]\n",
      "[[1, 0], [1, 1, 1]]\n"
     ]
    }
   ],
   "source": [
    "an_other_set = Superpartitions(4,2)\n",
    "print(an_other_set)\n",
    "# We use it here as an iterator: \n",
    "for some_superpartition in an_other_set:\n",
    "    print(some_superpartition)"
   ]
  },
  {
   "cell_type": "markdown",
   "metadata": {},
   "source": [
    "### The $\\Lambda^\\ast, \\Lambda^\\circledast$ description\n",
    "#### `partition_pair()`\n",
    "We can obtain this description from a superpartition:"
   ]
  },
  {
   "cell_type": "code",
   "execution_count": 95,
   "metadata": {},
   "outputs": [
    {
     "name": "stdout",
     "output_type": "stream",
     "text": [
      "[[6, 5, 2, 0], [4, 3, 3, 2, 1]]\n",
      "[[6, 5, 4, 3, 3, 2, 2, 1], [7, 6, 4, 3, 3, 3, 2, 1, 1]]\n"
     ]
    }
   ],
   "source": [
    "spart1 = S([[6,5,2,0],[4,3,3,2,1]])\n",
    "print(spart1)\n",
    "spart1_pair = spart1.partition_pair()\n",
    "print(spart1_pair)"
   ]
  },
  {
   "cell_type": "markdown",
   "metadata": {},
   "source": [
    "#### `Superpartitions.partition_pair_to_spart( a_partition_pair )`\n",
    "We can also revert this operation (even though this operation is not really intended for end-user):"
   ]
  },
  {
   "cell_type": "code",
   "execution_count": 96,
   "metadata": {},
   "outputs": [
    {
     "data": {
      "text/plain": [
       "[[6, 5, 2, 0], [4, 3, 3, 2, 1]]"
      ]
     },
     "execution_count": 96,
     "metadata": {},
     "output_type": "execute_result"
    }
   ],
   "source": [
    "Superpartitions.partition_pair_to_spart(spart1_pair)"
   ]
  },
  {
   "cell_type": "markdown",
   "metadata": {},
   "source": [
    "### Superdiagram\n",
    "Not yet fully implemented. Latex support comming up. \n",
    "\n",
    "#### `terminal_diagram()`\n",
    "\n",
    "We can obtain the representation of the superdiagram directely from a superpartition. "
   ]
  },
  {
   "cell_type": "code",
   "execution_count": 97,
   "metadata": {},
   "outputs": [
    {
     "name": "stdout",
     "output_type": "stream",
     "text": [
      "[[7, 5, 2, 0], [8, 8, 5, 4, 2, 2]]\n",
      "■ ■ ■ ■ ■ ■ ■ ■\n",
      "■ ■ ■ ■ ■ ■ ■ ■\n",
      "■ ■ ■ ■ ■ ■ ■ ○\n",
      "■ ■ ■ ■ ■ ○\n",
      "■ ■ ■ ■ ■\n",
      "■ ■ ■ ■\n",
      "■ ■ ○\n",
      "■ ■\n",
      "■ ■\n",
      "○\n",
      "\n"
     ]
    }
   ],
   "source": [
    "S = Superpartitions()\n",
    "a_spart = S([[7,5,2,0],[8,8,5,4,2,2]])\n",
    "print(a_spart)\n",
    "a_spart.terminal_diagram()"
   ]
  },
  {
   "cell_type": "markdown",
   "metadata": {},
   "source": [
    "### Conjugate superpartition\n",
    "#### `conjugate()` method\n",
    "We can easily obtain the conjugate of a superpartition. "
   ]
  },
  {
   "cell_type": "code",
   "execution_count": 98,
   "metadata": {},
   "outputs": [
    {
     "name": "stdout",
     "output_type": "stream",
     "text": [
      "[[9, 7, 5, 2, 0], [8, 8, 5, 3, 2, 2, 2, 1]]\n",
      "■ ■ ■ ■ ■ ■ ■ ■ ■ ○\n",
      "■ ■ ■ ■ ■ ■ ■ ■\n",
      "■ ■ ■ ■ ■ ■ ■ ■\n",
      "■ ■ ■ ■ ■ ■ ■ ○\n",
      "■ ■ ■ ■ ■ ○\n",
      "■ ■ ■ ■ ■\n",
      "■ ■ ■\n",
      "■ ■ ○\n",
      "■ ■\n",
      "■ ■\n",
      "■ ■\n",
      "■\n",
      "○\n",
      "\n",
      "And now the conjugate superpartition\n",
      "■ ■ ■ ■ ■ ■ ■ ■ ■ ■ ■ ■ ○\n",
      "■ ■ ■ ■ ■ ■ ■ ■ ■ ■ ■\n",
      "■ ■ ■ ■ ■ ■ ■ ○\n",
      "■ ■ ■ ■ ■ ■\n",
      "■ ■ ■ ■ ■ ■\n",
      "■ ■ ■ ■ ○\n",
      "■ ■ ■ ■\n",
      "■ ■ ■ ○\n",
      "■\n",
      "○\n",
      "\n"
     ]
    }
   ],
   "source": [
    "S = Superpartitions()\n",
    "a_spart = S([[9,7,5,2,0],[8,8,5,3,2,2,2,1]])\n",
    "print(a_spart)\n",
    "a_spart.terminal_diagram()\n",
    "print('And now the conjugate superpartition')\n",
    "a_spart_conjugate = a_spart.conjugate()\n",
    "a_spart_conjugate.terminal_diagram()"
   ]
  },
  {
   "cell_type": "markdown",
   "metadata": {},
   "source": [
    "### Dominance order\n",
    "\n",
    "First, let's take three superpartitions with 10 boxes and 3 circles. "
   ]
  },
  {
   "cell_type": "code",
   "execution_count": 99,
   "metadata": {},
   "outputs": [
    {
     "name": "stdout",
     "output_type": "stream",
     "text": [
      "spart1\n",
      "[[5, 2, 1], [1, 1]]\n",
      "■ ■ ■ ■ ■ ○\n",
      "■ ■ ○\n",
      "■ ○\n",
      "■\n",
      "■\n",
      "\n",
      "spart2\n",
      "[[4, 3, 0], [1, 1, 1]]\n",
      "■ ■ ■ ■ ○\n",
      "■ ■ ■ ○\n",
      "■\n",
      "■\n",
      "■\n",
      "○\n",
      "\n",
      "spart3\n",
      "[[4, 2, 1], [2, 1]]\n",
      "■ ■ ■ ■ ○\n",
      "■ ■ ○\n",
      "■ ■\n",
      "■ ○\n",
      "■\n",
      "\n"
     ]
    }
   ],
   "source": [
    "S = Superpartitions(10,3)\n",
    "spart_list = list(S)\n",
    "spart1 = spart_list[22]\n",
    "spart2 = spart_list[33]\n",
    "spart3 = spart_list[35]\n",
    "\n",
    "print('spart1')\n",
    "print(spart1)\n",
    "spart1.terminal_diagram()\n",
    "\n",
    "print('spart2')\n",
    "print(spart2)\n",
    "spart2.terminal_diagram()\n",
    "\n",
    "print('spart3')\n",
    "print(spart3)\n",
    "spart3.terminal_diagram()\n"
   ]
  },
  {
   "cell_type": "markdown",
   "metadata": {},
   "source": [
    "#### `compare_dominance()` method\n",
    "Let us now recover their ordering relations:"
   ]
  },
  {
   "cell_type": "code",
   "execution_count": 100,
   "metadata": {},
   "outputs": [
    {
     "name": "stdout",
     "output_type": "stream",
     "text": [
      "Compare spart1 and spart2\n",
      ">\n",
      "Compare spart1 and spart3\n",
      ">\n",
      "Compare spart2 and spart3\n",
      "Non-comparable\n"
     ]
    }
   ],
   "source": [
    "print('Compare spart1 and spart2')\n",
    "print(S.compare_dominance(spart1, spart2))\n",
    "print('Compare spart1 and spart3')\n",
    "print(S.compare_dominance(spart1, spart3))\n",
    "print('Compare spart2 and spart3')\n",
    "print(S.compare_dominance(spart2, spart3))"
   ]
  },
  {
   "cell_type": "markdown",
   "metadata": {},
   "source": [
    "The `compare_dominance()` method returns one of the following strings: \n",
    "    `\"==\"`, \n",
    "    `\">\"`, \n",
    "    `\"<\"` or\n",
    "    `\"Non-comparable\"`. We illustrate this with an example:\n",
    "\n",
    "Let us consider the following set of superpartitions of sector $(4\\,|\\,1)$:"
   ]
  },
  {
   "cell_type": "code",
   "execution_count": 101,
   "metadata": {},
   "outputs": [
    {
     "name": "stdout",
     "output_type": "stream",
     "text": [
      "Superpartitions with 4 boxes and 1 circles\n",
      "[[[4], []], [[3], [1]], [[2], [2]], [[2], [1, 1]], [[1], [3]], [[1], [2, 1]], [[1], [1, 1, 1]], [[0], [4]], [[0], [3, 1]], [[0], [2, 2]], [[0], [2, 1, 1]], [[0], [1, 1, 1, 1]]]\n",
      "[[4], []]\n",
      "[[3], [1]]\n",
      "[[2], [2]]\n",
      "[[2], [1, 1]]\n",
      "[[1], [3]]\n",
      "[[1], [2, 1]]\n",
      "[[1], [1, 1, 1]]\n",
      "[[0], [4]]\n",
      "[[0], [3, 1]]\n",
      "[[0], [2, 2]]\n",
      "[[0], [2, 1, 1]]\n",
      "[[0], [1, 1, 1, 1]]\n"
     ]
    }
   ],
   "source": [
    "Sparts = Superpartitions(4,1)\n",
    "print(Sparts)\n",
    "print(list(Sparts))\n",
    "for k in Sparts:\n",
    "    print(k)"
   ]
  },
  {
   "cell_type": "markdown",
   "metadata": {},
   "source": [
    "We will compare the superpartitions $(2;2)$ to every superpartitions of the previous set:"
   ]
  },
  {
   "cell_type": "code",
   "execution_count": 102,
   "metadata": {},
   "outputs": [
    {
     "name": "stdout",
     "output_type": "stream",
     "text": [
      "■ ■ ○\n",
      "■ ■\n",
      "\n",
      "[[2], [2]] is dominated by [[4], []]\n",
      "[[2], [2]] is dominated by [[3], [1]]\n",
      "[[2], [2]] is exactly [[2], [2]]\n",
      "[[2], [2]] dominates [[2], [1, 1]]\n",
      "[[2], [2]] is dominated by [[1], [3]]\n",
      "[[2], [2]] dominates [[1], [2, 1]]\n",
      "[[2], [2]] dominates [[1], [1, 1, 1]]\n",
      "[[2], [2]] is dominated by [[0], [4]]\n",
      "[[2], [2]] and [[0], [3, 1]] are non-comparable\n",
      "[[2], [2]] dominates [[0], [2, 2]]\n",
      "[[2], [2]] dominates [[0], [2, 1, 1]]\n",
      "[[2], [2]] dominates [[0], [1, 1, 1, 1]]\n"
     ]
    }
   ],
   "source": [
    "Sparts = Superpartitions()\n",
    "our_spart = Sparts([[2],[2]]) # We define (2; 2)\n",
    "Sparts_4_1 = Superpartitions(4,1)\n",
    "our_spart.terminal_diagram() # Print the diagram\n",
    "\n",
    "for an_other_spart in Sparts_4_1:\n",
    "    #We store the result of the operation in camparision\n",
    "    comparision = Sparts.compare_dominance(our_spart, an_other_spart)\n",
    "    if comparision == \">\":\n",
    "        print(str(our_spart) + \" dominates \" + str(an_other_spart))\n",
    "    elif comparision == \"==\":\n",
    "        print(str(our_spart) + \" is exactly \" + str(an_other_spart))\n",
    "    elif comparision == \"<\":\n",
    "        print(str(our_spart) + \" is dominated by \" + str(an_other_spart))\n",
    "    elif comparision == \"Non-comparable\":\n",
    "        print(str(our_spart) + \" and \" + str(an_other_spart) + \" are non-comparable\")"
   ]
  },
  {
   "cell_type": "markdown",
   "metadata": {},
   "source": [
    "Take note that the dominance ordering overloads the `>`, `<`, `>=`, ... operators. For instance"
   ]
  },
  {
   "cell_type": "code",
   "execution_count": 103,
   "metadata": {},
   "outputs": [
    {
     "name": "stdout",
     "output_type": "stream",
     "text": [
      "True\n",
      "True\n"
     ]
    }
   ],
   "source": [
    "print( Sparts([[2],[2]]) <= Sparts([[3],[1]]))\n",
    "print( Sparts([[2],[2]]) != Sparts([[2],[1,1]]))"
   ]
  },
  {
   "cell_type": "markdown",
   "metadata": {},
   "source": [
    "Hence, the previous example can be implemented in a much more readeable fashion: "
   ]
  },
  {
   "cell_type": "code",
   "execution_count": 104,
   "metadata": {},
   "outputs": [
    {
     "name": "stdout",
     "output_type": "stream",
     "text": [
      "[[2], [2]] is dominated by [[4], []]\n",
      "[[2], [2]] is dominated by [[3], [1]]\n",
      "[[2], [2]] is exactly [[2], [2]]\n",
      "[[2], [2]] dominates [[2], [1, 1]]\n",
      "[[2], [2]] is dominated by [[1], [3]]\n",
      "[[2], [2]] dominates [[1], [2, 1]]\n",
      "[[2], [2]] dominates [[1], [1, 1, 1]]\n",
      "[[2], [2]] is dominated by [[0], [4]]\n",
      "[[2], [2]] and [[0], [3, 1]] are non-comparable\n",
      "[[2], [2]] dominates [[0], [2, 2]]\n",
      "[[2], [2]] dominates [[0], [2, 1, 1]]\n",
      "[[2], [2]] dominates [[0], [1, 1, 1, 1]]\n"
     ]
    }
   ],
   "source": [
    "Sparts = Superpartitions(4,1)\n",
    "our_spart = Sparts([[2],[2]]) # We define (2; 2)\n",
    "\n",
    "for an_other_spart in list(Sparts):\n",
    "    if (our_spart > an_other_spart):\n",
    "        print(str(our_spart) + \" dominates \" + str(an_other_spart))\n",
    "    elif our_spart == an_other_spart:\n",
    "        print(str(our_spart) + \" is exactly \" + str(an_other_spart))\n",
    "    elif our_spart < an_other_spart:\n",
    "        print(str(our_spart) + \" is dominated by \" + str(an_other_spart))\n",
    "    else:\n",
    "        print(str(our_spart) + \" and \" + str(an_other_spart) + \" are non-comparable\")"
   ]
  },
  {
   "cell_type": "markdown",
   "metadata": {},
   "source": [
    "Smaller_spart\n",
    "sort list\n",
    "...."
   ]
  },
  {
   "cell_type": "markdown",
   "metadata": {},
   "source": [
    "#### `get_smaller_sparts()` method\n",
    "allows one to obtain the list of every superpartitions that is dominated by the one the method is called from. For instance,"
   ]
  },
  {
   "cell_type": "code",
   "execution_count": 105,
   "metadata": {},
   "outputs": [
    {
     "name": "stdout",
     "output_type": "stream",
     "text": [
      "The superpartition\n",
      "■ ■ ○\n",
      "■\n",
      "■\n",
      "○\n",
      "\n",
      "dominates the following\n",
      "■ ■\n",
      "■ ○\n",
      "■\n",
      "○\n",
      "\n",
      "■ ○\n",
      "■\n",
      "■\n",
      "■\n",
      "○\n",
      "\n"
     ]
    }
   ],
   "source": [
    "Sparts = Superpartitions()\n",
    "my_spart = Sparts([[2,0],[1,1]])\n",
    "print(\"The superpartition\")\n",
    "my_spart.terminal_diagram()\n",
    "print(\"dominates the following\")\n",
    "dominated_sparts = my_spart.get_smaller_sparts()\n",
    "for spart in dominated_sparts:\n",
    "    spart.terminal_diagram()"
   ]
  },
  {
   "cell_type": "markdown",
   "metadata": {},
   "source": [
    "#### `Superpartitions.give_greatest_spart( list_of_spart )`\n",
    "this function allows one to exctract the greatest superpartition out of the list:"
   ]
  },
  {
   "cell_type": "code",
   "execution_count": 106,
   "metadata": {},
   "outputs": [
    {
     "name": "stdout",
     "output_type": "stream",
     "text": [
      "[[[3, 0], [1]], [[2, 0], [2]], [[1, 0], [3]], [[1, 0], [1, 1, 1]]]\n",
      "The greatest element in the list is\n",
      "[[3, 0], [1]]\n"
     ]
    }
   ],
   "source": [
    "Sparts_4_2 = list(Superpartitions(4,2))\n",
    "some_list = [Sparts_4_2[x] for x in [2,4,6,8]]\n",
    "print(some_list)\n",
    "print(\"The greatest element in the list is\")\n",
    "greatest = Superpartitions.give_greatest_spart(some_list)\n",
    "print(greatest)"
   ]
  },
  {
   "cell_type": "markdown",
   "metadata": {},
   "source": [
    "#### `Superpartitions.sort_by_dominance( list_of_spart )`\n",
    "allows to sort a list of superpartitions according to dominance. Non-comparable superpartitions are sorted in lexicographic order."
   ]
  },
  {
   "cell_type": "code",
   "execution_count": 107,
   "metadata": {},
   "outputs": [
    {
     "name": "stdout",
     "output_type": "stream",
     "text": [
      "[[[3, 0], [1]], [[2, 0], [2]], [[1, 0], [3]], [[1, 0], [1, 1, 1]]]\n",
      "once sorted :\n",
      "[[[3, 0], [1]], [[1, 0], [3]], [[2, 0], [2]], [[1, 0], [1, 1, 1]]]\n"
     ]
    }
   ],
   "source": [
    "print(some_list)\n",
    "sorted_list = Superpartitions.sort_by_dominance(some_list)\n",
    "print(\"once sorted :\")\n",
    "print(sorted_list)"
   ]
  },
  {
   "cell_type": "markdown",
   "metadata": {},
   "source": [
    "## Symmetric superpolynomials\n",
    "We now introduce the space of symmetric superpolynomials. We first define the space:"
   ]
  },
  {
   "cell_type": "code",
   "execution_count": 108,
   "metadata": {},
   "outputs": [
    {
     "data": {
      "text/plain": [
       "Symmetric superfunctions over Rational Field"
      ]
     },
     "execution_count": 108,
     "metadata": {},
     "output_type": "execute_result"
    }
   ],
   "source": [
    "Sym = SymSuperfunctionsAlgebra(QQ)\n",
    "Sym"
   ]
  },
  {
   "cell_type": "markdown",
   "metadata": {},
   "source": [
    "We could have declared it with another coefficient ring, such as `ZZ`, but many things would fail because  their connection with the powersum basis (which is not a basis over  $\\mathbb{Z}$).\n"
   ]
  },
  {
   "cell_type": "markdown",
   "metadata": {},
   "source": [
    "### The monomial basis\n",
    "Now this allows us to define the basis over the ring. For instance, one can introduce the monomial basis like so:"
   ]
  },
  {
   "cell_type": "code",
   "execution_count": 109,
   "metadata": {},
   "outputs": [
    {
     "data": {
      "text/plain": [
       "Symmetric superfunctions over Rational Field in the Monomial basis"
      ]
     },
     "execution_count": 109,
     "metadata": {},
     "output_type": "execute_result"
    }
   ],
   "source": [
    "m = Sym.Monomial()\n",
    "m"
   ]
  },
  {
   "cell_type": "markdown",
   "metadata": {},
   "source": [
    "We can now write an expression in the monomial basis:"
   ]
  },
  {
   "cell_type": "code",
   "execution_count": 110,
   "metadata": {},
   "outputs": [
    {
     "name": "stdout",
     "output_type": "stream",
     "text": [
      "3*m[[3, 2], [1, 1]] + 5/2*m[[3, 0], [2, 2]]\n"
     ]
    }
   ],
   "source": [
    "Sparts = Superpartitions()\n",
    "spart1 = Sparts([[3,2],[1,1]])\n",
    "spart2 = Sparts([[3,0],[2,2]])\n",
    "some_expr = 3*m(spart1) + 5/2*m(spart2)\n",
    "print(some_expr)"
   ]
  },
  {
   "cell_type": "markdown",
   "metadata": {},
   "source": [
    "Now you see that we have defined two superpartition-type object to create our element of basis. When doing large scripts this is the way to go ( that is `m( superpartition )`). But when experimenting directly, it is rather cumbersome to define superpartitions, that's why abuse of notation is allowed. One could equally write the following:"
   ]
  },
  {
   "cell_type": "code",
   "execution_count": 111,
   "metadata": {},
   "outputs": [
    {
     "name": "stdout",
     "output_type": "stream",
     "text": [
      "3*m[[3, 2], [1, 1]] + 5/2*m[[3, 0], [2, 2]]\n"
     ]
    }
   ],
   "source": [
    "easier_to_write = 3*m[[3,2],[1,1]] + 5/2*m[[3,0],[2,2]]\n",
    "print(easier_to_write)"
   ]
  },
  {
   "cell_type": "markdown",
   "metadata": {},
   "source": [
    "Incidentally, this also allows copy-and-paste of printed results as valid sage expressions. Now back to the monomial basis, the product of two monomials is implemented:"
   ]
  },
  {
   "cell_type": "code",
   "execution_count": 112,
   "metadata": {},
   "outputs": [
    {
     "name": "stdout",
     "output_type": "stream",
     "text": [
      "2/3*m[[2, 0], [2, 1, 1]] + 3*m[[1, 0], [3, 2]]\n",
      "Result of left multiplication by m[[1],[]]\n",
      "-2/3*m[[2, 1, 0], [2, 1, 1]] + 2/3*m[[3, 2, 0], [1, 1]] + 3*m[[3, 1, 0], [3]] + 3*m[[4, 1, 0], [2]]\n"
     ]
    }
   ],
   "source": [
    "my_pol = 3*m[[1,0],[3,2]] + 2/3*m[[2,0],[2,1,1]]\n",
    "print(my_pol)\n",
    "print('Result of left multiplication by m[[1],[]]')\n",
    "my_other_pol = m[[1],[]]*my_pol\n",
    "print(my_other_pol)"
   ]
  },
  {
   "cell_type": "markdown",
   "metadata": {},
   "source": [
    "As to the expansion of the monomial in the supercommutative variables, this should be implemented shortly. "
   ]
  },
  {
   "cell_type": "markdown",
   "metadata": {},
   "source": [
    "### Mutliplicative bases\n",
    "We introduce the other three multiplicative basis respectively the power-sum, elementary and completely homogeneous bases:"
   ]
  },
  {
   "cell_type": "code",
   "execution_count": 113,
   "metadata": {},
   "outputs": [
    {
     "name": "stdout",
     "output_type": "stream",
     "text": [
      "Symmetric superfunctions over Rational Field in the Powersum basis\n",
      "Symmetric superfunctions over Rational Field in the Elementary basis\n",
      "Symmetric superfunctions over Rational Field in the Homogeneous basis\n"
     ]
    }
   ],
   "source": [
    "p = Sym.Powersum()\n",
    "e = Sym.Elementary()\n",
    "h = Sym.Homogeneous()\n",
    "print(p); print(e); print(h)"
   ]
  },
  {
   "cell_type": "markdown",
   "metadata": {},
   "source": [
    "To define elements of this basis, it works the same as with monomials. You can either declare `p( a_superpartition )` or write directely `p[[...], [...]]`"
   ]
  },
  {
   "cell_type": "code",
   "execution_count": 114,
   "metadata": {},
   "outputs": [
    {
     "name": "stdout",
     "output_type": "stream",
     "text": [
      "1/4*p[[1, 0], [2, 2]] + 3*p[[3, 2], []]\n",
      "1/4*e[[1, 0], [2, 2]] + 3*e[[3, 2], []]\n",
      "1/4*h[[1, 0], [2, 2]] + 3*h[[3, 2], []]\n"
     ]
    }
   ],
   "source": [
    "pol_in_p = 1/4*p[[1,0],[2,2]] + 3*p[[3,2], []]\n",
    "pol_in_e = 1/4*e[[1,0],[2,2]] + 3*e[[3,2], []]\n",
    "pol_in_h = 1/4*h[[1,0],[2,2]] + 3*h[[3,2], []]\n",
    "print(pol_in_p)\n",
    "print(pol_in_e)\n",
    "print(pol_in_h)"
   ]
  },
  {
   "cell_type": "markdown",
   "metadata": {},
   "source": [
    "The proper multiplication rules works out of the box:"
   ]
  },
  {
   "cell_type": "code",
   "execution_count": 115,
   "metadata": {},
   "outputs": [
    {
     "name": "stdout",
     "output_type": "stream",
     "text": [
      "1/4*p[[2, 1, 0], [2, 2]]\n",
      "1/4*e[[2, 1, 0], [2, 2]]\n",
      "1/4*h[[2, 1, 0], [2, 2]]\n"
     ]
    }
   ],
   "source": [
    "print(p[[2],[]]*pol_in_p)\n",
    "print(e[[2],[]]*pol_in_e)\n",
    "print(h[[2],[]]*pol_in_h)"
   ]
  },
  {
   "cell_type": "markdown",
   "metadata": {},
   "source": [
    "It has to be noted that the basis indexed by the empty partition is considered to be unity (which differs from `p[[],[]] <-> 0` convention that we have in many formulas.)"
   ]
  },
  {
   "cell_type": "code",
   "execution_count": 116,
   "metadata": {},
   "outputs": [
    {
     "name": "stdout",
     "output_type": "stream",
     "text": [
      "1/4*p[[1, 0], [2, 2]] + 3*p[[3, 2], []]\n",
      "1/4*e[[1, 0], [2, 2]] + 3*e[[3, 2], []]\n",
      "1/4*h[[1, 0], [2, 2]] + 3*h[[3, 2], []]\n"
     ]
    }
   ],
   "source": [
    "print(p[[],[]]*pol_in_p)\n",
    "print(e[[],[]]*pol_in_e)\n",
    "print(h[[],[]]*pol_in_h)"
   ]
  },
  {
   "cell_type": "markdown",
   "metadata": {},
   "source": [
    "### Change of basis\n",
    "To obtain an expression on another basis is achieved by the following syntax:\n",
    "\n",
    "`new_basis( expr )`\n",
    "\n",
    "He are some examples :"
   ]
  },
  {
   "cell_type": "code",
   "execution_count": 117,
   "metadata": {},
   "outputs": [
    {
     "name": "stdout",
     "output_type": "stream",
     "text": [
      "1/2*m[[2, 1], [1]] + m[[2, 0], [2]]\n",
      "1/2*p[[2, 1], [1]] + p[[2, 0], [2]] - 1/2*p[[3, 1], []] - p[[4, 0], []]\n"
     ]
    }
   ],
   "source": [
    "my_expr = m[[2,0],[2]] + 1/2*m[[2,1],[1]]\n",
    "print(my_expr)\n",
    "my_expr_p = p(my_expr)\n",
    "print(my_expr_p)"
   ]
  },
  {
   "cell_type": "markdown",
   "metadata": {},
   "source": [
    "Comparision between expressions on different basis is a valid operation:"
   ]
  },
  {
   "cell_type": "code",
   "execution_count": 118,
   "metadata": {},
   "outputs": [
    {
     "name": "stdout",
     "output_type": "stream",
     "text": [
      "True\n"
     ]
    }
   ],
   "source": [
    "print(my_expr == my_expr_p)"
   ]
  },
  {
   "cell_type": "markdown",
   "metadata": {},
   "source": [
    "The implementation of change of basis is not lighting fast, but it seems sufficiently fast for most research purposes. \n",
    "\n",
    "Now the fact that we can compare two expressions expressed on different bases comes from the coercion model of Sage. The coercion is some kind of automatic conversion that allows one to make operations that make sense mathematically without having to explicitely program what is meant by this operation. For instance, you can multiply two different basis:"
   ]
  },
  {
   "cell_type": "code",
   "execution_count": 119,
   "metadata": {},
   "outputs": [
    {
     "data": {
      "text/plain": [
       "-p[[3, 1], [2, 1, 1, 1]] + p[[3, 1], [3, 1, 1]] + p[[4, 1], [2, 1, 1]] + p[[5, 1], [1, 1, 1]] - 2*p[[6, 1], [1, 1]]"
      ]
     },
     "execution_count": 119,
     "metadata": {},
     "output_type": "execute_result"
    }
   ],
   "source": [
    "p[[1],[1,1]]*m[[3],[2,1]]"
   ]
  },
  {
   "cell_type": "markdown",
   "metadata": {},
   "source": [
    "So for example, we can test the relations (1.28-1.30) quite explicitely. Let us verify\n",
    "$$\n",
    "5 h_5 = \\sum_{r=1}^5 p_r h_{5-r}\n",
    "$$"
   ]
  },
  {
   "cell_type": "code",
   "execution_count": 120,
   "metadata": {},
   "outputs": [
    {
     "name": "stdout",
     "output_type": "stream",
     "text": [
      "5*h[[], [5]]\n"
     ]
    }
   ],
   "source": [
    "# We first evaluate the right hand side (in python range(a,b) = [a,a+1, ..., b-1])\n",
    "rhs = sum(p[[],[r]]*h[[],[5-r]] for r in range(1,6))\n",
    "# We convert the sum to the basis h and print the result\n",
    "print(h(rhs))"
   ]
  },
  {
   "cell_type": "markdown",
   "metadata": {},
   "source": [
    "Which was expected. We now evaluate\n",
    "$$\n",
    "6\\tilde{h}_5 = \\sum_{r=0}^5 p_r \\tilde{h}_{n-r} + (r+1)\\tilde{p}_rh_{n-r}\n",
    "$$\n",
    "Note that we split the sum in two since the program evaluates `p[[],[]]` as the identity instead of 0. "
   ]
  },
  {
   "cell_type": "code",
   "execution_count": 121,
   "metadata": {},
   "outputs": [
    {
     "name": "stdout",
     "output_type": "stream",
     "text": [
      "6*h[[5], []]\n"
     ]
    }
   ],
   "source": [
    "sum1 = sum(p[[],[r]]*h[[5-r],[]] for r in range(1,6))  \n",
    "sum2 = sum((r+1)*p[[r],[]]*h[[],[5-r]] for r in range(0,6))\n",
    "print(h(sum1+sum2))"
   ]
  },
  {
   "cell_type": "markdown",
   "metadata": {},
   "source": [
    "as expected. Finally, we evaluate the following\n",
    "$$\n",
    "(6+1)\\tilde{e}_n = \\sum_{r=0}^n (-1)^{r+1}\\left[ p_r\\tilde{e}_{6-r}\n",
    "- (r+1)\\tilde{p}_r e_{6-r} \\right]\n",
    "$$"
   ]
  },
  {
   "cell_type": "code",
   "execution_count": 122,
   "metadata": {},
   "outputs": [
    {
     "name": "stdout",
     "output_type": "stream",
     "text": [
      "7*e[[6], []]\n"
     ]
    }
   ],
   "source": [
    "sum1 = sum((-1)**(r+1)*p[[],[r]]*e[[6-r],[]] for r in range(1,7))  \n",
    "sum2 = sum((-1)**(r+1)*(r+1)*p[[r],[]]*e[[],[6-r]] for r in range(0,7))\n",
    "print(e(sum1-sum2))"
   ]
  },
  {
   "cell_type": "markdown",
   "metadata": {},
   "source": [
    "which is again the expected result.  "
   ]
  },
  {
   "cell_type": "markdown",
   "metadata": {},
   "source": [
    "### Ring homomorphism I\n",
    "The $\\hat{\\omega}$ homomorphism is define on every basis. \n",
    "You can obtain the result of the involution with `expr.omega()`, it will return the effect of the homomorphism on the same basis you started from. Here is an exemple:"
   ]
  },
  {
   "cell_type": "code",
   "execution_count": 123,
   "metadata": {},
   "outputs": [
    {
     "name": "stdout",
     "output_type": "stream",
     "text": [
      "We have the following superpolynomial\n",
      "1/4*e[[1, 0], [2, 2]] + 3*e[[3, 2], []]\n",
      "We apply the omega homomoprhism\n",
      "-13/4*e[[1, 0], [1, 1, 1, 1]] + 1/2*e[[1, 0], [2, 1, 1]] - 49/4*e[[1, 0], [2, 2]] + 6*e[[2, 0], [1, 1, 1]] - 3*e[[2, 1], [1, 1]] + 6*e[[2, 0], [2, 1]] - 6*e[[2, 1], [2]] + 12*e[[1, 0], [3, 1]] + 6*e[[3, 1], [1]] - 6*e[[2, 0], [3]] - 9*e[[3, 0], [1, 1]] + 6*e[[3, 0], [2]] - 3*e[[3, 2], []]\n",
      "We then convert the result to the homogeneous basis\n",
      "1/4*h[[1, 0], [2, 2]] + 3*h[[3, 2], []]\n"
     ]
    }
   ],
   "source": [
    "print('We have the following superpolynomial')\n",
    "print(pol_in_e)\n",
    "print('We apply the omega homomoprhism')\n",
    "print(pol_in_e.omega())\n",
    "print('We then convert the result to the homogeneous basis')\n",
    "print(h(pol_in_e.omega()))"
   ]
  },
  {
   "cell_type": "markdown",
   "metadata": {},
   "source": [
    "The operation is well defined on expression in any basis here is an example on the powersum basis:"
   ]
  },
  {
   "cell_type": "code",
   "execution_count": 124,
   "metadata": {},
   "outputs": [
    {
     "name": "stdout",
     "output_type": "stream",
     "text": [
      "1/2*p[[1, 0], [3, 2, 1]] + p[[2, 0], [3, 2]]\n",
      "Result of omega:\n"
     ]
    },
    {
     "data": {
      "text/plain": [
       "1/2*p[[1, 0], [3, 2, 1]] - p[[2, 0], [3, 2]]"
      ]
     },
     "execution_count": 124,
     "metadata": {},
     "output_type": "execute_result"
    }
   ],
   "source": [
    "an_expr = p[[2,0],[3,2]] + 1/2*p[[1,0],[3,2,1]]\n",
    "print(an_expr)\n",
    "print('Result of omega:')\n",
    "an_expr.omega()"
   ]
  },
  {
   "cell_type": "markdown",
   "metadata": {},
   "source": [
    "### A scalar product\n",
    "We now introduce the `expr.scalar_product(other_expr)` method. Here is an example of usage: "
   ]
  },
  {
   "cell_type": "code",
   "execution_count": 125,
   "metadata": {},
   "outputs": [
    {
     "name": "stdout",
     "output_type": "stream",
     "text": [
      "19\n",
      "5/2*p[[3, 2, 1], [1]] + 2*p[[4, 2, 1], []] + p[[6, 1, 0], []]\n",
      "13*p[[4, 2, 0], [1]] + 33*p[[4, 2, 1], []] + p[[6, 1, 0], []]\n",
      "We now evaluate the scalar product between those two\n"
     ]
    },
    {
     "data": {
      "text/plain": [
       "67"
      ]
     },
     "execution_count": 125,
     "metadata": {},
     "output_type": "execute_result"
    }
   ],
   "source": [
    "Sparts_7_3 = Superpartitions(7,3)\n",
    "sparts = list(Sparts_7_3)\n",
    "print(len(sparts))\n",
    "expr1 = p(sparts[0]) + 2*p(sparts[3]) + 5/2*p(sparts[6])\n",
    "expr2 = p(sparts[0]) + 33*p(sparts[3]) + 13*p(sparts[5])\n",
    "print(expr1)\n",
    "print(expr2)\n",
    "print('We now evaluate the scalar product between those two')\n",
    "expr1.scalar_product(expr2)"
   ]
  },
  {
   "cell_type": "markdown",
   "metadata": {},
   "source": [
    "The method is well defined for any two basis. So for instance you can do the following:"
   ]
  },
  {
   "cell_type": "code",
   "execution_count": 126,
   "metadata": {},
   "outputs": [
    {
     "data": {
      "text/plain": [
       "23"
      ]
     },
     "execution_count": 126,
     "metadata": {},
     "output_type": "execute_result"
    }
   ],
   "source": [
    "expr_m = m[[3,0],[1,1]] + m[[3,1],[1]]+ m[[1,0],[1,1,1,1]]\n",
    "expr_p = p[[5,0],[]] + p[[1,0],[2,1,1]] + 22*p[[1,0],[1,1,1,1]]\n",
    "expr_m.scalar_product(expr_p)"
   ]
  },
  {
   "cell_type": "markdown",
   "metadata": {},
   "source": [
    "Note that the implemented scalar product is always positive definite. The reason for this is that since \n",
    "$$ < p_\\Lambda | p_\\Lambda > = (-1)^{\\binom{m}{2}}z_\\Lambda $$\n",
    "the sign is constant accros a single fermionic sector (indexed by the value of $m$).\n",
    "Since we usualy deal with scalar products between elements of the same sector (that is, homogeneous superpolynomials) this has no incidence. \n",
    "\n",
    "We add examples illustrating some properties. First, the monomial and the homogeneous are dual with respect to the scalar product:"
   ]
  },
  {
   "cell_type": "code",
   "execution_count": 127,
   "metadata": {},
   "outputs": [
    {
     "name": "stdout",
     "output_type": "stream",
     "text": [
      "[1, 1, 1, 1, 1, 1, 1, 1, 1, 1, 1, 1, 1, 1, 1, 1, 1, 1, 1, 1, 1, 1, 1, 1, 1, 1, 1, 1, 1, 1, 1, 1, 1]\n"
     ]
    }
   ],
   "source": [
    "# We generate the set of superpartitions with 8 boxes and 3 circles\n",
    "spart_set = Superpartitions(8,3)\n",
    "# We take the scalar product between m_\\Lambda and h_\\Lambda for \n",
    "# every \\Lambda in that set. The scalar product are store in a list.\n",
    "scals = [m(spart).scalar_product(h(spart)) for spart in spart_set]\n",
    "print(scals)"
   ]
  },
  {
   "cell_type": "markdown",
   "metadata": {},
   "source": [
    "It is known that the elementary basis is dual to the forgotten basis. \n",
    "Even though the later is not explicitely programmed, we can test that property by assuming $f_\\Lambda = \\hat{\\omega}(m_\\Lambda)$. \n",
    "Note that the following snipet of code might take a minute to execute. \n",
    "This is because, for every partition, the monomial has to be converted to powersums in order to apply the $\\hat{\\omega}$ involution and then converted back into monomials and back into powersum to evaluate the scalar product with $e_\\Lambda$ which itself has to be converted to powersum in the process. \n",
    "If the forgotten basis is implemented in the future, this whole process should be much faster. \n",
    "For now though, the implementation of the forgotten basis is not a priority. "
   ]
  },
  {
   "cell_type": "code",
   "execution_count": 128,
   "metadata": {},
   "outputs": [
    {
     "name": "stdout",
     "output_type": "stream",
     "text": [
      "[1, 1, 1, 1, 1, 1, 1, 1, 1, 1, 1, 1, 1, 1, 1, 1, 1, 1, 1, 1, 1, 1, 1, 1, 1, 1, 1, 1, 1, 1, 1, 1, 1]\n"
     ]
    }
   ],
   "source": [
    "# Generate some set\n",
    "Sparts = Superpartitions(4,2)\n",
    "scals = [m(spart).omega().scalar_product(e(spart)) for spart in spart_set]\n",
    "print(scals)"
   ]
  },
  {
   "cell_type": "markdown",
   "metadata": {},
   "source": [
    "### The one parameter space of symmetric superfunctions\n",
    "We now want to define our superpolynomial ring over rational polynomials in one variable, namely $\\alpha$. To do so, we have to introduce the ring like so"
   ]
  },
  {
   "cell_type": "code",
   "execution_count": 129,
   "metadata": {},
   "outputs": [
    {
     "name": "stdout",
     "output_type": "stream",
     "text": [
      "Fraction Field of Univariate Polynomial Ring in alpha over Rational Field\n",
      "Symmetric superfunctions over Fraction Field of Univariate Polynomial Ring in alpha over Rational Field\n",
      "Defining m as shorthand for Symmetric superfunctions over Fraction Field of Univariate Polynomial Ring in alpha over Rational Field in the Monomial basis\n",
      "Defining h as shorthand for Symmetric superfunctions over Fraction Field of Univariate Polynomial Ring in alpha over Rational Field in the Homogeneous basis\n",
      "Defining p as shorthand for Symmetric superfunctions over Fraction Field of Univariate Polynomial Ring in alpha over Rational Field in the Powersum basis\n",
      "Defining e as shorthand for Symmetric superfunctions over Fraction Field of Univariate Polynomial Ring in alpha over Rational Field in the Elementary basis\n"
     ]
    }
   ],
   "source": [
    "# We first define the coefficient ring\n",
    "# Note that we add .fracion_field() so that it is allowed to \n",
    "# write expressions such as (alpha+1)/(3*alpha+2)\n",
    "QQalpha = QQ['alpha'].fraction_field()\n",
    "print(QQalpha)\n",
    "# We can now introduce the symmetric functions\n",
    "Sym_alpha = SymSuperfunctionsAlgebra(QQalpha)\n",
    "print(Sym_alpha)\n",
    "# We inject the basis definitions\n",
    "Sym_alpha.inject_shorthands()"
   ]
  },
  {
   "cell_type": "markdown",
   "metadata": {},
   "source": [
    "From there, it is now possible to define polynomials with coefficients including $\\alpha$. Even though the ring knows the existence of the symbol $\\alpha$, \n",
    "we must assign the symbol to a variable to directly write expressions with it:"
   ]
  },
  {
   "cell_type": "code",
   "execution_count": 130,
   "metadata": {},
   "outputs": [
    {
     "name": "stdout",
     "output_type": "stream",
     "text": [
      "alpha\n",
      "alpha^2 + 2*alpha\n"
     ]
    }
   ],
   "source": [
    "alpha = QQalpha.gen()\n",
    "# Now the variable alpha is associated with the symbol alpha\n",
    "print(alpha)\n",
    "# And so we can write expressions out of it\n",
    "print(alpha**2 + 2*alpha)"
   ]
  },
  {
   "cell_type": "markdown",
   "metadata": {},
   "source": [
    "And so, we are now able to introduce superpolynomials with coeffients as functions of $\\alpha$: "
   ]
  },
  {
   "cell_type": "code",
   "execution_count": 131,
   "metadata": {},
   "outputs": [
    {
     "name": "stdout",
     "output_type": "stream",
     "text": [
      "(3*alpha/(2*alpha+2))*m[[1, 0], [2, 1]] + m[[2, 0], [1, 1]]\n"
     ]
    }
   ],
   "source": [
    "my_alpha_pol = m[[2,0],[1,1]] + 3*alpha/(2*alpha+2)*m[[1,0],[2,1]]\n",
    "print(my_alpha_pol)"
   ]
  },
  {
   "cell_type": "markdown",
   "metadata": {},
   "source": [
    "### One paremeter deformation of the scalar product\n",
    "Now that we have a proper ring, we can introduce a new scalar product. "
   ]
  },
  {
   "cell_type": "code",
   "execution_count": 132,
   "metadata": {},
   "outputs": [
    {
     "data": {
      "text/plain": [
       "6*alpha^5 + 3*alpha^4"
      ]
     },
     "execution_count": 132,
     "metadata": {},
     "output_type": "execute_result"
    }
   ],
   "source": [
    "my_expr = p[[2,0],[3,1]] + p[[1,0],[3,1,1]]\n",
    "my_expr.scalar_alpha(my_expr)"
   ]
  },
  {
   "cell_type": "markdown",
   "metadata": {},
   "source": [
    "Note that again, this is well defined for any classical basis:"
   ]
  },
  {
   "cell_type": "code",
   "execution_count": 133,
   "metadata": {},
   "outputs": [
    {
     "data": {
      "text/plain": [
       "3*alpha^7 + 4*alpha^6 + 14*alpha^5 + 30*alpha^4 + 26*alpha^3 + 8*alpha^2"
      ]
     },
     "execution_count": 133,
     "metadata": {},
     "output_type": "execute_result"
    }
   ],
   "source": [
    "my_mono_expr = (2*(alpha + 1)*m[[2,0],[1,1]] +\n",
    "                alpha**2*m[[1,0],[3]])\n",
    "my_mono_expr.scalar_alpha(my_mono_expr)"
   ]
  },
  {
   "cell_type": "markdown",
   "metadata": {},
   "source": [
    "### The $alpha$-deformed homogeneous basis\n",
    "We now introduce the $g_\\Lambda$ basis, it is introduced as `galpha`. \n",
    "\n",
    "So let us define, the space"
   ]
  },
  {
   "cell_type": "code",
   "execution_count": 134,
   "metadata": {},
   "outputs": [
    {
     "name": "stdout",
     "output_type": "stream",
     "text": [
      "Defining m as shorthand for Symmetric superfunctions over Fraction Field of Univariate Polynomial Ring in alpha over Rational Field in the Monomial basis\n",
      "Defining h as shorthand for Symmetric superfunctions over Fraction Field of Univariate Polynomial Ring in alpha over Rational Field in the Homogeneous basis\n",
      "Defining p as shorthand for Symmetric superfunctions over Fraction Field of Univariate Polynomial Ring in alpha over Rational Field in the Powersum basis\n",
      "Defining e as shorthand for Symmetric superfunctions over Fraction Field of Univariate Polynomial Ring in alpha over Rational Field in the Elementary basis\n"
     ]
    }
   ],
   "source": [
    "QQa = QQ['alpha'].fraction_field()\n",
    "Syma = SymSuperfunctionsAlgebra(QQa)\n",
    "Syma.inject_shorthands()"
   ]
  },
  {
   "cell_type": "markdown",
   "metadata": {},
   "source": [
    "We now define the `galpha` basis"
   ]
  },
  {
   "cell_type": "code",
   "execution_count": 135,
   "metadata": {},
   "outputs": [
    {
     "data": {
      "text/plain": [
       "Symmetric superfunctions over Fraction Field of Univariate Polynomial Ring in alpha over Rational Field in the Galpha basis"
      ]
     },
     "execution_count": 135,
     "metadata": {},
     "output_type": "execute_result"
    }
   ],
   "source": [
    "galpha = Syma.Galpha()\n",
    "galpha"
   ]
  },
  {
   "cell_type": "markdown",
   "metadata": {},
   "source": [
    "It works just like any other basis:"
   ]
  },
  {
   "cell_type": "code",
   "execution_count": 136,
   "metadata": {},
   "outputs": [
    {
     "name": "stdout",
     "output_type": "stream",
     "text": [
      "galpha[[4], [1]]\n",
      "120/(24*alpha^6)*m[[0], [1, 1, 1, 1, 1]] + ((576*alpha+720)/(144*alpha^6))*m[[1], [1, 1, 1, 1]] + ((144*alpha+240)/(96*alpha^6))*m[[0], [2, 1, 1, 1]] + ((1152*alpha^2+4032*alpha+2880)/(1152*alpha^6))*m[[1], [2, 1, 1]] + ((3456*alpha^2+6336*alpha+2880)/(1152*alpha^6))*m[[2], [1, 1, 1]] + ((192*alpha^2+1152*alpha+960)/(768*alpha^6))*m[[0], [2, 2, 1]] + ((192*alpha^2+432*alpha+240)/(288*alpha^6))*m[[0], [3, 1, 1]] + ((11520*alpha^2+23040*alpha+11520)/(9216*alpha^6))*m[[1], [2, 2]] + ((18432*alpha^3+101376*alpha^2+129024*alpha+46080)/(36864*alpha^6))*m[[2], [2, 1]] + ((3456*alpha^3+17280*alpha^2+22464*alpha+8640)/(10368*alpha^6))*m[[1], [3, 1]] + ((1344*alpha^2+2304*alpha+960)/(2304*alpha^6))*m[[0], [3, 2]] + ((13824*alpha^3+32256*alpha^2+24192*alpha+5760)/(6912*alpha^6))*m[[3], [1, 1]] + ((276480*alpha^3+691200*alpha^2+552960*alpha+138240)/(331776*alpha^6))*m[[2], [3]] + ((2304*alpha^3+7296*alpha^2+6912*alpha+1920)/(9216*alpha^6))*m[[0], [4, 1]] + ((165888*alpha^3+340992*alpha^2+221184*alpha+46080)/(110592*alpha^6))*m[[3], [2]] + ((193536*alpha^3+428544*alpha^2+304128*alpha+69120)/(331776*alpha^6))*m[[1], [4]] + ((1327104*alpha^4+4091904*alpha^3+4368384*alpha^2+1880064*alpha+276480)/(1327104*alpha^6))*m[[4], [1]] + ((2304*alpha^3+4224*alpha^2+2304*alpha+384)/(9216*alpha^6))*m[[0], [5]] + ((1327104*alpha^4+2764800*alpha^3+1935360*alpha^2+552960*alpha+55296)/(1327104*alpha^6))*m[[5], []]\n"
     ]
    }
   ],
   "source": [
    "MyPol = galpha[[4],[1]]\n",
    "print(MyPol)\n",
    "MyPol_in_m = m(MyPol)\n",
    "print(MyPol_in_m)"
   ]
  },
  {
   "cell_type": "markdown",
   "metadata": {},
   "source": [
    "Now we see here that the result of the conversion to the monomial basis looks rather messy. Sage does not provide a built-in way of factoring the coefficient of monomials, but one has been implemented. We easily obtain a more readable expression by typing `expr.collect()`: "
   ]
  },
  {
   "cell_type": "code",
   "execution_count": 137,
   "metadata": {},
   "outputs": [
    {
     "data": {
      "text/plain": [
       "5/alpha^6*m[[0], [1, 1, 1, 1, 1]] + ((4*alpha+5)/alpha^6)*m[[1], [1, 1, 1, 1]] + ((3*alpha+5)/(2*alpha^6))*m[[0], [2, 1, 1, 1]] + ((2*alpha^2+7*alpha+5)/(2*alpha^6))*m[[1], [2, 1, 1]] + ((5*alpha^2+10*alpha+5)/(4*alpha^6))*m[[1], [2, 2]] + ((6*alpha^2+11*alpha+5)/(2*alpha^6))*m[[2], [1, 1, 1]] + ((alpha^2+6*alpha+5)/(4*alpha^6))*m[[0], [2, 2, 1]] + ((2*alpha^3+11*alpha^2+14*alpha+5)/(4*alpha^6))*m[[2], [2, 1]] + ((4*alpha^2+9*alpha+5)/(6*alpha^6))*m[[0], [3, 1, 1]] + ((2*alpha^3+10*alpha^2+13*alpha+5)/(6*alpha^6))*m[[1], [3, 1]] + ((7*alpha^2+12*alpha+5)/(12*alpha^6))*m[[0], [3, 2]] + ((10*alpha^3+25*alpha^2+20*alpha+5)/(12*alpha^6))*m[[2], [3]] + ((12*alpha^3+28*alpha^2+21*alpha+5)/(6*alpha^6))*m[[3], [1, 1]] + ((6*alpha^3+19*alpha^2+18*alpha+5)/(24*alpha^6))*m[[0], [4, 1]] + ((18*alpha^3+37*alpha^2+24*alpha+5)/(12*alpha^6))*m[[3], [2]] + ((14*alpha^3+31*alpha^2+22*alpha+5)/(24*alpha^6))*m[[1], [4]] + ((24*alpha^4+74*alpha^3+79*alpha^2+34*alpha+5)/(24*alpha^6))*m[[4], [1]] + ((6*alpha^3+11*alpha^2+6*alpha+1)/(24*alpha^6))*m[[0], [5]] + ((24*alpha^4+50*alpha^3+35*alpha^2+10*alpha+1)/(24*alpha^6))*m[[5], []]"
      ]
     },
     "execution_count": 137,
     "metadata": {},
     "output_type": "execute_result"
    }
   ],
   "source": [
    "MyPol_in_m.collect()"
   ]
  },
  {
   "cell_type": "markdown",
   "metadata": {},
   "source": [
    "which is a little bit better. It not quite what we are looking for yet, but I will make progress on the presention front later. \n",
    "\n",
    "Now, let us illustrate the orthonormality property: "
   ]
  },
  {
   "cell_type": "code",
   "execution_count": 138,
   "metadata": {},
   "outputs": [
    {
     "name": "stdout",
     "output_type": "stream",
     "text": [
      "[1, 1, 1, 1, 1, 1, 1, 1, 1, 1, 1, 1, 1, 1, 1, 1, 1]\n"
     ]
    }
   ],
   "source": [
    "sparts = Superpartitions(5,2)\n",
    "scals = [m(spart).scalar_alpha(galpha(spart)) for spart in sparts]\n",
    "print(scals)"
   ]
  },
  {
   "cell_type": "markdown",
   "metadata": {},
   "source": [
    "### Ring homomorphism II\n",
    "We now introduce the $\\alpha$-deformation of the endomorphism $\\hat{\\omega}$, namely $\\hat{\\omega}_\\alpha$. To call it, you simply use the following formulation `expr.omega_alpha()`: "
   ]
  },
  {
   "cell_type": "code",
   "execution_count": 139,
   "metadata": {},
   "outputs": [
    {
     "name": "stdout",
     "output_type": "stream",
     "text": [
      "alpha^6*p[[1, 0], [2, 1, 1, 1]] - 32*alpha^3*p[[2, 1], [3]]\n"
     ]
    }
   ],
   "source": [
    "my_expr = p[[1,0],[2,1,1,1]] + 32*p[[2,1],[3]]\n",
    "omega_expr = my_expr.omega_alpha()\n",
    "print(omega_expr)"
   ]
  },
  {
   "cell_type": "markdown",
   "metadata": {},
   "source": [
    "To apply the operation, though, you have to make sure that you are indeed working with bases defined from the right coefficient ring, otherwise it will raise an error. "
   ]
  },
  {
   "cell_type": "code",
   "execution_count": 140,
   "metadata": {},
   "outputs": [
    {
     "name": "stdout",
     "output_type": "stream",
     "text": [
      "An error has been raised\n"
     ]
    }
   ],
   "source": [
    "bad_p = SymSuperfunctionsAlgebra(QQ).Powersum()\n",
    "an_expr = bad_p[[1,0],[3]]\n",
    "# We do the error handling here:\n",
    "try:\n",
    "    # It will run this \n",
    "    an_expr.omega_alpha()\n",
    "    # and if it produces an error will execute instructions in except: \n",
    "except:\n",
    "    print(\"An error has been raised\")"
   ]
  },
  {
   "cell_type": "markdown",
   "metadata": {},
   "source": [
    "Now, since the $g_\\Lambda$ basis is the $\\alpha$-deformation of the homogeneous basis, we have the follwoing property\n",
    "$$\\hat{\\omega}_\\alpha(g_\\Lambda) = e_\\Lambda$$\n",
    "As can be seen here: "
   ]
  },
  {
   "cell_type": "code",
   "execution_count": 141,
   "metadata": {},
   "outputs": [
    {
     "name": "stdout",
     "output_type": "stream",
     "text": [
      "galpha[[4, 0], []]\n",
      "We apply omega_alpha\n",
      "e[[4, 0], []]\n",
      "\n",
      "galpha[[3, 1], []]\n",
      "We apply omega_alpha\n",
      "e[[3, 1], []]\n",
      "\n",
      "galpha[[3, 0], [1]]\n",
      "We apply omega_alpha\n",
      "e[[3, 0], [1]]\n",
      "\n",
      "galpha[[2, 1], [1]]\n",
      "We apply omega_alpha\n",
      "e[[2, 1], [1]]\n",
      "\n",
      "galpha[[2, 0], [2]]\n",
      "We apply omega_alpha\n",
      "e[[2, 0], [2]]\n",
      "\n",
      "galpha[[2, 0], [1, 1]]\n",
      "We apply omega_alpha\n",
      "e[[2, 0], [1, 1]]\n",
      "\n",
      "galpha[[1, 0], [3]]\n",
      "We apply omega_alpha\n",
      "e[[1, 0], [3]]\n",
      "\n",
      "galpha[[1, 0], [2, 1]]\n",
      "We apply omega_alpha\n",
      "e[[1, 0], [2, 1]]\n",
      "\n",
      "galpha[[1, 0], [1, 1, 1]]\n",
      "We apply omega_alpha\n",
      "e[[1, 0], [1, 1, 1]]\n",
      "\n"
     ]
    }
   ],
   "source": [
    "sparts = Superpartitions(4,2)\n",
    "for spart in sparts:\n",
    "    expr = galpha(spart)\n",
    "    print(expr)\n",
    "    print(\"We apply omega_alpha\")\n",
    "    om_expr = expr.omega_alpha()\n",
    "    om_expr_in_e = e(om_expr)\n",
    "    print(om_expr_in_e)\n",
    "    print('')"
   ]
  },
  {
   "cell_type": "markdown",
   "metadata": {},
   "source": [
    "and so the test is successful. "
   ]
  },
  {
   "cell_type": "markdown",
   "metadata": {},
   "source": [
    "# Jack superpolynomials\n",
    "## Orthogonality characterization\n",
    "Give the $\\alpha$-scalar product and the dominance ordering on superpartition, one can define the Jack superpolynomials. \n",
    "\n",
    "We now introduce the implementation of those superfunctions. "
   ]
  },
  {
   "cell_type": "code",
   "execution_count": 142,
   "metadata": {},
   "outputs": [
    {
     "name": "stdout",
     "output_type": "stream",
     "text": [
      "Defining m as shorthand for Symmetric superfunctions over Fraction Field of Univariate Polynomial Ring in alpha over Rational Field in the Monomial basis\n",
      "Defining h as shorthand for Symmetric superfunctions over Fraction Field of Univariate Polynomial Ring in alpha over Rational Field in the Homogeneous basis\n",
      "Defining p as shorthand for Symmetric superfunctions over Fraction Field of Univariate Polynomial Ring in alpha over Rational Field in the Powersum basis\n",
      "Defining e as shorthand for Symmetric superfunctions over Fraction Field of Univariate Polynomial Ring in alpha over Rational Field in the Elementary basis\n"
     ]
    }
   ],
   "source": [
    "QQa = FractionField(QQ['alpha'])\n",
    "alpha = QQa.gen()\n",
    "Sym = SymSuperfunctionsAlgebra(QQa)\n",
    "Sym.inject_shorthands()\n",
    "Palpha = Sym.Jack()"
   ]
  },
  {
   "cell_type": "markdown",
   "metadata": {},
   "source": [
    "This basis works like any other basis"
   ]
  },
  {
   "cell_type": "code",
   "execution_count": 143,
   "metadata": {},
   "outputs": [
    {
     "name": "stdout",
     "output_type": "stream",
     "text": [
      "Palpha[[2, 0], [3, 2]] + Palpha[[3, 0], [2, 2]]\n"
     ]
    }
   ],
   "source": [
    "my_expr = Palpha[[2,0],[3,2]] + Palpha[[3,0],[2,2]]\n",
    "print(my_expr)"
   ]
  },
  {
   "cell_type": "markdown",
   "metadata": {},
   "source": [
    "We know from the combinatorial definition that these superpolynomials are triangular on the monomial basis. We illustrate this fact by giving the expansion of the `Palpha`'s on the monomial basis for the sector $(5,3)$"
   ]
  },
  {
   "cell_type": "code",
   "execution_count": 144,
   "metadata": {},
   "outputs": [
    {
     "name": "stdout",
     "output_type": "stream",
     "text": [
      "The Jack for [[4, 1, 0], []] is \n",
      "(2/(2*alpha^2+3*alpha+1))*m[[2, 1, 0], [1, 1]] + (1/(2*alpha+1))*m[[2, 1, 0], [2]] + (2/(2*alpha+1))*m[[3, 1, 0], [1]] + (1/(2*alpha+1))*m[[3, 2, 0], []] + m[[4, 1, 0], []]\n",
      "\n",
      "The Jack for [[3, 2, 0], []] is \n",
      "(1/(alpha^2+2*alpha+1))*m[[2, 1, 0], [1, 1]] + (-alpha/(2*alpha^2+4*alpha+2))*m[[2, 1, 0], [2]] + (1/(alpha+1))*m[[3, 1, 0], [1]] + m[[3, 2, 0], []]\n",
      "\n",
      "The Jack for [[3, 1, 0], [1]] is \n",
      "(2/(alpha+1))*m[[2, 1, 0], [1, 1]] + (1/(alpha+1))*m[[2, 1, 0], [2]] + m[[3, 1, 0], [1]]\n",
      "\n",
      "The Jack for [[2, 1, 0], [2]] is \n",
      "(2/(alpha+2))*m[[2, 1, 0], [1, 1]] + m[[2, 1, 0], [2]]\n",
      "\n",
      "The Jack for [[2, 1, 0], [1, 1]] is \n",
      "m[[2, 1, 0], [1, 1]]\n",
      "\n"
     ]
    }
   ],
   "source": [
    "for a_spart in Superpartitions(5,3):\n",
    "    print(\"The Jack for \" + str(a_spart) + \" is \")\n",
    "    print(m(Palpha(a_spart)))\n",
    "    print('') #Spacing of output"
   ]
  },
  {
   "cell_type": "markdown",
   "metadata": {},
   "source": [
    "We also know that those polynomials are orthogonal:"
   ]
  },
  {
   "cell_type": "code",
   "execution_count": 145,
   "metadata": {},
   "outputs": [
    {
     "name": "stdout",
     "output_type": "stream",
     "text": [
      "[[[5, 1, 0], []], [[4, 2, 0], []]]\n",
      "0\n",
      "\n",
      "[[[5, 1, 0], []], [[3, 2, 1], []]]\n",
      "0\n",
      "\n",
      "[[[5, 1, 0], []], [[4, 1, 0], [1]]]\n",
      "0\n",
      "\n",
      "[[[5, 1, 0], []], [[3, 2, 0], [1]]]\n",
      "0\n",
      "\n",
      "[[[5, 1, 0], []], [[3, 1, 0], [2]]]\n",
      "0\n",
      "\n",
      "[[[5, 1, 0], []], [[3, 1, 0], [1, 1]]]\n",
      "0\n",
      "\n",
      "[[[5, 1, 0], []], [[2, 1, 0], [3]]]\n",
      "0\n",
      "\n",
      "[[[5, 1, 0], []], [[2, 1, 0], [2, 1]]]\n",
      "0\n",
      "\n",
      "[[[5, 1, 0], []], [[2, 1, 0], [1, 1, 1]]]\n",
      "0\n",
      "\n",
      "[[[4, 2, 0], []], [[3, 2, 1], []]]\n",
      "0\n",
      "\n",
      "[[[4, 2, 0], []], [[4, 1, 0], [1]]]\n",
      "0\n",
      "\n",
      "[[[4, 2, 0], []], [[3, 2, 0], [1]]]\n",
      "0\n",
      "\n",
      "[[[4, 2, 0], []], [[3, 1, 0], [2]]]\n",
      "0\n",
      "\n",
      "[[[4, 2, 0], []], [[3, 1, 0], [1, 1]]]\n",
      "0\n",
      "\n",
      "[[[4, 2, 0], []], [[2, 1, 0], [3]]]\n",
      "0\n",
      "\n",
      "[[[4, 2, 0], []], [[2, 1, 0], [2, 1]]]\n",
      "0\n",
      "\n",
      "[[[4, 2, 0], []], [[2, 1, 0], [1, 1, 1]]]\n",
      "0\n",
      "\n",
      "[[[3, 2, 1], []], [[4, 1, 0], [1]]]\n",
      "0\n",
      "\n",
      "[[[3, 2, 1], []], [[3, 2, 0], [1]]]\n",
      "0\n",
      "\n",
      "[[[3, 2, 1], []], [[3, 1, 0], [2]]]\n",
      "0\n",
      "\n",
      "[[[3, 2, 1], []], [[3, 1, 0], [1, 1]]]\n",
      "0\n",
      "\n",
      "[[[3, 2, 1], []], [[2, 1, 0], [3]]]\n",
      "0\n",
      "\n",
      "[[[3, 2, 1], []], [[2, 1, 0], [2, 1]]]\n",
      "0\n",
      "\n",
      "[[[3, 2, 1], []], [[2, 1, 0], [1, 1, 1]]]\n",
      "0\n",
      "\n",
      "[[[4, 1, 0], [1]], [[3, 2, 0], [1]]]\n",
      "0\n",
      "\n",
      "[[[4, 1, 0], [1]], [[3, 1, 0], [2]]]\n",
      "0\n",
      "\n",
      "[[[4, 1, 0], [1]], [[3, 1, 0], [1, 1]]]\n",
      "0\n",
      "\n",
      "[[[4, 1, 0], [1]], [[2, 1, 0], [3]]]\n",
      "0\n",
      "\n",
      "[[[4, 1, 0], [1]], [[2, 1, 0], [2, 1]]]\n",
      "0\n",
      "\n",
      "[[[4, 1, 0], [1]], [[2, 1, 0], [1, 1, 1]]]\n",
      "0\n",
      "\n",
      "[[[3, 2, 0], [1]], [[3, 1, 0], [2]]]\n",
      "0\n",
      "\n",
      "[[[3, 2, 0], [1]], [[3, 1, 0], [1, 1]]]\n",
      "0\n",
      "\n",
      "[[[3, 2, 0], [1]], [[2, 1, 0], [3]]]\n",
      "0\n",
      "\n",
      "[[[3, 2, 0], [1]], [[2, 1, 0], [2, 1]]]\n",
      "0\n",
      "\n",
      "[[[3, 2, 0], [1]], [[2, 1, 0], [1, 1, 1]]]\n",
      "0\n",
      "\n",
      "[[[3, 1, 0], [2]], [[3, 1, 0], [1, 1]]]\n",
      "0\n",
      "\n",
      "[[[3, 1, 0], [2]], [[2, 1, 0], [3]]]\n",
      "0\n",
      "\n",
      "[[[3, 1, 0], [2]], [[2, 1, 0], [2, 1]]]\n",
      "0\n",
      "\n",
      "[[[3, 1, 0], [2]], [[2, 1, 0], [1, 1, 1]]]\n",
      "0\n",
      "\n",
      "[[[3, 1, 0], [1, 1]], [[2, 1, 0], [3]]]\n",
      "0\n",
      "\n",
      "[[[3, 1, 0], [1, 1]], [[2, 1, 0], [2, 1]]]\n",
      "0\n",
      "\n",
      "[[[3, 1, 0], [1, 1]], [[2, 1, 0], [1, 1, 1]]]\n",
      "0\n",
      "\n",
      "[[[2, 1, 0], [3]], [[2, 1, 0], [2, 1]]]\n",
      "0\n",
      "\n",
      "[[[2, 1, 0], [3]], [[2, 1, 0], [1, 1, 1]]]\n",
      "0\n",
      "\n",
      "[[[2, 1, 0], [2, 1]], [[2, 1, 0], [1, 1, 1]]]\n",
      "0\n",
      "\n"
     ]
    }
   ],
   "source": [
    "sparts_set = Superpartitions(6,3)\n",
    "sparts_pairs = Combinations(sparts_set, 2)\n",
    "for a_pair in sparts_pairs:\n",
    "    print(a_pair)\n",
    "    spart1, spart2 = a_pair\n",
    "    scalar_prod = Palpha(spart1).scalar_alpha(Palpha(spart2))\n",
    "    print(scalar_prod)\n",
    "    print('')"
   ]
  },
  {
   "cell_type": "markdown",
   "metadata": {},
   "source": [
    "## Normalization\n"
   ]
  },
  {
   "cell_type": "markdown",
   "metadata": {},
   "source": [
    "## Evaluation"
   ]
  },
  {
   "cell_type": "markdown",
   "metadata": {},
   "source": [
    "## Integral form of the Jack superpolynomials"
   ]
  },
  {
   "cell_type": "markdown",
   "metadata": {},
   "source": [
    "Illustrate the conjecture"
   ]
  },
  {
   "cell_type": "markdown",
   "metadata": {},
   "source": [
    "## Duality\n",
    "We illustrate the duality property.\n",
    "\n",
    "We first pick a superpartition and obtain the Jack superpolynomial associated with it."
   ]
  },
  {
   "cell_type": "code",
   "execution_count": 146,
   "metadata": {},
   "outputs": [
    {
     "name": "stdout",
     "output_type": "stream",
     "text": [
      "■ ■ ■ ■ ○\n",
      "■ ○\n",
      "\n",
      "Palpha[[4, 1], []]\n"
     ]
    }
   ],
   "source": [
    "sparts = Superpartitions()\n",
    "spart1 = sparts([[4,1],[]])\n",
    "spart1.terminal_diagram()\n",
    "a_Jack = Palpha(spart1)\n",
    "print(a_Jack)"
   ]
  },
  {
   "cell_type": "markdown",
   "metadata": {},
   "source": [
    "We compute the norm of this polynomial and apply $\\hat{\\omega}_\\alpha$ on the Jack. We then divide the result by the norm and multiply by the appropriate sign."
   ]
  },
  {
   "cell_type": "code",
   "execution_count": 147,
   "metadata": {},
   "outputs": [
    {
     "name": "stdout",
     "output_type": "stream",
     "text": [
      "((12*alpha^2-12)/(4*alpha^2+17*alpha+4))*Palpha[[1, 0], [1, 1, 1, 1]] + Palpha[[1, 0], [2, 1, 1]]\n"
     ]
    }
   ],
   "source": [
    "the_norm = a_Jack.scalar_alpha(a_Jack)\n",
    "omega_a_Jack = a_Jack.omega_alpha()\n",
    "normalized_om_Jack = (-1)**(1)*omega_a_Jack/the_norm\n",
    "print(normalized_om_Jack.collect())"
   ]
  },
  {
   "cell_type": "markdown",
   "metadata": {},
   "source": [
    "Now, according to the duality property, this polynomial should be $P^{1/\\alpha}_{(1,0;2,1,1)}$. To check this, we develop this polynomial on the monomial basis so that no $\\alpha$ is hidden inside a definition and substitute $\\alpha$ for $1/\\alpha$. Converting back to the Jack basis, we should find $P^\\alpha_{(1,0;2,1,1)}$"
   ]
  },
  {
   "cell_type": "code",
   "execution_count": 148,
   "metadata": {},
   "outputs": [
    {
     "name": "stdout",
     "output_type": "stream",
     "text": [
      "Palpha[[1, 0], [2, 1, 1]]\n"
     ]
    }
   ],
   "source": [
    "m_expr = m(normalized_om_Jack)\n",
    "invert_alpha_m = m_expr.subs_coeff({alpha:1/alpha})\n",
    "resulting_jack = Palpha(invert_alpha_m)\n",
    "print(resulting_jack)"
   ]
  },
  {
   "cell_type": "markdown",
   "metadata": {},
   "source": [
    "Which is indeed the expected result. "
   ]
  },
  {
   "cell_type": "markdown",
   "metadata": {},
   "source": [
    "## Particular expressions"
   ]
  },
  {
   "cell_type": "markdown",
   "metadata": {},
   "source": [
    "P vs g"
   ]
  },
  {
   "cell_type": "code",
   "execution_count": 149,
   "metadata": {},
   "outputs": [
    {
     "data": {
      "text/plain": [
       "(120*alpha^5/(24*alpha^4+50*alpha^3+35*alpha^2+10*alpha+1))*galpha[[], [5]]"
      ]
     },
     "execution_count": 149,
     "metadata": {},
     "output_type": "execute_result"
    }
   ],
   "source": [
    "galpha(Palpha[[],[5]]).collect()"
   ]
  },
  {
   "cell_type": "code",
   "execution_count": 150,
   "metadata": {},
   "outputs": [
    {
     "data": {
      "text/plain": [
       "(120*alpha^6/(120*alpha^5+274*alpha^4+225*alpha^3+85*alpha^2+15*alpha+1))*galpha[[5], []]"
      ]
     },
     "execution_count": 150,
     "metadata": {},
     "output_type": "execute_result"
    }
   ],
   "source": [
    "galpha(Palpha[[5],[]]).collect()"
   ]
  },
  {
   "cell_type": "markdown",
   "metadata": {},
   "source": [
    "P vs m, P vs e"
   ]
  },
  {
   "cell_type": "code",
   "execution_count": 151,
   "metadata": {},
   "outputs": [
    {
     "name": "stdout",
     "output_type": "stream",
     "text": [
      "Palpha[[2, 0], [3, 1]]\n",
      "m[[2, 0], [3, 1]]\n"
     ]
    }
   ],
   "source": [
    "aJack = Palpha[[2,0],[3,1]]\n",
    "print(aJack)\n",
    "aJack_m = m(aJack)\n",
    "lim_aJack = aJack_m.map_coefficients(\n",
    "    lambda x: QQa(SR(x).limit(alpha = infinity)))\n",
    "print(lim_aJack)"
   ]
  },
  {
   "cell_type": "code",
   "execution_count": 152,
   "metadata": {},
   "outputs": [
    {
     "name": "stdout",
     "output_type": "stream",
     "text": [
      "-e[[3, 1], [2]]\n"
     ]
    }
   ],
   "source": [
    "alpha_zero_Jack = aJack_m.map_coefficients(lambda x: x.subs({alpha:0}))\n",
    "print(e(alpha_zero_Jack))"
   ]
  },
  {
   "cell_type": "markdown",
   "metadata": {},
   "source": [
    "P vs h"
   ]
  },
  {
   "cell_type": "code",
   "execution_count": 153,
   "metadata": {},
   "outputs": [
    {
     "name": "stdout",
     "output_type": "stream",
     "text": [
      "h[[], [5]]\n"
     ]
    }
   ],
   "source": [
    "nJack_m = m(Palpha[[],[5]])\n",
    "alpha_one = nJack_m.subs_coeff({alpha:1})\n",
    "print(h(alpha_one))"
   ]
  },
  {
   "cell_type": "code",
   "execution_count": 154,
   "metadata": {},
   "outputs": [
    {
     "name": "stdout",
     "output_type": "stream",
     "text": [
      "1/6*h[[5], []]\n"
     ]
    }
   ],
   "source": [
    "nJack_m = m(Palpha[[5],[]])\n",
    "alpha_one = nJack_m.map_coefficients(lambda x: x.subs({alpha:1}))\n",
    "print(h(alpha_one))"
   ]
  },
  {
   "cell_type": "markdown",
   "metadata": {},
   "source": [
    "## negative fractional parameter"
   ]
  },
  {
   "cell_type": "markdown",
   "metadata": {},
   "source": [
    "# Macdonald superpolynomials"
   ]
  },
  {
   "cell_type": "code",
   "execution_count": 155,
   "metadata": {},
   "outputs": [
    {
     "name": "stdout",
     "output_type": "stream",
     "text": [
      "Defining m as shorthand for Symmetric superfunctions over Fraction Field of Multivariate Polynomial Ring in q, t over Rational Field in the Monomial basis\n",
      "Defining h as shorthand for Symmetric superfunctions over Fraction Field of Multivariate Polynomial Ring in q, t over Rational Field in the Homogeneous basis\n",
      "Defining p as shorthand for Symmetric superfunctions over Fraction Field of Multivariate Polynomial Ring in q, t over Rational Field in the Powersum basis\n",
      "Defining e as shorthand for Symmetric superfunctions over Fraction Field of Multivariate Polynomial Ring in q, t over Rational Field in the Elementary basis\n"
     ]
    }
   ],
   "source": [
    "QQqt = FractionField(QQ['q', 't'])\n",
    "q, t = QQqt.gens()\n",
    "symqt = SymSuperfunctionsAlgebra(QQqt)\n",
    "symqt.inject_shorthands()\n",
    "Pqt = symqt.Macdonald()"
   ]
  },
  {
   "cell_type": "code",
   "execution_count": 156,
   "metadata": {},
   "outputs": [
    {
     "data": {
      "text/plain": [
       "Pqt[[4, 1], [3, 2]]"
      ]
     },
     "execution_count": 156,
     "metadata": {},
     "output_type": "execute_result"
    }
   ],
   "source": [
    "Pqt[[4,1],[3,2]]"
   ]
  },
  {
   "cell_type": "markdown",
   "metadata": {},
   "source": [
    "## Particular cases\n",
    "$q=t^\\alpha, t\\rightarrow 1$\n"
   ]
  },
  {
   "cell_type": "markdown",
   "metadata": {},
   "source": [
    "$q=0, q \\rightarrow \\infty$"
   ]
  },
  {
   "cell_type": "markdown",
   "metadata": {},
   "source": [
    "$t=1$"
   ]
  },
  {
   "cell_type": "markdown",
   "metadata": {},
   "source": [
    "$q=1$"
   ]
  },
  {
   "cell_type": "markdown",
   "metadata": {},
   "source": [
    "$q=t$ See Schur polynomial"
   ]
  },
  {
   "cell_type": "markdown",
   "metadata": {},
   "source": [
    "### $g_\\Lambda(q,t)$"
   ]
  },
  {
   "cell_type": "markdown",
   "metadata": {},
   "source": [
    "## Macdonald superpolynomials from an eigenvalue problem\n",
    "This is a bit more complicated and will have to wait. "
   ]
  },
  {
   "cell_type": "markdown",
   "metadata": {},
   "source": [
    "## Further properties \n",
    "### One part superpartition"
   ]
  },
  {
   "cell_type": "code",
   "execution_count": null,
   "metadata": {},
   "outputs": [],
   "source": []
  },
  {
   "cell_type": "markdown",
   "metadata": {},
   "source": [
    "### Duality"
   ]
  },
  {
   "cell_type": "code",
   "execution_count": 157,
   "metadata": {},
   "outputs": [
    {
     "name": "stdout",
     "output_type": "stream",
     "text": [
      "Pqt[[2, 0], [1, 1]]\n",
      "■ ■ ○\n",
      "■\n",
      "■\n",
      "○\n",
      "\n",
      "((-q^2*t^2+q^2*t+t-1)/(q^6-q^5-q^4+q^3))*Pqt[[3, 0], [1]]\n",
      "■ ■ ■ ○\n",
      "■\n",
      "○\n",
      "\n"
     ]
    }
   ],
   "source": [
    "spart1 = Superpartitions()([[2,0],[1,1]])\n",
    "a_macdo = Pqt(spart1)\n",
    "print(a_macdo)\n",
    "spart1.terminal_diagram()\n",
    "w_a_macdo = a_macdo.omega_qt()\n",
    "new_mac = (t/q)**spart1.bosonic_degree()*w_a_macdo\n",
    "new_mac_m = m(new_mac)\n",
    "new_mac_m = new_mac_m.subs_coeff({q:1/t, t:1/q})\n",
    "new_mac = Pqt(new_mac_m)\n",
    "print(new_mac.collect())\n",
    "new_mac.monomial_coefficients().keys()[0].terminal_diagram()"
   ]
  },
  {
   "cell_type": "markdown",
   "metadata": {},
   "source": [
    "### Normalization"
   ]
  },
  {
   "cell_type": "markdown",
   "metadata": {},
   "source": [
    "### Specialization"
   ]
  },
  {
   "cell_type": "markdown",
   "metadata": {},
   "source": [
    "### Symmetry"
   ]
  },
  {
   "cell_type": "markdown",
   "metadata": {},
   "source": [
    "Conjecture"
   ]
  },
  {
   "cell_type": "markdown",
   "metadata": {},
   "source": [
    "### Positivity"
   ]
  },
  {
   "cell_type": "markdown",
   "metadata": {},
   "source": [
    "Conjecture"
   ]
  },
  {
   "cell_type": "markdown",
   "metadata": {},
   "source": [
    "### Antoher scalar product"
   ]
  },
  {
   "cell_type": "markdown",
   "metadata": {},
   "source": [
    "## Constructing the Macdonald superpolynomials from the non-symmetric Macdonald polynomials"
   ]
  },
  {
   "cell_type": "markdown",
   "metadata": {},
   "source": [
    "### Cherednik algebra"
   ]
  },
  {
   "cell_type": "markdown",
   "metadata": {},
   "source": [
    "### The non-symmetric Macdonald polynomials"
   ]
  },
  {
   "cell_type": "markdown",
   "metadata": {},
   "source": [
    "# The double Macdonald polynomials"
   ]
  },
  {
   "cell_type": "code",
   "execution_count": null,
   "metadata": {},
   "outputs": [],
   "source": []
  }
 ],
 "metadata": {
  "kernelspec": {
   "display_name": "SageMath 8.1",
   "language": "",
   "name": "sagemath"
  },
  "language_info": {
   "codemirror_mode": {
    "name": "ipython",
    "version": 2
   },
   "file_extension": ".py",
   "mimetype": "text/x-python",
   "name": "python",
   "nbconvert_exporter": "python",
   "pygments_lexer": "ipython2",
   "version": "2.7.14"
  }
 },
 "nbformat": 4,
 "nbformat_minor": 2
}
