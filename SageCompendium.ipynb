{
 "cells": [
  {
   "cell_type": "markdown",
   "metadata": {},
   "source": [
    "# Symmetric Superpolynomials: A Compendium of Results and Open Problems - Worksheet \n",
    "This worksheet is intended to be used alongside the article Symmetric Superpolynomials: A Compendium of Results and Open Problems which can be obtain on ArXiv HERE(GIVELINK).\n",
    "\n",
    "This worksheet provides an introduction to the basic and more advanced features that are implemented in this library. The core of the program is based on Sage and features related to superpolynomials are provided in the following files: \n",
    "- `sym_superfunct.py`\n",
    "    - Contains everything about superpolynomials on the basis\\[spart\\] representation\n",
    "- `superpartition.py`\n",
    "    - Contains everything about superpartitions\n",
    "- `superspace.py`\n",
    "    - Contains the necessary for the expansion of bases on the odd and even variables\n",
    "- `./super_cache/`\n",
    "    - Contains the pickled expression for development of different bases on the monomial superbasis.\n",
    "\n",
    "All those files can be loaded at once using the `all.py` file, this is what the following cell does, please go ahead and execute it."
   ]
  },
  {
   "cell_type": "code",
   "execution_count": 1,
   "metadata": {},
   "outputs": [],
   "source": [
    "#This cell has to be executed\n",
    "load('all.py')\n",
    "import numpy as np\n",
    "from IPython.display import display, Math"
   ]
  },
  {
   "cell_type": "markdown",
   "metadata": {},
   "source": [
    "Now the library is loaded into the worksheet. As you read, make sure to execute every cell as they come by because the code of the following cell often relies on code executed in earlier cells. \n",
    "\n",
    "The worksheet respects the structure of the compendium except for sections that are strictly about the functionalities. \n",
    "\n",
    "Through the different sections you will get familiar with the classes and methods associated to symmetric superpolynomials. You will also see the propreties and conjectures seen in the document for yourself. Also, we tried not to hide everything in the library files and build non-trivial functions from scratch in the worksheet. These examples will help you understand how you could implement your own features. \n",
    "\n",
    "To understand what is going on more in depth, please read the library files and the Sage documentation."
   ]
  },
  {
   "cell_type": "markdown",
   "metadata": {},
   "source": [
    "# Superpartitions and symmetric superpolynomials"
   ]
  },
  {
   "cell_type": "markdown",
   "metadata": {
    "collapsed": true
   },
   "source": [
    "## Superpartitions\n",
    "### Superpartition: the $(\\Lambda^a; \\Lambda^s)$ description. \n",
    "The superpartitions are introduced in the following way. \n",
    "#### `Superpartitions()` class\n",
    "We first introduce the complete space of superpartitions:"
   ]
  },
  {
   "cell_type": "code",
   "execution_count": 2,
   "metadata": {},
   "outputs": [
    {
     "data": {
      "text/plain": [
       "superpartitions"
      ]
     },
     "execution_count": 2,
     "metadata": {},
     "output_type": "execute_result"
    }
   ],
   "source": [
    "S = Superpartitions() # Creates an instance of the set of superpartitions\n",
    "S #We print the description of the just created set. "
   ]
  },
  {
   "cell_type": "markdown",
   "metadata": {},
   "source": [
    "Let us consider a superpartition.\n",
    " (Note that since Python is underlying  Sage, one should never use `lambda` as variable name since it is a special function.)"
   ]
  },
  {
   "cell_type": "code",
   "execution_count": 3,
   "metadata": {},
   "outputs": [
    {
     "data": {
      "text/plain": [
       "[[3, 2], [4, 2, 2]]"
      ]
     },
     "execution_count": 3,
     "metadata": {},
     "output_type": "execute_result"
    }
   ],
   "source": [
    "my_spart = S([[3,2],[4,2,2]]) # This how you define a superpartition\n",
    "my_spart # We print it"
   ]
  },
  {
   "cell_type": "markdown",
   "metadata": {},
   "source": [
    "We know that for superpartition $\\Lambda$ we have\n",
    "$$\n",
    "\\Lambda_1 > \\Lambda_2 > \\cdots > \\Lambda_m \\geq 0 \\quad \\text{and} \\quad\n",
    "\\Lambda_{m+1} \\geq \\Lambda_{m+2} \\geq \\cdots \\geq \\Lambda_{\\ell} > 0\n",
    "$$\n",
    "This is enforced into the declaration of superpartitions. Trying to define a superpartition that violates these conditions will raise an error:"
   ]
  },
  {
   "cell_type": "code",
   "execution_count": 4,
   "metadata": {},
   "outputs": [
    {
     "name": "stdout",
     "output_type": "stream",
     "text": [
      "('The following error was raised: ', ValueError('The fermionic partition must contain decreasing distinct parts >= 0',))\n"
     ]
    }
   ],
   "source": [
    "try: # This tries to execute the following statement\n",
    "        my_bad_spart = S([[3,2,1,1],[5]]) # This generates an error\n",
    "except ValueError as err: # If an error was raised, the following is executed\n",
    "    print(\"The following error was raised: \", err)"
   ]
  },
  {
   "cell_type": "markdown",
   "metadata": {},
   "source": [
    "#### `len( a_superpartition )` and `sector()`\n",
    "Back to our superpartition, we can retrieve different information about it. "
   ]
  },
  {
   "cell_type": "code",
   "execution_count": 5,
   "metadata": {},
   "outputs": [
    {
     "name": "stdout",
     "output_type": "stream",
     "text": [
      "[[3, 2], [4, 2, 2]]\n",
      "The length of my spart is 5\n",
      "My spart is in the sector (13, 2)\n"
     ]
    }
   ],
   "source": [
    "print(my_spart)\n",
    "length = len(my_spart) # Define length\n",
    "print('The length of my spart is ' + str(length))\n",
    "sector = my_spart.sector() \n",
    "print('My spart is in the sector ' + str(sector))"
   ]
  },
  {
   "cell_type": "markdown",
   "metadata": {},
   "source": [
    "You can access both $\\Lambda^a$ and $\\Lambda^s$"
   ]
  },
  {
   "cell_type": "code",
   "execution_count": 6,
   "metadata": {},
   "outputs": [
    {
     "name": "stdout",
     "output_type": "stream",
     "text": [
      "[3, 2]\n",
      "[4, 2, 2]\n"
     ]
    }
   ],
   "source": [
    "fermionic_part = my_spart[0]\n",
    "print(fermionic_part)\n",
    "bosonic_part = my_spart[1]\n",
    "print(bosonic_part)"
   ]
  },
  {
   "cell_type": "markdown",
   "metadata": {},
   "source": [
    "#### `Superpartitions(n, m)`\n",
    "Previously we have defined the whole space of superpartitions. Now let say that we want to deal with only one sector. Then, we just call the `Superpartitions` with `n` (the number of boxes, or bosonic degree) and `m` (the number of circles, or fermionic degree) as arguments:"
   ]
  },
  {
   "cell_type": "code",
   "execution_count": 7,
   "metadata": {},
   "outputs": [
    {
     "data": {
      "text/plain": [
       "Superpartitions with 12 boxes and 3 circles"
      ]
     },
     "execution_count": 7,
     "metadata": {},
     "output_type": "execute_result"
    }
   ],
   "source": [
    "spart_nm = Superpartitions(12, 3)\n",
    "spart_nm"
   ]
  },
  {
   "cell_type": "markdown",
   "metadata": {},
   "source": [
    "You can retrieve the elements of a set as a list, let's take a smaller set not to clutter the doccument. "
   ]
  },
  {
   "cell_type": "code",
   "execution_count": 8,
   "metadata": {},
   "outputs": [
    {
     "name": "stdout",
     "output_type": "stream",
     "text": [
      "Superpartitions with 5 boxes and 2 circles\n",
      "[[[5, 0], []], [[4, 1], []], [[3, 2], []], [[4, 0], [1]], [[3, 1], [1]], [[3, 0], [2]], [[3, 0], [1, 1]], [[2, 1], [2]], [[2, 1], [1, 1]], [[2, 0], [3]], [[2, 0], [2, 1]], [[2, 0], [1, 1, 1]], [[1, 0], [4]], [[1, 0], [3, 1]], [[1, 0], [2, 2]], [[1, 0], [2, 1, 1]], [[1, 0], [1, 1, 1, 1]]]\n"
     ]
    }
   ],
   "source": [
    "myset = Superpartitions(5, 2)\n",
    "print(myset)\n",
    "mylist = list(myset)\n",
    "print(mylist)"
   ]
  },
  {
   "cell_type": "markdown",
   "metadata": {},
   "source": [
    "Note that order in the list is deterministic but somewhat arbitrary. \n",
    "\n",
    "The set can also be used as an iterator:"
   ]
  },
  {
   "cell_type": "code",
   "execution_count": 9,
   "metadata": {},
   "outputs": [
    {
     "name": "stdout",
     "output_type": "stream",
     "text": [
      "Superpartitions with 4 boxes and 2 circles\n",
      "[[4, 0], []]\n",
      "[[3, 1], []]\n",
      "[[3, 0], [1]]\n",
      "[[2, 1], [1]]\n",
      "[[2, 0], [2]]\n",
      "[[2, 0], [1, 1]]\n",
      "[[1, 0], [3]]\n",
      "[[1, 0], [2, 1]]\n",
      "[[1, 0], [1, 1, 1]]\n"
     ]
    }
   ],
   "source": [
    "an_other_set = Superpartitions(4,2)\n",
    "print(an_other_set)\n",
    "# We use it here as an iterator: \n",
    "for some_superpartition in an_other_set:\n",
    "    print(some_superpartition)"
   ]
  },
  {
   "cell_type": "markdown",
   "metadata": {},
   "source": [
    "### The $\\Lambda^\\ast, \\Lambda^\\circledast$ description\n",
    "#### `partition_pair()`\n",
    "We can obtain this description from a superpartition:"
   ]
  },
  {
   "cell_type": "code",
   "execution_count": 10,
   "metadata": {},
   "outputs": [
    {
     "name": "stdout",
     "output_type": "stream",
     "text": [
      "[[6, 5, 2, 0], [4, 3, 3, 2, 1]]\n",
      "[[6, 5, 4, 3, 3, 2, 2, 1], [7, 6, 4, 3, 3, 3, 2, 1, 1]]\n"
     ]
    }
   ],
   "source": [
    "spart1 = S([[6,5,2,0],[4,3,3,2,1]])\n",
    "print(spart1)\n",
    "spart1_pair = spart1.partition_pair()\n",
    "print(spart1_pair)"
   ]
  },
  {
   "cell_type": "markdown",
   "metadata": {},
   "source": [
    "#### `Superpartitions.partition_pair_to_spart( a_partition_pair )`\n",
    "We can also revert this operation (even though this operation is not really intended for end-user):"
   ]
  },
  {
   "cell_type": "code",
   "execution_count": 11,
   "metadata": {},
   "outputs": [
    {
     "data": {
      "text/plain": [
       "[[6, 5, 2, 0], [4, 3, 3, 2, 1]]"
      ]
     },
     "execution_count": 11,
     "metadata": {},
     "output_type": "execute_result"
    }
   ],
   "source": [
    "Superpartitions.partition_pair_to_spart(spart1_pair)"
   ]
  },
  {
   "cell_type": "markdown",
   "metadata": {},
   "source": [
    "### Superdiagram\n",
    "#### `terminal_diagram()`\n",
    "\n",
    "We can obtain the representation of the superdiagram directly from a superpartition. "
   ]
  },
  {
   "cell_type": "code",
   "execution_count": 12,
   "metadata": {},
   "outputs": [
    {
     "name": "stdout",
     "output_type": "stream",
     "text": [
      "[[7, 5, 2, 0], [8, 8, 5, 4, 2, 2]]\n",
      "■ ■ ■ ■ ■ ■ ■ ■\n",
      "■ ■ ■ ■ ■ ■ ■ ■\n",
      "■ ■ ■ ■ ■ ■ ■ ○\n",
      "■ ■ ■ ■ ■ ○\n",
      "■ ■ ■ ■ ■\n",
      "■ ■ ■ ■\n",
      "■ ■ ○\n",
      "■ ■\n",
      "■ ■\n",
      "○\n",
      "\n"
     ]
    }
   ],
   "source": [
    "S = Superpartitions()\n",
    "a_spart = S([[7,5,2,0],[8,8,5,4,2,2]])\n",
    "print(a_spart)\n",
    "a_spart.terminal_diagram()"
   ]
  },
  {
   "cell_type": "markdown",
   "metadata": {},
   "source": [
    "### Conjugate superpartition\n",
    "#### `conjugate()` method\n",
    "We can easily obtain the conjugate of a superpartition. "
   ]
  },
  {
   "cell_type": "code",
   "execution_count": 13,
   "metadata": {},
   "outputs": [
    {
     "name": "stdout",
     "output_type": "stream",
     "text": [
      "[[9, 7, 5, 2, 0], [8, 8, 5, 3, 2, 2, 2, 1]]\n",
      "■ ■ ■ ■ ■ ■ ■ ■ ■ ○\n",
      "■ ■ ■ ■ ■ ■ ■ ■\n",
      "■ ■ ■ ■ ■ ■ ■ ■\n",
      "■ ■ ■ ■ ■ ■ ■ ○\n",
      "■ ■ ■ ■ ■ ○\n",
      "■ ■ ■ ■ ■\n",
      "■ ■ ■\n",
      "■ ■ ○\n",
      "■ ■\n",
      "■ ■\n",
      "■ ■\n",
      "■\n",
      "○\n",
      "\n",
      "And now the conjugate superpartition\n",
      "■ ■ ■ ■ ■ ■ ■ ■ ■ ■ ■ ■ ○\n",
      "■ ■ ■ ■ ■ ■ ■ ■ ■ ■ ■\n",
      "■ ■ ■ ■ ■ ■ ■ ○\n",
      "■ ■ ■ ■ ■ ■\n",
      "■ ■ ■ ■ ■ ■\n",
      "■ ■ ■ ■ ○\n",
      "■ ■ ■ ■\n",
      "■ ■ ■ ○\n",
      "■\n",
      "○\n",
      "\n"
     ]
    }
   ],
   "source": [
    "S = Superpartitions()\n",
    "a_spart = S([[9,7,5,2,0],[8,8,5,3,2,2,2,1]])\n",
    "print(a_spart)\n",
    "a_spart.terminal_diagram()\n",
    "print('And now the conjugate superpartition')\n",
    "a_spart_conjugate = a_spart.conjugate()\n",
    "a_spart_conjugate.terminal_diagram()"
   ]
  },
  {
   "cell_type": "markdown",
   "metadata": {},
   "source": [
    "### Dominance order\n",
    "\n",
    "First, let's take three superpartitions with 10 boxes and 3 circles. "
   ]
  },
  {
   "cell_type": "code",
   "execution_count": 14,
   "metadata": {},
   "outputs": [
    {
     "name": "stdout",
     "output_type": "stream",
     "text": [
      "spart1\n",
      "[[5, 2, 1], [1, 1]]\n",
      "■ ■ ■ ■ ■ ○\n",
      "■ ■ ○\n",
      "■ ○\n",
      "■\n",
      "■\n",
      "\n",
      "spart2\n",
      "[[4, 3, 0], [1, 1, 1]]\n",
      "■ ■ ■ ■ ○\n",
      "■ ■ ■ ○\n",
      "■\n",
      "■\n",
      "■\n",
      "○\n",
      "\n",
      "spart3\n",
      "[[4, 2, 1], [2, 1]]\n",
      "■ ■ ■ ■ ○\n",
      "■ ■ ○\n",
      "■ ■\n",
      "■ ○\n",
      "■\n",
      "\n"
     ]
    }
   ],
   "source": [
    "S = Superpartitions(10,3)\n",
    "spart_list = list(S)\n",
    "spart1 = spart_list[22]\n",
    "spart2 = spart_list[33]\n",
    "spart3 = spart_list[35]\n",
    "\n",
    "print('spart1')\n",
    "print(spart1)\n",
    "spart1.terminal_diagram()\n",
    "\n",
    "print('spart2')\n",
    "print(spart2)\n",
    "spart2.terminal_diagram()\n",
    "\n",
    "print('spart3')\n",
    "print(spart3)\n",
    "spart3.terminal_diagram()\n"
   ]
  },
  {
   "cell_type": "markdown",
   "metadata": {},
   "source": [
    "#### `compare_dominance()` method\n",
    "Let us now recover their ordering relations:"
   ]
  },
  {
   "cell_type": "code",
   "execution_count": 15,
   "metadata": {},
   "outputs": [
    {
     "name": "stdout",
     "output_type": "stream",
     "text": [
      "Compare spart1 and spart2\n",
      ">\n",
      "Compare spart1 and spart3\n",
      ">\n",
      "Compare spart2 and spart3\n",
      "Non-comparable\n"
     ]
    }
   ],
   "source": [
    "print('Compare spart1 and spart2')\n",
    "print(S.compare_dominance(spart1, spart2))\n",
    "print('Compare spart1 and spart3')\n",
    "print(S.compare_dominance(spart1, spart3))\n",
    "print('Compare spart2 and spart3')\n",
    "print(S.compare_dominance(spart2, spart3))"
   ]
  },
  {
   "cell_type": "markdown",
   "metadata": {},
   "source": [
    "The `compare_dominance()` method returns one of the following strings: \n",
    "    `\"==\"`, \n",
    "    `\">\"`, \n",
    "    `\"<\"` or\n",
    "    `\"Non-comparable\"`. We illustrate this with an example:\n",
    "\n",
    "Let us consider the following set of superpartitions of sector $(4\\,|\\,1)$:"
   ]
  },
  {
   "cell_type": "code",
   "execution_count": 16,
   "metadata": {},
   "outputs": [
    {
     "name": "stdout",
     "output_type": "stream",
     "text": [
      "Superpartitions with 4 boxes and 1 circles\n",
      "[[[4], []], [[3], [1]], [[2], [2]], [[2], [1, 1]], [[1], [3]], [[1], [2, 1]], [[1], [1, 1, 1]], [[0], [4]], [[0], [3, 1]], [[0], [2, 2]], [[0], [2, 1, 1]], [[0], [1, 1, 1, 1]]]\n",
      "[[4], []]\n",
      "[[3], [1]]\n",
      "[[2], [2]]\n",
      "[[2], [1, 1]]\n",
      "[[1], [3]]\n",
      "[[1], [2, 1]]\n",
      "[[1], [1, 1, 1]]\n",
      "[[0], [4]]\n",
      "[[0], [3, 1]]\n",
      "[[0], [2, 2]]\n",
      "[[0], [2, 1, 1]]\n",
      "[[0], [1, 1, 1, 1]]\n"
     ]
    }
   ],
   "source": [
    "Sparts = Superpartitions(4,1)\n",
    "print(Sparts)\n",
    "print(list(Sparts))\n",
    "for k in Sparts:\n",
    "    print(k)"
   ]
  },
  {
   "cell_type": "markdown",
   "metadata": {},
   "source": [
    "We will compare the superpartitions $(2;2)$ to every superpartitions of the previous set:"
   ]
  },
  {
   "cell_type": "code",
   "execution_count": 17,
   "metadata": {},
   "outputs": [
    {
     "name": "stdout",
     "output_type": "stream",
     "text": [
      "■ ■ ○\n",
      "■ ■\n",
      "\n",
      "[[2], [2]] is dominated by [[4], []]\n",
      "[[2], [2]] is dominated by [[3], [1]]\n",
      "[[2], [2]] is exactly [[2], [2]]\n",
      "[[2], [2]] dominates [[2], [1, 1]]\n",
      "[[2], [2]] is dominated by [[1], [3]]\n",
      "[[2], [2]] dominates [[1], [2, 1]]\n",
      "[[2], [2]] dominates [[1], [1, 1, 1]]\n",
      "[[2], [2]] is dominated by [[0], [4]]\n",
      "[[2], [2]] and [[0], [3, 1]] are non-comparable\n",
      "[[2], [2]] dominates [[0], [2, 2]]\n",
      "[[2], [2]] dominates [[0], [2, 1, 1]]\n",
      "[[2], [2]] dominates [[0], [1, 1, 1, 1]]\n"
     ]
    }
   ],
   "source": [
    "Sparts = Superpartitions()\n",
    "our_spart = Sparts([[2],[2]]) # We define (2; 2)\n",
    "Sparts_4_1 = Superpartitions(4,1)\n",
    "our_spart.terminal_diagram() # Print the diagram\n",
    "\n",
    "for an_other_spart in Sparts_4_1:\n",
    "    #We store the result of the operation\n",
    "    comparision = Sparts.compare_dominance(our_spart, an_other_spart)\n",
    "    if comparision == \">\":\n",
    "        print(str(our_spart) + \" dominates \" + str(an_other_spart))\n",
    "    elif comparision == \"==\":\n",
    "        print(str(our_spart) + \" is exactly \" + str(an_other_spart))\n",
    "    elif comparision == \"<\":\n",
    "        print(str(our_spart) + \" is dominated by \" + str(an_other_spart))\n",
    "    elif comparision == \"Non-comparable\":\n",
    "        print(str(our_spart) + \" and \" + str(an_other_spart) + \" are non-comparable\")"
   ]
  },
  {
   "cell_type": "markdown",
   "metadata": {},
   "source": [
    "Take note that the dominance ordering overloads the `>`, `<`, `>=`, ... operators. For instance"
   ]
  },
  {
   "cell_type": "code",
   "execution_count": 18,
   "metadata": {},
   "outputs": [
    {
     "name": "stdout",
     "output_type": "stream",
     "text": [
      "True\n",
      "True\n"
     ]
    }
   ],
   "source": [
    "print( Sparts([[2],[2]]) <= Sparts([[3],[1]]))\n",
    "print( Sparts([[2],[2]]) != Sparts([[2],[1,1]]))"
   ]
  },
  {
   "cell_type": "markdown",
   "metadata": {},
   "source": [
    "Hence, the previous example can be implemented in a much more readeable fashion: "
   ]
  },
  {
   "cell_type": "code",
   "execution_count": 19,
   "metadata": {},
   "outputs": [
    {
     "name": "stdout",
     "output_type": "stream",
     "text": [
      "[[2], [2]] is dominated by [[4], []]\n",
      "[[2], [2]] is dominated by [[3], [1]]\n",
      "[[2], [2]] is exactly [[2], [2]]\n",
      "[[2], [2]] dominates [[2], [1, 1]]\n",
      "[[2], [2]] is dominated by [[1], [3]]\n",
      "[[2], [2]] dominates [[1], [2, 1]]\n",
      "[[2], [2]] dominates [[1], [1, 1, 1]]\n",
      "[[2], [2]] is dominated by [[0], [4]]\n",
      "[[2], [2]] and [[0], [3, 1]] are non-comparable\n",
      "[[2], [2]] dominates [[0], [2, 2]]\n",
      "[[2], [2]] dominates [[0], [2, 1, 1]]\n",
      "[[2], [2]] dominates [[0], [1, 1, 1, 1]]\n"
     ]
    }
   ],
   "source": [
    "Sparts = Superpartitions(4,1)\n",
    "our_spart = Sparts([[2],[2]]) # We define (2; 2)\n",
    "\n",
    "for an_other_spart in list(Sparts):\n",
    "    if (our_spart > an_other_spart):\n",
    "        print(str(our_spart) + \" dominates \" + str(an_other_spart))\n",
    "    elif our_spart == an_other_spart:\n",
    "        print(str(our_spart) + \" is exactly \" + str(an_other_spart))\n",
    "    elif our_spart < an_other_spart:\n",
    "        print(str(our_spart) + \" is dominated by \" + str(an_other_spart))\n",
    "    else:\n",
    "        print(str(our_spart) + \" and \" + str(an_other_spart) + \" are non-comparable\")"
   ]
  },
  {
   "cell_type": "markdown",
   "metadata": {},
   "source": [
    "#### `get_smaller_sparts()` method\n",
    "allows one to obtain the list of every superpartitions that is dominated by the one the method is called from. For instance,"
   ]
  },
  {
   "cell_type": "code",
   "execution_count": 20,
   "metadata": {},
   "outputs": [
    {
     "name": "stdout",
     "output_type": "stream",
     "text": [
      "The superpartition\n",
      "■ ■ ○\n",
      "■\n",
      "■\n",
      "○\n",
      "\n",
      "dominates the following\n",
      "■ ■\n",
      "■ ○\n",
      "■\n",
      "○\n",
      "\n",
      "■ ○\n",
      "■\n",
      "■\n",
      "■\n",
      "○\n",
      "\n"
     ]
    }
   ],
   "source": [
    "Sparts = Superpartitions()\n",
    "my_spart = Sparts([[2,0],[1,1]])\n",
    "print(\"The superpartition\")\n",
    "my_spart.terminal_diagram()\n",
    "print(\"dominates the following\")\n",
    "dominated_sparts = my_spart.get_smaller_sparts()\n",
    "for spart in dominated_sparts:\n",
    "    spart.terminal_diagram()"
   ]
  },
  {
   "cell_type": "markdown",
   "metadata": {},
   "source": [
    "#### `Superpartitions.give_greatest_spart( list_of_spart )`\n",
    "this function allows one to extract the greatest superpartition out of the list:"
   ]
  },
  {
   "cell_type": "code",
   "execution_count": 21,
   "metadata": {},
   "outputs": [
    {
     "name": "stdout",
     "output_type": "stream",
     "text": [
      "[[[3, 0], [1]], [[2, 0], [2]], [[1, 0], [3]], [[1, 0], [1, 1, 1]]]\n",
      "The greatest element in the list is\n",
      "[[3, 0], [1]]\n"
     ]
    }
   ],
   "source": [
    "Sparts_4_2 = list(Superpartitions(4,2))\n",
    "some_list = [Sparts_4_2[x] for x in [2,4,6,8]]\n",
    "print(some_list)\n",
    "print(\"The greatest element in the list is\")\n",
    "greatest = Superpartitions.give_greatest_spart(some_list)\n",
    "print(greatest)"
   ]
  },
  {
   "cell_type": "markdown",
   "metadata": {},
   "source": [
    "#### `Superpartitions.sort_by_dominance( list_of_spart )`\n",
    "allows to sort a list of superpartitions according to dominance. Non-comparable superpartitions are sorted in lexicographic order."
   ]
  },
  {
   "cell_type": "code",
   "execution_count": 22,
   "metadata": {},
   "outputs": [
    {
     "name": "stdout",
     "output_type": "stream",
     "text": [
      "[[[3, 0], [1]], [[2, 0], [2]], [[1, 0], [3]], [[1, 0], [1, 1, 1]]]\n",
      "once sorted :\n",
      "[[[3, 0], [1]], [[1, 0], [3]], [[2, 0], [2]], [[1, 0], [1, 1, 1]]]\n"
     ]
    }
   ],
   "source": [
    "print(some_list)\n",
    "sorted_list = Superpartitions.sort_by_dominance(some_list)\n",
    "print(\"once sorted :\")\n",
    "print(sorted_list)"
   ]
  },
  {
   "cell_type": "markdown",
   "metadata": {},
   "source": [
    "Note that other methods are provided for evaluation of certain quantities on the diagram, such as hook length, arm length... These quantities will be introduced in the section about the normalization of Jack superpolynomials. "
   ]
  },
  {
   "cell_type": "markdown",
   "metadata": {},
   "source": [
    "# Superspace\n",
    "We introduce here the space of supercommutative variables. Since we have Python under the hood, the index of the variables start at 0 to avoid confusion. So to write expressions in superspace, one have to create an instance of superspace:"
   ]
  },
  {
   "cell_type": "code",
   "execution_count": 23,
   "metadata": {},
   "outputs": [
    {
     "data": {
      "text/plain": [
       "Superspace in 2*6 variables. With alphabet theta_0 ... theta_N-1, x_0 ... x_N-1."
      ]
     },
     "execution_count": 23,
     "metadata": {},
     "output_type": "execute_result"
    }
   ],
   "source": [
    "# The syntax is superspace(N) to create a space of variables\n",
    "# with x_i, theta_i for 0 <= i < N\n",
    "ss = superspace(6)\n",
    "ss"
   ]
  },
  {
   "cell_type": "markdown",
   "metadata": {},
   "source": [
    "Now we have created a superspace in 12 variables, the even (or bosonic) variables $x_0, ..., x_5$ and the odd (or fermionic) variables $\\theta_0, ..., \\theta_5$. Now we would like to be able to write expressions in these variables.\n",
    "\n",
    "Now this is a bit technical, but Sage does not have a built-in way of dealing with supercommutative variables, the superspace class serves as a interface to Singular which is doing the computation behind the scene. So when we defined ss as a superspace with $N=6$, Singular was started in the background. Also, as a side effect, the names of the variables were injected in the Sage session:"
   ]
  },
  {
   "cell_type": "code",
   "execution_count": 24,
   "metadata": {},
   "outputs": [
    {
     "data": {
      "text/plain": [
       "-theta_0*theta_1"
      ]
     },
     "execution_count": 24,
     "metadata": {},
     "output_type": "execute_result"
    }
   ],
   "source": [
    "theta_1*theta_0"
   ]
  },
  {
   "cell_type": "code",
   "execution_count": 25,
   "metadata": {},
   "outputs": [
    {
     "data": {
      "text/plain": [
       "-theta_0*theta_1*x_1"
      ]
     },
     "execution_count": 25,
     "metadata": {},
     "output_type": "execute_result"
    }
   ],
   "source": [
    "(theta_0*x_0 + theta_1*x_1)*theta_0"
   ]
  },
  {
   "cell_type": "markdown",
   "metadata": {},
   "source": [
    "One must be careful with operations one wants to perform because these are not sage objects:"
   ]
  },
  {
   "cell_type": "code",
   "execution_count": 26,
   "metadata": {},
   "outputs": [
    {
     "name": "stdout",
     "output_type": "stream",
     "text": [
      "<class 'sage.interfaces.singular.SingularElement'>\n"
     ]
    }
   ],
   "source": [
    "print(type(theta_0*x_2))"
   ]
  },
  {
   "cell_type": "markdown",
   "metadata": {},
   "source": [
    "So if you are used to sage, many operations might not work. \n",
    "\n",
    "Back to the main matter, we can look at what is the current ring in Singular. Notice that there is an extra fermionic variable dtheta, this variable is introduced as a work around for the differentiation on odd variables and this variable should not be called directly:"
   ]
  },
  {
   "cell_type": "code",
   "execution_count": 27,
   "metadata": {},
   "outputs": [
    {
     "data": {
      "text/plain": [
       "polynomial ring, over a field, global ordering\n",
       "// coefficients: QQ(q, t, alpha)\n",
       "// number of vars : 13\n",
       "//        block   1 : ordering lp\n",
       "//                  : names    dtheta theta_0 theta_1 theta_2 theta_3 theta_4 theta_5 x_0 x_1 x_2 x_3 x_4 x_5\n",
       "//        block   2 : ordering C\n",
       "// noncommutative relations:\n",
       "//    theta_0dtheta=-dtheta*theta_0\n",
       "//    theta_1dtheta=-dtheta*theta_1\n",
       "//    theta_2dtheta=-dtheta*theta_2\n",
       "//    theta_3dtheta=-dtheta*theta_3\n",
       "//    theta_4dtheta=-dtheta*theta_4\n",
       "//    theta_5dtheta=-dtheta*theta_5\n",
       "//    theta_1theta_0=-theta_0*theta_1\n",
       "//    theta_2theta_0=-theta_0*theta_2\n",
       "//    theta_3theta_0=-theta_0*theta_3\n",
       "//    theta_4theta_0=-theta_0*theta_4\n",
       "//    theta_5theta_0=-theta_0*theta_5\n",
       "//    theta_2theta_1=-theta_1*theta_2\n",
       "//    theta_3theta_1=-theta_1*theta_3\n",
       "//    theta_4theta_1=-theta_1*theta_4\n",
       "//    theta_5theta_1=-theta_1*theta_5\n",
       "//    theta_3theta_2=-theta_2*theta_3\n",
       "//    theta_4theta_2=-theta_2*theta_4\n",
       "//    theta_5theta_2=-theta_2*theta_5\n",
       "//    theta_4theta_3=-theta_3*theta_4\n",
       "//    theta_5theta_3=-theta_3*theta_5\n",
       "//    theta_5theta_4=-theta_4*theta_5\n",
       "// quotient ring from ideal\n",
       "_[1]=theta_5^2\n",
       "_[2]=theta_4^2\n",
       "_[3]=theta_3^2\n",
       "_[4]=theta_2^2\n",
       "_[5]=theta_1^2\n",
       "_[6]=theta_0^2\n",
       "_[7]=dtheta^2"
      ]
     },
     "execution_count": 27,
     "metadata": {},
     "output_type": "execute_result"
    }
   ],
   "source": [
    "singular.current_ring()"
   ]
  },
  {
   "cell_type": "markdown",
   "metadata": {},
   "source": [
    "It seems that Sage parses some expressions through Singular and this could reset the `current_ring()`. So if you have problems with some calculation in superspace, make sure to check if the supercommutative relations are still there. To avoid this problem, make all computations related to superspace right after the `ss = superspace(N)` declaration.\n",
    "\n",
    "\n",
    "Differentiation is implemented with simple syntax `superspace.diff(expr, variable)`:"
   ]
  },
  {
   "cell_type": "code",
   "execution_count": 28,
   "metadata": {},
   "outputs": [
    {
     "name": "stdout",
     "output_type": "stream",
     "text": [
      "-theta_0*theta_3*x_1*x_2^2*x_3^4\n",
      "theta_0*theta_1*x_1*x_2^2*x_3^4\n",
      "4*theta_0*theta_1*theta_3*x_1*x_2^2*x_3^3\n"
     ]
    }
   ],
   "source": [
    "my_expr = theta_0*theta_1*theta_3*x_1*x_2^2*x_3^4\n",
    "print(ss.diff(my_expr, theta_1))\n",
    "print(ss.diff(my_expr, theta_3))\n",
    "print(ss.diff(my_expr, x_3))"
   ]
  },
  {
   "cell_type": "markdown",
   "metadata": {},
   "source": [
    "The superspace instance comes with it's permutation group:"
   ]
  },
  {
   "cell_type": "code",
   "execution_count": 29,
   "metadata": {},
   "outputs": [
    {
     "data": {
      "text/plain": [
       "Symmetric group of order 6! as a permutation group"
      ]
     },
     "execution_count": 29,
     "metadata": {},
     "output_type": "execute_result"
    }
   ],
   "source": [
    "S6 = ss.SN()\n",
    "S6"
   ]
  },
  {
   "cell_type": "markdown",
   "metadata": {},
   "source": [
    "These permutations can be applied with a special method `superspace.apply_permutation(expr, permutation)`, we illustrate this by printing the action of the permutations of length 12 on the following expression:"
   ]
  },
  {
   "cell_type": "code",
   "execution_count": 30,
   "metadata": {},
   "outputs": [
    {
     "name": "stdout",
     "output_type": "stream",
     "text": [
      "(0,4,2,5)(1,3) ---> -theta_3*theta_4*x_0^3*x_4^2\n",
      "(0,5)(1,4,3,2) ---> -theta_4*theta_5*x_0^3*x_5^2\n",
      "(0,5,1,3,4) ---> -theta_3*theta_5*x_1^3*x_5^2\n",
      "(0,5)(1,2,3,4) ---> -theta_2*theta_5*x_0^3*x_5^2\n",
      "(0,5,1,2,4) ---> -theta_2*theta_5*x_1^3*x_5^2\n",
      "(0,5,1,3)(2,4) ---> -theta_3*theta_5*x_1^3*x_5^2\n",
      "(0,3,1,5)(2,4) ---> theta_3*theta_5*x_0^3*x_3^2\n",
      "(0,4)(1,5,2,3) ---> theta_4*theta_5*x_2^3*x_4^2\n",
      "(0,2,4,1,5) ---> theta_2*theta_5*x_0^3*x_2^2\n",
      "(0,4)(1,3,2,5) ---> -theta_3*theta_4*x_1^3*x_4^2\n",
      "(0,3,2,4)(1,5) ---> theta_3*theta_5*x_1^3*x_3^2\n",
      "(0,4,1,3,5) ---> -theta_3*theta_4*x_0^3*x_4^2\n",
      "(0,3,2,5)(1,4) ---> theta_3*theta_4*x_0^3*x_3^2\n",
      "(0,3,4,1,5) ---> theta_3*theta_5*x_0^3*x_3^2\n",
      "(0,5,2,4)(1,3) ---> -theta_3*theta_5*x_2^3*x_5^2\n",
      "(0,4,1,2,5) ---> -theta_2*theta_4*x_0^3*x_4^2\n",
      "(0,4,2,3)(1,5) ---> theta_4*theta_5*x_1^3*x_4^2\n",
      "(0,5,2,3)(1,4) ---> -theta_4*theta_5*x_2^3*x_5^2\n",
      "(0,5,1,4,3) ---> -theta_4*theta_5*x_1^3*x_5^2\n",
      "(0,5,3,1,4) ---> -theta_4*theta_5*x_3^3*x_5^2\n",
      "(0,5,2,1,4) ---> -theta_4*theta_5*x_2^3*x_5^2\n",
      "(0,5,1,4,2) ---> -theta_4*theta_5*x_1^3*x_5^2\n",
      "(0,5)(1,2,4,3) ---> -theta_2*theta_5*x_0^3*x_5^2\n",
      "(0,4)(1,5) ---> theta_4*theta_5*x_1^3*x_4^2\n",
      "(0,4,2,1,5) ---> theta_4*theta_5*x_0^3*x_4^2\n",
      "(0,4,3,1,5) ---> theta_4*theta_5*x_0^3*x_4^2\n",
      "(0,5)(1,3,4,2) ---> -theta_3*theta_5*x_0^3*x_5^2\n",
      "(0,5)(2,4) ---> -theta_1*theta_5*x_0^3*x_5^2\n",
      "(0,5)(1,3) ---> -theta_3*theta_5*x_0^3*x_5^2\n"
     ]
    }
   ],
   "source": [
    "my_expr = theta_0*theta_1*x_0^2*x_5^3\n",
    "for a_permutation in S6:\n",
    "    if a_permutation.length() == 12:\n",
    "        new_expr = ss.apply_permuation(my_expr, a_permutation)\n",
    "        print(str(a_permutation) + \" ---> \" + str(new_expr))"
   ]
  },
  {
   "cell_type": "markdown",
   "metadata": {},
   "source": [
    "From an expression, we can extract the sector to which it belongs. Note that this only works for homogeneous superpolynomials:"
   ]
  },
  {
   "cell_type": "code",
   "execution_count": 31,
   "metadata": {},
   "outputs": [
    {
     "name": "stdout",
     "output_type": "stream",
     "text": [
      "(3, 4)\n"
     ]
    }
   ],
   "source": [
    "my_expr = theta_0*theta_1*theta_2*theta_3*(x_1^2*x_2 - x_1*x_2^2)\n",
    "the_sector = ss.get_sector(my_expr)\n",
    "print(the_sector)"
   ]
  },
  {
   "cell_type": "markdown",
   "metadata": {},
   "source": [
    "We can also determine if a given polynomial is symmetric with the `superspace.is_symmetric(expr)` method. We also use this occasion to introduce a method that returns a list with the variables so that one can use loops to create polynomials instead of writting everything by hand: "
   ]
  },
  {
   "cell_type": "code",
   "execution_count": 32,
   "metadata": {},
   "outputs": [
    {
     "name": "stdout",
     "output_type": "stream",
     "text": [
      "[x_0, x_1, x_2, x_3, x_4, x_5]\n",
      "[theta_0, theta_1, theta_2, theta_3, theta_4, theta_5]\n"
     ]
    }
   ],
   "source": [
    "X = ss.x_vars()\n",
    "Theta = ss.theta_vars()\n",
    "print(X)\n",
    "print(Theta)"
   ]
  },
  {
   "cell_type": "code",
   "execution_count": 33,
   "metadata": {},
   "outputs": [
    {
     "name": "stdout",
     "output_type": "stream",
     "text": [
      "theta_0*x_0^2+theta_1*x_1^2+theta_2*x_2^2+theta_3*x_3^2+theta_4*x_4^2+theta_5*x_5^2\n",
      "True\n"
     ]
    }
   ],
   "source": [
    "# We create here a symmetric polynomial\n",
    "my_sym_pol = sum(Theta[k]*X[k]^2 for k in range(6))\n",
    "print(my_sym_pol)\n",
    "print(ss.is_symmetric(my_sym_pol))"
   ]
  },
  {
   "cell_type": "code",
   "execution_count": 34,
   "metadata": {},
   "outputs": [
    {
     "name": "stdout",
     "output_type": "stream",
     "text": [
      "False\n"
     ]
    }
   ],
   "source": [
    "# The following is not symmetric since our superspace is defined over N=6\n",
    "my_nonsym_pol = theta_1*x_1 + theta_2*x_2 + theta_3*x_3\n",
    "print(ss.is_symmetric(my_nonsym_pol))"
   ]
  },
  {
   "cell_type": "markdown",
   "metadata": {},
   "source": [
    "There is a method that symmetrize your polynomial by applying every permutation of SN, it really is every permutation, not just distinct one, so use with care since you can easily crash Sage and Singular with $N>9$. For these high variables cases, special care must be taken. But here with $N=6$ it's all fine:"
   ]
  },
  {
   "cell_type": "code",
   "execution_count": 35,
   "metadata": {},
   "outputs": [
    {
     "name": "stdout",
     "output_type": "stream",
     "text": [
      "360*theta_0*x_0+360*theta_1*x_1+360*theta_2*x_2+360*theta_3*x_3+360*theta_4*x_4+360*theta_5*x_5\n",
      "True\n"
     ]
    }
   ],
   "source": [
    "symmed = ss.symmetrize(my_nonsym_pol)\n",
    "print(symmed)\n",
    "print(ss.is_symmetric(symmed))"
   ]
  },
  {
   "cell_type": "markdown",
   "metadata": {},
   "source": [
    "We see here that a lot of permutations were computed for nothing. For cases where speed is crucial, we implemented a distinct permutation generator for the problem at hand. In `superspace.py`, if you want to take a look, see `superspace.monomial(self, spart)` where every step is well documented.\n",
    "\n",
    "For more information on how to handle these objetcs or create your own methods in superspace see:\n",
    "\n",
    "http://doc.sagemath.org/html/en/reference/interfaces/sage/interfaces/singular.html?highlight=singular#module-sage.interfaces.singular\n",
    "\n",
    "https://www.singular.uni-kl.de/index.php/singular-manual.html\n",
    "\n",
    "Reading `superspace.py` might help you with the philosphy adopted here. "
   ]
  },
  {
   "cell_type": "markdown",
   "metadata": {},
   "source": [
    "## Symmetric superpolynomials\n",
    "We now introduce the space of symmetric superpolynomials. We first define the space:"
   ]
  },
  {
   "cell_type": "code",
   "execution_count": 36,
   "metadata": {},
   "outputs": [
    {
     "data": {
      "text/plain": [
       "Symmetric superfunctions over Rational Field"
      ]
     },
     "execution_count": 36,
     "metadata": {},
     "output_type": "execute_result"
    }
   ],
   "source": [
    "Sym = SymSuperfunctionsAlgebra(QQ)\n",
    "Sym"
   ]
  },
  {
   "cell_type": "markdown",
   "metadata": {},
   "source": [
    "We could have declared it with another coefficient ring, such as `ZZ`, but many things would fail because  their connection with the powersum basis (which is not a basis over  $\\mathbb{Z}$).\n"
   ]
  },
  {
   "cell_type": "markdown",
   "metadata": {},
   "source": [
    "### The monomial basis\n",
    "Now this allows us to define the basis over the ring. For instance, one can introduce the monomial basis like so:"
   ]
  },
  {
   "cell_type": "code",
   "execution_count": 37,
   "metadata": {},
   "outputs": [
    {
     "data": {
      "text/plain": [
       "Symmetric superfunctions over Rational Field in the Monomial basis"
      ]
     },
     "execution_count": 37,
     "metadata": {},
     "output_type": "execute_result"
    }
   ],
   "source": [
    "m = Sym.Monomial()\n",
    "m"
   ]
  },
  {
   "cell_type": "markdown",
   "metadata": {},
   "source": [
    "We can now write an expression in the monomial basis:"
   ]
  },
  {
   "cell_type": "code",
   "execution_count": 38,
   "metadata": {},
   "outputs": [
    {
     "name": "stdout",
     "output_type": "stream",
     "text": [
      "3*m[[3, 2], [1, 1]] + 5/2*m[[3, 0], [2, 2]]\n"
     ]
    }
   ],
   "source": [
    "Sparts = Superpartitions()\n",
    "spart1 = Sparts([[3,2],[1,1]])\n",
    "spart2 = Sparts([[3,0],[2,2]])\n",
    "some_expr = 3*m(spart1) + 5/2*m(spart2)\n",
    "print(some_expr)"
   ]
  },
  {
   "cell_type": "markdown",
   "metadata": {},
   "source": [
    "Now you see that we have defined two superpartition-type object to create our element of basis. When doing large scripts this is the way to go ( that is `m( superpartition )`). But when experimenting directly, it is rather cumbersome to define superpartitions, that's why abuse of notation is allowed. One could equally write the following:"
   ]
  },
  {
   "cell_type": "code",
   "execution_count": 39,
   "metadata": {},
   "outputs": [
    {
     "name": "stdout",
     "output_type": "stream",
     "text": [
      "3*m[[3, 2], [1, 1]] + 5/2*m[[3, 0], [2, 2]]\n"
     ]
    }
   ],
   "source": [
    "easier_to_write = 3*m[[3,2],[1,1]] + 5/2*m[[3,0],[2,2]]\n",
    "print(easier_to_write)"
   ]
  },
  {
   "cell_type": "markdown",
   "metadata": {},
   "source": [
    "Incidentally, this also allows copy-and-paste of printed results as valid sage expressions. Now back to the monomial basis, the product of two monomials is implemented:"
   ]
  },
  {
   "cell_type": "code",
   "execution_count": 40,
   "metadata": {},
   "outputs": [
    {
     "name": "stdout",
     "output_type": "stream",
     "text": [
      "2/3*m[[2, 0], [2, 1, 1]] + 3*m[[1, 0], [3, 2]]\n",
      "Result of left multiplication by m[[1],[]]\n",
      "-2/3*m[[2, 1, 0], [2, 1, 1]] + 2/3*m[[3, 2, 0], [1, 1]] + 3*m[[3, 1, 0], [3]] + 3*m[[4, 1, 0], [2]]\n"
     ]
    }
   ],
   "source": [
    "my_pol = 3*m[[1,0],[3,2]] + 2/3*m[[2,0],[2,1,1]]\n",
    "print(my_pol)\n",
    "print('Result of left multiplication by m[[1],[]]')\n",
    "my_other_pol = m[[1],[]]*my_pol\n",
    "print(my_other_pol)"
   ]
  },
  {
   "cell_type": "markdown",
   "metadata": {},
   "source": [
    "#### Expansion on the variables\n",
    "Any expression can easily be expressed in superspace. One should take note that the number of variables must be at least the length of the longest superpartition in the expression. "
   ]
  },
  {
   "cell_type": "code",
   "execution_count": 41,
   "metadata": {},
   "outputs": [],
   "source": [
    "# We introduce the space of symmetric functions\n",
    "sym = SymSuperfunctionsAlgebra(QQ)\n",
    "m = sym.Monomial()\n",
    "# We introduce the superspace in 4 variables\n",
    "ss = superspace(4)"
   ]
  },
  {
   "cell_type": "code",
   "execution_count": 42,
   "metadata": {},
   "outputs": [
    {
     "name": "stdout",
     "output_type": "stream",
     "text": [
      "11*m[[1, 0], [2, 2]] + 2*m[[2, 0], [3]]\n",
      "2*theta_0*theta_1*x_0^2*x_2^3+2*theta_0*theta_1*x_0^2*x_3^3+11*theta_0*theta_1*x_0*x_2^2*x_3^2-2*theta_0*theta_1*x_1^2*x_2^3-2*theta_0*theta_1*x_1^2*x_3^3-11*theta_0*theta_1*x_1*x_2^2*x_3^2+2*theta_0*theta_2*x_0^2*x_1^3+2*theta_0*theta_2*x_0^2*x_3^3+11*theta_0*theta_2*x_0*x_1^2*x_3^2-2*theta_0*theta_2*x_1^3*x_2^2-11*theta_0*theta_2*x_1^2*x_2*x_3^2-2*theta_0*theta_2*x_2^2*x_3^3+2*theta_0*theta_3*x_0^2*x_1^3+2*theta_0*theta_3*x_0^2*x_2^3+11*theta_0*theta_3*x_0*x_1^2*x_2^2-2*theta_0*theta_3*x_1^3*x_3^2-11*theta_0*theta_3*x_1^2*x_2^2*x_3-2*theta_0*theta_3*x_2^3*x_3^2+2*theta_1*theta_2*x_0^3*x_1^2-2*theta_1*theta_2*x_0^3*x_2^2+11*theta_1*theta_2*x_0^2*x_1*x_3^2-11*theta_1*theta_2*x_0^2*x_2*x_3^2+2*theta_1*theta_2*x_1^2*x_3^3-2*theta_1*theta_2*x_2^2*x_3^3+2*theta_1*theta_3*x_0^3*x_1^2-2*theta_1*theta_3*x_0^3*x_3^2+11*theta_1*theta_3*x_0^2*x_1*x_2^2-11*theta_1*theta_3*x_0^2*x_2^2*x_3+2*theta_1*theta_3*x_1^2*x_2^3-2*theta_1*theta_3*x_2^3*x_3^2+2*theta_2*theta_3*x_0^3*x_2^2-2*theta_2*theta_3*x_0^3*x_3^2+11*theta_2*theta_3*x_0^2*x_1^2*x_2-11*theta_2*theta_3*x_0^2*x_1^2*x_3+2*theta_2*theta_3*x_1^3*x_2^2-2*theta_2*theta_3*x_1^3*x_3^2\n"
     ]
    }
   ],
   "source": [
    "# We make an arbitrary expression with random integers [0,15] as coefficient\n",
    "# Here we use the numpy package for the random integer generator\n",
    "rand_integer = np.random.randint\n",
    "rand_expr = rand_integer(15)*m[[2,0],[3]] + rand_integer(15)*m[[1,0],[2,2]]\n",
    "print(rand_expr)\n",
    "# Now we expand over the superspace ss\n",
    "expr_x = rand_expr.expand(ss)\n",
    "print(expr_x)"
   ]
  },
  {
   "cell_type": "markdown",
   "metadata": {},
   "source": [
    "The monomial expression can be retrieved (this works with any basis) with `basis.from_polynomial(poly, superspace)`"
   ]
  },
  {
   "cell_type": "code",
   "execution_count": 43,
   "metadata": {
    "scrolled": true
   },
   "outputs": [
    {
     "name": "stdout",
     "output_type": "stream",
     "text": [
      "11*m[[1, 0], [2, 2]] + 2*m[[2, 0], [3]]\n",
      "True\n"
     ]
    }
   ],
   "source": [
    "back_in_m = m.from_polynomial(expr_x, ss)\n",
    "print(back_in_m)\n",
    "print(back_in_m == rand_expr)"
   ]
  },
  {
   "cell_type": "markdown",
   "metadata": {},
   "source": [
    "Here we recall that a monomial with length $< N$ will yield 0 when expanded, the `expand` method will warn you about that:"
   ]
  },
  {
   "cell_type": "code",
   "execution_count": 44,
   "metadata": {},
   "outputs": [
    {
     "name": "stdout",
     "output_type": "stream",
     "text": [
      "Warning, the number of variables of this superspace is less than the length of the longest superpartition, any monomial with len(lambda) > N will be set to 0.\n",
      "\n",
      "3*m[[1, 0], [1, 1]] + m[[1, 0], [2]]\n",
      "\n",
      "m[[1, 0], [2]]\n"
     ]
    }
   ],
   "source": [
    "sym = SymSuperfunctionsAlgebra(QQ)\n",
    "m = sym.Monomial()\n",
    "ss = superspace(3)\n",
    "\n",
    "my_expr = m[[1,0],[2]] + 3*m[[1,0],[1,1]]\n",
    "my_expr_x = my_expr.expand(ss)\n",
    "mono_from_x = m.from_polynomial(my_expr_x, ss)\n",
    "\n",
    "print(\"\")\n",
    "print(my_expr)\n",
    "print(\"\")\n",
    "print(mono_from_x)"
   ]
  },
  {
   "cell_type": "markdown",
   "metadata": {},
   "source": [
    "### Mutliplicative bases\n",
    "We introduce the other three multiplicative basis respectively the power-sum, elementary and completely homogeneous bases:"
   ]
  },
  {
   "cell_type": "code",
   "execution_count": 45,
   "metadata": {},
   "outputs": [
    {
     "name": "stdout",
     "output_type": "stream",
     "text": [
      "Symmetric superfunctions over Rational Field in the Powersum basis\n",
      "Symmetric superfunctions over Rational Field in the Elementary basis\n",
      "Symmetric superfunctions over Rational Field in the Homogeneous basis\n"
     ]
    }
   ],
   "source": [
    "p = Sym.Powersum()\n",
    "e = Sym.Elementary()\n",
    "h = Sym.Homogeneous()\n",
    "print(p); print(e); print(h)"
   ]
  },
  {
   "cell_type": "markdown",
   "metadata": {},
   "source": [
    "To define elements of this basis, it works the same as with monomials. You can either declare `p( a_superpartition )` or write directely `p[[...], [...]]`"
   ]
  },
  {
   "cell_type": "code",
   "execution_count": 46,
   "metadata": {},
   "outputs": [
    {
     "name": "stdout",
     "output_type": "stream",
     "text": [
      "1/4*p[[1, 0], [2, 2]] + 3*p[[3, 2], []]\n",
      "1/4*e[[1, 0], [2, 2]] + 3*e[[3, 2], []]\n",
      "1/4*h[[1, 0], [2, 2]] + 3*h[[3, 2], []]\n"
     ]
    }
   ],
   "source": [
    "pol_in_p = 1/4*p[[1,0],[2,2]] + 3*p[[3,2], []]\n",
    "pol_in_e = 1/4*e[[1,0],[2,2]] + 3*e[[3,2], []]\n",
    "pol_in_h = 1/4*h[[1,0],[2,2]] + 3*h[[3,2], []]\n",
    "print(pol_in_p)\n",
    "print(pol_in_e)\n",
    "print(pol_in_h)"
   ]
  },
  {
   "cell_type": "markdown",
   "metadata": {},
   "source": [
    "The proper multiplication rules work out of the box:"
   ]
  },
  {
   "cell_type": "code",
   "execution_count": 47,
   "metadata": {},
   "outputs": [
    {
     "name": "stdout",
     "output_type": "stream",
     "text": [
      "1/4*p[[2, 1, 0], [2, 2]]\n",
      "1/4*e[[2, 1, 0], [2, 2]]\n",
      "1/4*h[[2, 1, 0], [2, 2]]\n"
     ]
    }
   ],
   "source": [
    "print(p[[2],[]]*pol_in_p)\n",
    "print(e[[2],[]]*pol_in_e)\n",
    "print(h[[2],[]]*pol_in_h)"
   ]
  },
  {
   "cell_type": "markdown",
   "metadata": {},
   "source": [
    "It has to be noted that the basis indexed by the empty partition is considered to be unity (which differs from `p[[],[]] <-> 0` convention that we have in many formulas.)"
   ]
  },
  {
   "cell_type": "code",
   "execution_count": 48,
   "metadata": {},
   "outputs": [
    {
     "name": "stdout",
     "output_type": "stream",
     "text": [
      "1/4*p[[1, 0], [2, 2]] + 3*p[[3, 2], []]\n",
      "1/4*e[[1, 0], [2, 2]] + 3*e[[3, 2], []]\n",
      "1/4*h[[1, 0], [2, 2]] + 3*h[[3, 2], []]\n"
     ]
    }
   ],
   "source": [
    "print(p[[],[]]*pol_in_p)\n",
    "print(e[[],[]]*pol_in_e)\n",
    "print(h[[],[]]*pol_in_h)"
   ]
  },
  {
   "cell_type": "markdown",
   "metadata": {},
   "source": [
    "As with the monomial case, one can expand expressions in variables:"
   ]
  },
  {
   "cell_type": "code",
   "execution_count": 49,
   "metadata": {},
   "outputs": [
    {
     "name": "stdout",
     "output_type": "stream",
     "text": [
      "theta_0*theta_1*x_0^3-theta_0*theta_1*x_0^2*x_1+theta_0*theta_1*x_0*x_1^2+theta_0*theta_1*x_0*x_2^2-theta_0*theta_1*x_1^3-theta_0*theta_1*x_1*x_2^2+theta_0*theta_2*x_0^3-theta_0*theta_2*x_0^2*x_2+theta_0*theta_2*x_0*x_1^2+theta_0*theta_2*x_0*x_2^2-theta_0*theta_2*x_1^2*x_2-theta_0*theta_2*x_2^3+theta_1*theta_2*x_0^2*x_1-theta_1*theta_2*x_0^2*x_2+theta_1*theta_2*x_1^3-theta_1*theta_2*x_1^2*x_2+theta_1*theta_2*x_1*x_2^2-theta_1*theta_2*x_2^3\n",
      "\n",
      "p[[1, 0], [2]]\n",
      "-e[[1, 0], [1, 1]] + 2*e[[1, 0], [2]]\n"
     ]
    }
   ],
   "source": [
    "ss = superspace(3)\n",
    "p_pol = p[[1,0],[2]]\n",
    "p_pol_x = p_pol.expand(ss)\n",
    "print(p_pol_x)\n",
    "print(\"\")\n",
    "# and convert polynomials back on any basis\n",
    "print(p.from_polynomial(p_pol_x, ss))\n",
    "print(e.from_polynomial(p_pol_x, ss))"
   ]
  },
  {
   "cell_type": "markdown",
   "metadata": {},
   "source": [
    "### Change of basis\n",
    "Obtaining the expression on another basis is achieved by the following syntax:\n",
    "\n",
    "`new_basis( expr )`\n",
    "\n",
    "He are some examples :"
   ]
  },
  {
   "cell_type": "code",
   "execution_count": 50,
   "metadata": {},
   "outputs": [
    {
     "name": "stdout",
     "output_type": "stream",
     "text": [
      "1/2*m[[2, 1], [1]] + m[[2, 0], [2]]\n",
      "1/2*p[[2, 1], [1]] + p[[2, 0], [2]] - 1/2*p[[3, 1], []] - p[[4, 0], []]\n"
     ]
    }
   ],
   "source": [
    "my_expr = m[[2,0],[2]] + 1/2*m[[2,1],[1]]\n",
    "print(my_expr)\n",
    "my_expr_p = p(my_expr)\n",
    "print(my_expr_p)"
   ]
  },
  {
   "cell_type": "markdown",
   "metadata": {},
   "source": [
    "Comparision between expressions on different basis is a valid operation:"
   ]
  },
  {
   "cell_type": "code",
   "execution_count": 51,
   "metadata": {},
   "outputs": [
    {
     "name": "stdout",
     "output_type": "stream",
     "text": [
      "True\n"
     ]
    }
   ],
   "source": [
    "print(my_expr == my_expr_p)"
   ]
  },
  {
   "cell_type": "markdown",
   "metadata": {},
   "source": [
    "The implementation of change of basis is not lighting fast, but it seems sufficiently fast for most research purposes. \n",
    "\n",
    "Now the fact that we can compare two expressions expressed on different bases comes from the coercion model of Sage. The coercion is some kind of automatic conversion that allows one to make operations that make sense mathematically without having to explicitely program what is meant by this operation. For instance, you can multiply two different basis:"
   ]
  },
  {
   "cell_type": "code",
   "execution_count": 52,
   "metadata": {},
   "outputs": [
    {
     "data": {
      "text/plain": [
       "-p[[3, 1], [2, 1, 1, 1]] + p[[3, 1], [3, 1, 1]] + p[[4, 1], [2, 1, 1]] + p[[5, 1], [1, 1, 1]] - 2*p[[6, 1], [1, 1]]"
      ]
     },
     "execution_count": 52,
     "metadata": {},
     "output_type": "execute_result"
    }
   ],
   "source": [
    "p[[1],[1,1]]*m[[3],[2,1]]"
   ]
  },
  {
   "cell_type": "markdown",
   "metadata": {},
   "source": [
    "So for example, we can test relations quite explicitely. Let us verify\n",
    "$$\n",
    "5 h_5 = \\sum_{r=1}^5 p_r h_{5-r}\n",
    "$$"
   ]
  },
  {
   "cell_type": "code",
   "execution_count": 53,
   "metadata": {},
   "outputs": [
    {
     "name": "stdout",
     "output_type": "stream",
     "text": [
      "5*h[[], [5]]\n"
     ]
    }
   ],
   "source": [
    "# We first evaluate the right hand side (in python range(a,b) = [a,a+1, ..., b-1])\n",
    "rhs = sum(p[[],[r]]*h[[],[5-r]] for r in range(1,6))\n",
    "# We convert the sum to the basis h and print the result\n",
    "print(h(rhs))"
   ]
  },
  {
   "cell_type": "markdown",
   "metadata": {},
   "source": [
    "Which was expected. We now evaluate\n",
    "$$\n",
    "6\\tilde{h}_5 = \\sum_{r=0}^5 p_r \\tilde{h}_{n-r} + (r+1)\\tilde{p}_rh_{n-r}\n",
    "$$\n",
    "Note that we split the sum in two since the program evaluates `p[[],[]]` as the identity instead of 0. "
   ]
  },
  {
   "cell_type": "code",
   "execution_count": 54,
   "metadata": {},
   "outputs": [
    {
     "name": "stdout",
     "output_type": "stream",
     "text": [
      "6*h[[5], []]\n"
     ]
    }
   ],
   "source": [
    "sum1 = sum(p[[],[r]]*h[[5-r],[]] for r in range(1,6))  \n",
    "sum2 = sum((r+1)*p[[r],[]]*h[[],[5-r]] for r in range(0,6))\n",
    "print(h(sum1+sum2))"
   ]
  },
  {
   "cell_type": "markdown",
   "metadata": {},
   "source": [
    "as expected. Finally, we evaluate the following\n",
    "$$\n",
    "(6+1)\\tilde{e}_6 = \\sum_{r=0}^n (-1)^{r+1}\\left[ p_r\\tilde{e}_{6-r}\n",
    "- (r+1)\\tilde{p}_r e_{6-r} \\right]\n",
    "$$"
   ]
  },
  {
   "cell_type": "code",
   "execution_count": 55,
   "metadata": {},
   "outputs": [
    {
     "name": "stdout",
     "output_type": "stream",
     "text": [
      "7*e[[6], []]\n"
     ]
    }
   ],
   "source": [
    "sum1 = sum((-1)**(r+1)*p[[],[r]]*e[[6-r],[]] for r in range(1,7))  \n",
    "sum2 = sum((-1)**(r+1)*(r+1)*p[[r],[]]*e[[],[6-r]] for r in range(0,7))\n",
    "print(e(sum1-sum2))"
   ]
  },
  {
   "cell_type": "markdown",
   "metadata": {},
   "source": [
    "which is again the expected result.  "
   ]
  },
  {
   "cell_type": "markdown",
   "metadata": {},
   "source": [
    "### Ring homomorphism I\n",
    "The $\\hat{\\omega}$ homomorphism is defined on every basis. \n",
    "You can obtain the result of the involution with `expr.omega()`, it will return the effect of the homomorphism on the same basis you started from. Here is an exemple:"
   ]
  },
  {
   "cell_type": "code",
   "execution_count": 56,
   "metadata": {},
   "outputs": [
    {
     "name": "stdout",
     "output_type": "stream",
     "text": [
      "We have the following superpolynomial\n",
      "1/4*e[[1, 0], [2, 2]] + 3*e[[3, 2], []]\n",
      "We apply the omega homomoprhism\n",
      "-13/4*e[[1, 0], [1, 1, 1, 1]] + 1/2*e[[1, 0], [2, 1, 1]] - 49/4*e[[1, 0], [2, 2]] + 6*e[[2, 0], [1, 1, 1]] - 3*e[[2, 1], [1, 1]] + 6*e[[2, 0], [2, 1]] + 12*e[[1, 0], [3, 1]] - 9*e[[3, 0], [1, 1]] - 6*e[[2, 1], [2]] + 6*e[[3, 1], [1]] - 6*e[[2, 0], [3]] + 6*e[[3, 0], [2]] - 3*e[[3, 2], []]\n",
      "We then convert the result to the homogeneous basis\n",
      "1/4*h[[1, 0], [2, 2]] + 3*h[[3, 2], []]\n"
     ]
    }
   ],
   "source": [
    "print('We have the following superpolynomial')\n",
    "print(pol_in_e)\n",
    "print('We apply the omega homomoprhism')\n",
    "print(pol_in_e.omega())\n",
    "print('We then convert the result to the homogeneous basis')\n",
    "print(h(pol_in_e.omega()))"
   ]
  },
  {
   "cell_type": "markdown",
   "metadata": {},
   "source": [
    "The mechanics of `expr.omega()` converts the expression to the powersum basis, apply omega and converts back to the starting basis. So the previous operation would be faster if one converts `pol_in_e` to powersums before applying omega, then convert the result to the homogeneous basis.\n",
    "\n",
    "The operation is well defined on expression in any basis here is an example on the powersum basis:"
   ]
  },
  {
   "cell_type": "code",
   "execution_count": 57,
   "metadata": {},
   "outputs": [
    {
     "name": "stdout",
     "output_type": "stream",
     "text": [
      "1/2*p[[1, 0], [3, 2, 1]] + p[[2, 0], [3, 2]]\n",
      "Result of omega:\n"
     ]
    },
    {
     "data": {
      "text/plain": [
       "1/2*p[[1, 0], [3, 2, 1]] - p[[2, 0], [3, 2]]"
      ]
     },
     "execution_count": 57,
     "metadata": {},
     "output_type": "execute_result"
    }
   ],
   "source": [
    "an_expr = p[[2,0],[3,2]] + 1/2*p[[1,0],[3,2,1]]\n",
    "print(an_expr)\n",
    "print('Result of omega:')\n",
    "an_expr.omega()"
   ]
  },
  {
   "cell_type": "markdown",
   "metadata": {},
   "source": [
    "### Scalar product\n",
    "We now introduce the `expr.scalar_product(other_expr)` method. Here is an example of usage: "
   ]
  },
  {
   "cell_type": "code",
   "execution_count": 58,
   "metadata": {},
   "outputs": [
    {
     "name": "stdout",
     "output_type": "stream",
     "text": [
      "19\n",
      "5/2*p[[3, 2, 1], [1]] + 2*p[[4, 2, 1], []] + p[[6, 1, 0], []]\n",
      "13*p[[4, 2, 0], [1]] + 33*p[[4, 2, 1], []] + p[[6, 1, 0], []]\n",
      "We now evaluate the scalar product between those two\n"
     ]
    },
    {
     "data": {
      "text/plain": [
       "-67"
      ]
     },
     "execution_count": 58,
     "metadata": {},
     "output_type": "execute_result"
    }
   ],
   "source": [
    "Sparts_7_3 = Superpartitions(7,3)\n",
    "sparts = list(Sparts_7_3)\n",
    "print(len(sparts))\n",
    "expr1 = p(sparts[0]) + 2*p(sparts[3]) + 5/2*p(sparts[6])\n",
    "expr2 = p(sparts[0]) + 33*p(sparts[3]) + 13*p(sparts[5])\n",
    "print(expr1)\n",
    "print(expr2)\n",
    "print('We now evaluate the scalar product between those two')\n",
    "expr1.scalar_product(expr2)"
   ]
  },
  {
   "cell_type": "markdown",
   "metadata": {},
   "source": [
    "The method is well defined for any two basis. So for instance you can do the following:"
   ]
  },
  {
   "cell_type": "code",
   "execution_count": 59,
   "metadata": {},
   "outputs": [
    {
     "data": {
      "text/plain": [
       "-23"
      ]
     },
     "execution_count": 59,
     "metadata": {},
     "output_type": "execute_result"
    }
   ],
   "source": [
    "expr_m = m[[3,0],[1,1]] + m[[3,1],[1]]+ m[[1,0],[1,1,1,1]]\n",
    "expr_p = p[[5,0],[]] + p[[1,0],[2,1,1]] + 22*p[[1,0],[1,1,1,1]]\n",
    "expr_m.scalar_product(expr_p)"
   ]
  },
  {
   "cell_type": "markdown",
   "metadata": {},
   "source": [
    "We add examples illustrating some properties. First, the monomial and the homogeneous are dual with respect to the scalar product (in superspace duality is defined up to a sign)."
   ]
  },
  {
   "cell_type": "code",
   "execution_count": 60,
   "metadata": {},
   "outputs": [
    {
     "name": "stdout",
     "output_type": "stream",
     "text": [
      "[-1, -1, -1, -1, -1, -1, -1, -1, -1, -1, -1, -1, -1, -1, -1, -1, -1, -1, -1, -1, -1, -1, -1, -1, -1, -1, -1, -1, -1, -1, -1, -1, -1]\n"
     ]
    }
   ],
   "source": [
    "# We generate the set of superpartitions with 8 boxes and 3 circles\n",
    "spart_set = Superpartitions(8,3)\n",
    "# We take the scalar product between m_\\Lambda and h_\\Lambda for \n",
    "# every \\Lambda in that set. The scalar product are store in a list.\n",
    "scals = [m(spart).scalar_product(h(spart)) for spart in spart_set]\n",
    "print(scals)"
   ]
  },
  {
   "cell_type": "markdown",
   "metadata": {},
   "source": [
    "It is known that the elementary basis is dual to the forgotten basis. \n",
    "Even though the later is not explicitely programmed, we can test that property by assuming $f_\\Lambda = \\hat{\\omega}(m_\\Lambda)$. \n",
    "Note that the following snipet of code might take a minute to execute. \n",
    "This is because, for every partition, the monomial has to be converted to powersums in order to apply the $\\hat{\\omega}$ involution and then converted back into monomials and back into powersum to evaluate the scalar product with $e_\\Lambda$ which itself has to be converted to powersum in the process. \n",
    "If the forgotten basis is implemented in the future, this whole process should be much faster. \n",
    "For now though, the implementation of the forgotten basis is not a priority. "
   ]
  },
  {
   "cell_type": "code",
   "execution_count": 61,
   "metadata": {},
   "outputs": [
    {
     "name": "stdout",
     "output_type": "stream",
     "text": [
      "[-1, -1, -1, -1, -1, -1, -1, -1, -1, -1, -1, -1, -1, -1, -1, -1, -1, -1, -1, -1, -1, -1, -1, -1, -1, -1, -1, -1, -1, -1, -1, -1, -1]\n"
     ]
    }
   ],
   "source": [
    "# Generate some set\n",
    "Sparts = Superpartitions(4,2)\n",
    "scals = [m(spart).omega().scalar_product(e(spart)) for spart in spart_set]\n",
    "print(scals)"
   ]
  },
  {
   "cell_type": "markdown",
   "metadata": {},
   "source": [
    "### The kernel and the Cauchy formula\n",
    "Here we do not introduce the Kernel since its usefulness lies more in analytical calculation than in a computer algebra system. However we verify properties shown in the compendium.\n",
    "\n",
    "We have\n",
    "\n",
    "$$\n",
    "\\tilde{h}_n = \\sum_{\\Lambda \\vdash (n|1)} z_\\Lambda^{-1} p_\\Lambda\n",
    "$$\n",
    "\n",
    "Let us verify this for $n=5$"
   ]
  },
  {
   "cell_type": "code",
   "execution_count": 62,
   "metadata": {},
   "outputs": [
    {
     "name": "stdout",
     "output_type": "stream",
     "text": [
      "1/120*p[[0], [1, 1, 1, 1, 1]] + 1/24*p[[1], [1, 1, 1, 1]] + 1/12*p[[0], [2, 1, 1, 1]] + 1/4*p[[1], [2, 1, 1]] + 1/6*p[[2], [1, 1, 1]] + 1/8*p[[0], [2, 2, 1]] + 1/6*p[[0], [3, 1, 1]] + 1/8*p[[1], [2, 2]] + 1/2*p[[2], [2, 1]] + 1/3*p[[1], [3, 1]] + 1/2*p[[3], [1, 1]] + 1/6*p[[0], [3, 2]] + 1/4*p[[0], [4, 1]] + 1/3*p[[2], [3]] + 1/2*p[[3], [2]] + 1/4*p[[1], [4]] + p[[4], [1]] + 1/5*p[[0], [5]] + p[[5], []]\n",
      "\n",
      " Converted to homogeneous\n",
      "h[[5], []]\n"
     ]
    }
   ],
   "source": [
    "sym = SymSuperfunctionsAlgebra(QQ.fraction_field())\n",
    "p = sym.Powersum()\n",
    "h = sym.Homogeneous()\n",
    "sparts = Superpartitions(5,1)\n",
    "rhs = sum(1/(spart.z_lambda())*p(spart) for spart in sparts)\n",
    "print(rhs)\n",
    "print(\"\\n Converted to homogeneous\")\n",
    "print(h(rhs))"
   ]
  },
  {
   "cell_type": "markdown",
   "metadata": {},
   "source": [
    "Let us also verify \n",
    "$$\n",
    "\\tilde{e}_5 = \\sum_{\\Lambda \\vdash (5|1)} z_\\Lambda^{-1} \\omega_\\Lambda p_\\Lambda\n",
    "$$"
   ]
  },
  {
   "cell_type": "code",
   "execution_count": 63,
   "metadata": {},
   "outputs": [
    {
     "name": "stdout",
     "output_type": "stream",
     "text": [
      "1/120*p[[0], [1, 1, 1, 1, 1]] - 1/24*p[[1], [1, 1, 1, 1]] - 1/12*p[[0], [2, 1, 1, 1]] + 1/4*p[[1], [2, 1, 1]] + 1/6*p[[2], [1, 1, 1]] + 1/8*p[[0], [2, 2, 1]] + 1/6*p[[0], [3, 1, 1]] - 1/8*p[[1], [2, 2]] - 1/2*p[[2], [2, 1]] - 1/3*p[[1], [3, 1]] - 1/2*p[[3], [1, 1]] - 1/6*p[[0], [3, 2]] - 1/4*p[[0], [4, 1]] + 1/3*p[[2], [3]] + 1/2*p[[3], [2]] + 1/4*p[[1], [4]] + p[[4], [1]] + 1/5*p[[0], [5]] - p[[5], []]\n",
      "\n",
      " As elementary\n",
      "e[[5], []]\n"
     ]
    }
   ],
   "source": [
    "e = sym.Elementary()\n",
    "rhs = sum(1/(spart.z_lambda())*p(spart).omega() for spart in sparts)\n",
    "print(rhs)\n",
    "print(\"\\n As elementary\")\n",
    "print(e(rhs))"
   ]
  },
  {
   "cell_type": "markdown",
   "metadata": {},
   "source": [
    "### The one parameter space of symmetric superfunctions\n",
    "We now want to define our superpolynomial ring over rational polynomials in one variable, namely $\\alpha$. To do so, we have to introduce the ring like this:"
   ]
  },
  {
   "cell_type": "code",
   "execution_count": 64,
   "metadata": {},
   "outputs": [
    {
     "name": "stdout",
     "output_type": "stream",
     "text": [
      "Fraction Field of Univariate Polynomial Ring in alpha over Rational Field\n",
      "Symmetric superfunctions over Fraction Field of Univariate Polynomial Ring in alpha over Rational Field\n",
      "Defining m as shorthand for Symmetric superfunctions over Fraction Field of Univariate Polynomial Ring in alpha over Rational Field in the Monomial basis\n",
      "Defining h as shorthand for Symmetric superfunctions over Fraction Field of Univariate Polynomial Ring in alpha over Rational Field in the Homogeneous basis\n",
      "Defining p as shorthand for Symmetric superfunctions over Fraction Field of Univariate Polynomial Ring in alpha over Rational Field in the Powersum basis\n",
      "Defining e as shorthand for Symmetric superfunctions over Fraction Field of Univariate Polynomial Ring in alpha over Rational Field in the Elementary basis\n"
     ]
    }
   ],
   "source": [
    "# We first define the coefficient ring\n",
    "# Note that we add .fracion_field() so that it is allowed to \n",
    "# write expressions such as (alpha+1)/(3*alpha+2)\n",
    "QQalpha = QQ['alpha'].fraction_field()\n",
    "print(QQalpha)\n",
    "# We can now introduce the symmetric functions\n",
    "Sym_alpha = SymSuperfunctionsAlgebra(QQalpha)\n",
    "print(Sym_alpha)\n",
    "# We inject the basis definitions\n",
    "Sym_alpha.inject_shorthands()"
   ]
  },
  {
   "cell_type": "markdown",
   "metadata": {},
   "source": [
    "From there, it is now possible to define polynomials with coefficients including $\\alpha$. Even though the ring knows the existence of the symbol $\\alpha$, \n",
    "we must assign the symbol to a variable to directly write expressions with it:"
   ]
  },
  {
   "cell_type": "code",
   "execution_count": 65,
   "metadata": {},
   "outputs": [
    {
     "name": "stdout",
     "output_type": "stream",
     "text": [
      "alpha\n",
      "alpha^2 + 2*alpha\n"
     ]
    }
   ],
   "source": [
    "alpha = QQalpha.gen()\n",
    "# Now the variable alpha is associated with the symbol alpha\n",
    "print(alpha)\n",
    "# And so we can write expressions out of it\n",
    "print(alpha**2 + 2*alpha)"
   ]
  },
  {
   "cell_type": "markdown",
   "metadata": {},
   "source": [
    "And so, we are now able to introduce superpolynomials with coeffients as functions of $\\alpha$: "
   ]
  },
  {
   "cell_type": "code",
   "execution_count": 66,
   "metadata": {},
   "outputs": [
    {
     "name": "stdout",
     "output_type": "stream",
     "text": [
      "(3*alpha/(2*alpha+2))*m[[1, 0], [2, 1]] + m[[2, 0], [1, 1]]\n"
     ]
    }
   ],
   "source": [
    "my_alpha_pol = m[[2,0],[1,1]] + 3*alpha/(2*alpha+2)*m[[1,0],[2,1]]\n",
    "print(my_alpha_pol)"
   ]
  },
  {
   "cell_type": "markdown",
   "metadata": {},
   "source": [
    "### One paremeter deformation of the scalar product\n",
    "Now that we have a proper ring, we can introduce a new scalar product. "
   ]
  },
  {
   "cell_type": "code",
   "execution_count": 67,
   "metadata": {},
   "outputs": [
    {
     "data": {
      "text/plain": [
       "-6*alpha^5 - 3*alpha^4"
      ]
     },
     "execution_count": 67,
     "metadata": {},
     "output_type": "execute_result"
    }
   ],
   "source": [
    "my_expr = p[[2,0],[3,1]] + p[[1,0],[3,1,1]]\n",
    "my_expr.scalar_alpha(my_expr)"
   ]
  },
  {
   "cell_type": "markdown",
   "metadata": {},
   "source": [
    "Note that again, this is well defined for any classical basis:"
   ]
  },
  {
   "cell_type": "code",
   "execution_count": 68,
   "metadata": {},
   "outputs": [
    {
     "data": {
      "text/plain": [
       "-3*alpha^7 - 4*alpha^6 - 14*alpha^5 - 30*alpha^4 - 26*alpha^3 - 8*alpha^2"
      ]
     },
     "execution_count": 68,
     "metadata": {},
     "output_type": "execute_result"
    }
   ],
   "source": [
    "my_mono_expr = (2*(alpha + 1)*m[[2,0],[1,1]] +\n",
    "                alpha**2*m[[1,0],[3]])\n",
    "my_mono_expr.scalar_alpha(my_mono_expr)"
   ]
  },
  {
   "cell_type": "markdown",
   "metadata": {},
   "source": [
    "### The $\\alpha$-deformed homogeneous basis\n",
    "We now introduce the $g_\\Lambda$ basis, it is introduced as `galpha`. \n",
    "\n",
    "So let us define, the space"
   ]
  },
  {
   "cell_type": "code",
   "execution_count": 69,
   "metadata": {},
   "outputs": [
    {
     "name": "stdout",
     "output_type": "stream",
     "text": [
      "Defining m as shorthand for Symmetric superfunctions over Fraction Field of Univariate Polynomial Ring in alpha over Rational Field in the Monomial basis\n",
      "Defining h as shorthand for Symmetric superfunctions over Fraction Field of Univariate Polynomial Ring in alpha over Rational Field in the Homogeneous basis\n",
      "Defining p as shorthand for Symmetric superfunctions over Fraction Field of Univariate Polynomial Ring in alpha over Rational Field in the Powersum basis\n",
      "Defining e as shorthand for Symmetric superfunctions over Fraction Field of Univariate Polynomial Ring in alpha over Rational Field in the Elementary basis\n"
     ]
    }
   ],
   "source": [
    "QQa = QQ['alpha'].fraction_field()\n",
    "Syma = SymSuperfunctionsAlgebra(QQa)\n",
    "Syma.inject_shorthands()"
   ]
  },
  {
   "cell_type": "markdown",
   "metadata": {},
   "source": [
    "We now define the `galpha` basis"
   ]
  },
  {
   "cell_type": "code",
   "execution_count": 70,
   "metadata": {},
   "outputs": [
    {
     "data": {
      "text/plain": [
       "Symmetric superfunctions over Fraction Field of Univariate Polynomial Ring in alpha over Rational Field in the Galpha basis"
      ]
     },
     "execution_count": 70,
     "metadata": {},
     "output_type": "execute_result"
    }
   ],
   "source": [
    "galpha = Syma.Galpha()\n",
    "galpha"
   ]
  },
  {
   "cell_type": "markdown",
   "metadata": {},
   "source": [
    "It works just like any other basis:"
   ]
  },
  {
   "cell_type": "code",
   "execution_count": 71,
   "metadata": {},
   "outputs": [
    {
     "name": "stdout",
     "output_type": "stream",
     "text": [
      "galpha[[4], [1]]\n",
      "120/(24*alpha^6)*m[[0], [1, 1, 1, 1, 1]] + ((576*alpha+720)/(144*alpha^6))*m[[1], [1, 1, 1, 1]] + ((144*alpha+240)/(96*alpha^6))*m[[0], [2, 1, 1, 1]] + ((1152*alpha^2+4032*alpha+2880)/(1152*alpha^6))*m[[1], [2, 1, 1]] + ((3456*alpha^2+6336*alpha+2880)/(1152*alpha^6))*m[[2], [1, 1, 1]] + ((192*alpha^2+1152*alpha+960)/(768*alpha^6))*m[[0], [2, 2, 1]] + ((11520*alpha^2+23040*alpha+11520)/(9216*alpha^6))*m[[1], [2, 2]] + ((18432*alpha^3+101376*alpha^2+129024*alpha+46080)/(36864*alpha^6))*m[[2], [2, 1]] + ((192*alpha^2+432*alpha+240)/(288*alpha^6))*m[[0], [3, 1, 1]] + ((3456*alpha^3+17280*alpha^2+22464*alpha+8640)/(10368*alpha^6))*m[[1], [3, 1]] + ((1344*alpha^2+2304*alpha+960)/(2304*alpha^6))*m[[0], [3, 2]] + ((13824*alpha^3+32256*alpha^2+24192*alpha+5760)/(6912*alpha^6))*m[[3], [1, 1]] + ((2304*alpha^3+7296*alpha^2+6912*alpha+1920)/(9216*alpha^6))*m[[0], [4, 1]] + ((276480*alpha^3+691200*alpha^2+552960*alpha+138240)/(331776*alpha^6))*m[[2], [3]] + ((165888*alpha^3+340992*alpha^2+221184*alpha+46080)/(110592*alpha^6))*m[[3], [2]] + ((193536*alpha^3+428544*alpha^2+304128*alpha+69120)/(331776*alpha^6))*m[[1], [4]] + ((1327104*alpha^4+4091904*alpha^3+4368384*alpha^2+1880064*alpha+276480)/(1327104*alpha^6))*m[[4], [1]] + ((2304*alpha^3+4224*alpha^2+2304*alpha+384)/(9216*alpha^6))*m[[0], [5]] + ((1327104*alpha^4+2764800*alpha^3+1935360*alpha^2+552960*alpha+55296)/(1327104*alpha^6))*m[[5], []]\n"
     ]
    }
   ],
   "source": [
    "MyPol = galpha[[4],[1]]\n",
    "print(MyPol)\n",
    "MyPol_in_m = m(MyPol)\n",
    "print(MyPol_in_m)"
   ]
  },
  {
   "cell_type": "markdown",
   "metadata": {},
   "source": [
    "Now we see here that the result of the conversion to the monomial basis looks rather messy. Sage does not provide a built-in way of factoring the coefficient of monomials, but one has been implemented. We easily obtain a more readable expression by typing `expr.collect()`: "
   ]
  },
  {
   "cell_type": "code",
   "execution_count": 72,
   "metadata": {},
   "outputs": [
    {
     "data": {
      "text/plain": [
       "5/alpha^6*m[[0], [1, 1, 1, 1, 1]] + ((4*alpha+5)/alpha^6)*m[[1], [1, 1, 1, 1]] + ((3*alpha+5)/(2*alpha^6))*m[[0], [2, 1, 1, 1]] + ((2*alpha^2+7*alpha+5)/(2*alpha^6))*m[[1], [2, 1, 1]] + ((6*alpha^2+11*alpha+5)/(2*alpha^6))*m[[2], [1, 1, 1]] + ((alpha^2+6*alpha+5)/(4*alpha^6))*m[[0], [2, 2, 1]] + ((5*alpha^2+10*alpha+5)/(4*alpha^6))*m[[1], [2, 2]] + ((2*alpha^3+11*alpha^2+14*alpha+5)/(4*alpha^6))*m[[2], [2, 1]] + ((4*alpha^2+9*alpha+5)/(6*alpha^6))*m[[0], [3, 1, 1]] + ((2*alpha^3+10*alpha^2+13*alpha+5)/(6*alpha^6))*m[[1], [3, 1]] + ((7*alpha^2+12*alpha+5)/(12*alpha^6))*m[[0], [3, 2]] + ((12*alpha^3+28*alpha^2+21*alpha+5)/(6*alpha^6))*m[[3], [1, 1]] + ((10*alpha^3+25*alpha^2+20*alpha+5)/(12*alpha^6))*m[[2], [3]] + ((18*alpha^3+37*alpha^2+24*alpha+5)/(12*alpha^6))*m[[3], [2]] + ((6*alpha^3+19*alpha^2+18*alpha+5)/(24*alpha^6))*m[[0], [4, 1]] + ((14*alpha^3+31*alpha^2+22*alpha+5)/(24*alpha^6))*m[[1], [4]] + ((24*alpha^4+74*alpha^3+79*alpha^2+34*alpha+5)/(24*alpha^6))*m[[4], [1]] + ((6*alpha^3+11*alpha^2+6*alpha+1)/(24*alpha^6))*m[[0], [5]] + ((24*alpha^4+50*alpha^3+35*alpha^2+10*alpha+1)/(24*alpha^6))*m[[5], []]"
      ]
     },
     "execution_count": 72,
     "metadata": {},
     "output_type": "execute_result"
    }
   ],
   "source": [
    "MyPol_in_m.collect()"
   ]
  },
  {
   "cell_type": "markdown",
   "metadata": {},
   "source": [
    "which is a little bit better. It not quite what we are looking for yet, but I will make progress on the presention front later. \n",
    "\n",
    "\n",
    "Now, let us illustrate the orthonormality property: \n",
    "$$\n",
    "< m_\\Lambda | g_\\Omega >_\\alpha = (-1)^{\\binom{m}{2}}\\delta_{\\Lambda \\Omega}\n",
    "$$\n",
    "\n",
    "which is shown here for the sector $n=5, m=2$: "
   ]
  },
  {
   "cell_type": "code",
   "execution_count": 73,
   "metadata": {},
   "outputs": [
    {
     "name": "stdout",
     "output_type": "stream",
     "text": [
      "[-1, -1, -1, -1, -1, -1, -1, -1, -1, -1, -1, -1, -1, -1, -1, -1, -1]\n"
     ]
    }
   ],
   "source": [
    "sparts = Superpartitions(5,2)\n",
    "scals = [m(spart).scalar_alpha(galpha(spart)) for spart in sparts]\n",
    "print(scals)"
   ]
  },
  {
   "cell_type": "markdown",
   "metadata": {},
   "source": [
    "### Ring homomorphism II\n",
    "We now introduce the $\\alpha$-deformation of the endomorphism $\\hat{\\omega}$, namely $\\hat{\\omega}_\\alpha$. To call it, you simply use the following formulation `expr.omega_alpha()`: "
   ]
  },
  {
   "cell_type": "code",
   "execution_count": 74,
   "metadata": {},
   "outputs": [
    {
     "name": "stdout",
     "output_type": "stream",
     "text": [
      "alpha^6*p[[1, 0], [2, 1, 1, 1]] - 32*alpha^3*p[[2, 1], [3]]\n"
     ]
    }
   ],
   "source": [
    "my_expr = p[[1,0],[2,1,1,1]] + 32*p[[2,1],[3]]\n",
    "omega_expr = my_expr.omega_alpha()\n",
    "print(omega_expr)"
   ]
  },
  {
   "cell_type": "markdown",
   "metadata": {},
   "source": [
    "To apply the operation, though, you have to make sure that you are indeed working with bases defined from the right coefficient ring, otherwise it will raise an error. "
   ]
  },
  {
   "cell_type": "code",
   "execution_count": 75,
   "metadata": {},
   "outputs": [
    {
     "name": "stdout",
     "output_type": "stream",
     "text": [
      "An error has been raised\n"
     ]
    }
   ],
   "source": [
    "bad_p = SymSuperfunctionsAlgebra(QQ).Powersum()\n",
    "an_expr = bad_p[[1,0],[3]]\n",
    "# We do the error handling here:\n",
    "try:\n",
    "    # It will run this \n",
    "    an_expr.omega_alpha()\n",
    "    # and if it produces an error will execute instructions in except: \n",
    "except:\n",
    "    print(\"An error has been raised\")"
   ]
  },
  {
   "cell_type": "markdown",
   "metadata": {},
   "source": [
    "Now, since the $g_\\Lambda$ basis is the $\\alpha$-deformation of the homogeneous basis, we have the following property\n",
    "$$\\hat{\\omega}_\\alpha(g_\\Lambda) = e_\\Lambda$$\n",
    "As can be seen here: "
   ]
  },
  {
   "cell_type": "code",
   "execution_count": 76,
   "metadata": {},
   "outputs": [
    {
     "name": "stdout",
     "output_type": "stream",
     "text": [
      "galpha[[4, 0], []]\n",
      "We apply omega_alpha\n",
      "e[[4, 0], []]\n",
      "\n",
      "galpha[[3, 1], []]\n",
      "We apply omega_alpha\n",
      "e[[3, 1], []]\n",
      "\n",
      "galpha[[3, 0], [1]]\n",
      "We apply omega_alpha\n",
      "e[[3, 0], [1]]\n",
      "\n",
      "galpha[[2, 1], [1]]\n",
      "We apply omega_alpha\n",
      "e[[2, 1], [1]]\n",
      "\n",
      "galpha[[2, 0], [2]]\n",
      "We apply omega_alpha\n",
      "e[[2, 0], [2]]\n",
      "\n",
      "galpha[[2, 0], [1, 1]]\n",
      "We apply omega_alpha\n",
      "e[[2, 0], [1, 1]]\n",
      "\n",
      "galpha[[1, 0], [3]]\n",
      "We apply omega_alpha\n",
      "e[[1, 0], [3]]\n",
      "\n",
      "galpha[[1, 0], [2, 1]]\n",
      "We apply omega_alpha\n",
      "e[[1, 0], [2, 1]]\n",
      "\n",
      "galpha[[1, 0], [1, 1, 1]]\n",
      "We apply omega_alpha\n",
      "e[[1, 0], [1, 1, 1]]\n",
      "\n"
     ]
    }
   ],
   "source": [
    "sparts = Superpartitions(4,2)\n",
    "for spart in sparts:\n",
    "    expr = galpha(spart)\n",
    "    print(expr)\n",
    "    print(\"We apply omega_alpha\")\n",
    "    om_expr = expr.omega_alpha()\n",
    "    om_expr_in_e = e(om_expr)\n",
    "    print(om_expr_in_e)\n",
    "    print('')"
   ]
  },
  {
   "cell_type": "markdown",
   "metadata": {},
   "source": [
    "and so the test is successful. "
   ]
  },
  {
   "cell_type": "markdown",
   "metadata": {},
   "source": [
    "# Jack superpolynomials\n",
    "## Combinatorial characterization\n",
    "Given the $\\alpha$-scalar product and the dominance ordering on superpartitions, one can define the Jack superpolynomials. \n",
    "\n",
    "We now introduce the implementation of those superfunctions. "
   ]
  },
  {
   "cell_type": "code",
   "execution_count": 77,
   "metadata": {},
   "outputs": [
    {
     "name": "stdout",
     "output_type": "stream",
     "text": [
      "Defining m as shorthand for Symmetric superfunctions over Fraction Field of Univariate Polynomial Ring in alpha over Rational Field in the Monomial basis\n",
      "Defining h as shorthand for Symmetric superfunctions over Fraction Field of Univariate Polynomial Ring in alpha over Rational Field in the Homogeneous basis\n",
      "Defining p as shorthand for Symmetric superfunctions over Fraction Field of Univariate Polynomial Ring in alpha over Rational Field in the Powersum basis\n",
      "Defining e as shorthand for Symmetric superfunctions over Fraction Field of Univariate Polynomial Ring in alpha over Rational Field in the Elementary basis\n"
     ]
    }
   ],
   "source": [
    "QQa = FractionField(QQ['alpha'])\n",
    "alpha = QQa.gen()\n",
    "Sym = SymSuperfunctionsAlgebra(QQa)\n",
    "Sym.inject_shorthands()\n",
    "Palpha = Sym.Jack()"
   ]
  },
  {
   "cell_type": "markdown",
   "metadata": {},
   "source": [
    "This basis works like any other basis"
   ]
  },
  {
   "cell_type": "code",
   "execution_count": 78,
   "metadata": {},
   "outputs": [
    {
     "name": "stdout",
     "output_type": "stream",
     "text": [
      "Palpha[[2, 0], [3, 2]] + Palpha[[3, 0], [2, 2]]\n"
     ]
    }
   ],
   "source": [
    "my_expr = Palpha[[2,0],[3,2]] + Palpha[[3,0],[2,2]]\n",
    "print(my_expr)"
   ]
  },
  {
   "cell_type": "markdown",
   "metadata": {},
   "source": [
    "We know from the combinatorial definition that these superpolynomials are triangular on the monomial basis. We illustrate this fact by giving the expansion of the `Palpha`'s on the monomial basis for the sector $(5,3)$"
   ]
  },
  {
   "cell_type": "code",
   "execution_count": 79,
   "metadata": {},
   "outputs": [
    {
     "name": "stdout",
     "output_type": "stream",
     "text": [
      "The Jack for [[4, 1, 0], []] is \n",
      "(2/(2*alpha^2+3*alpha+1))*m[[2, 1, 0], [1, 1]] + (1/(2*alpha+1))*m[[2, 1, 0], [2]] + (2/(2*alpha+1))*m[[3, 1, 0], [1]] + (1/(2*alpha+1))*m[[3, 2, 0], []] + m[[4, 1, 0], []]\n",
      "\n",
      "The Jack for [[3, 2, 0], []] is \n",
      "(1/(alpha^2+2*alpha+1))*m[[2, 1, 0], [1, 1]] + (-alpha/(2*alpha^2+4*alpha+2))*m[[2, 1, 0], [2]] + (1/(alpha+1))*m[[3, 1, 0], [1]] + m[[3, 2, 0], []]\n",
      "\n",
      "The Jack for [[3, 1, 0], [1]] is \n",
      "(2/(alpha+1))*m[[2, 1, 0], [1, 1]] + (1/(alpha+1))*m[[2, 1, 0], [2]] + m[[3, 1, 0], [1]]\n",
      "\n",
      "The Jack for [[2, 1, 0], [2]] is \n",
      "(2/(alpha+2))*m[[2, 1, 0], [1, 1]] + m[[2, 1, 0], [2]]\n",
      "\n",
      "The Jack for [[2, 1, 0], [1, 1]] is \n",
      "m[[2, 1, 0], [1, 1]]\n",
      "\n"
     ]
    }
   ],
   "source": [
    "for a_spart in Superpartitions(5,3):\n",
    "    print(\"The Jack for \" + str(a_spart) + \" is \")\n",
    "    print(m(Palpha(a_spart)))\n",
    "    print('') #Spacing of output"
   ]
  },
  {
   "cell_type": "markdown",
   "metadata": {},
   "source": [
    "We also know that those polynomials are orthogonal:"
   ]
  },
  {
   "cell_type": "code",
   "execution_count": 80,
   "metadata": {},
   "outputs": [
    {
     "name": "stdout",
     "output_type": "stream",
     "text": [
      "[[[5, 1, 0], []], [[4, 2, 0], []]]\n",
      "0\n",
      "\n",
      "[[[5, 1, 0], []], [[3, 2, 1], []]]\n",
      "0\n",
      "\n",
      "[[[5, 1, 0], []], [[4, 1, 0], [1]]]\n",
      "0\n",
      "\n",
      "[[[5, 1, 0], []], [[3, 2, 0], [1]]]\n",
      "0\n",
      "\n",
      "[[[5, 1, 0], []], [[3, 1, 0], [2]]]\n",
      "0\n",
      "\n",
      "[[[5, 1, 0], []], [[3, 1, 0], [1, 1]]]\n",
      "0\n",
      "\n",
      "[[[5, 1, 0], []], [[2, 1, 0], [3]]]\n",
      "0\n",
      "\n",
      "[[[5, 1, 0], []], [[2, 1, 0], [2, 1]]]\n",
      "0\n",
      "\n",
      "[[[5, 1, 0], []], [[2, 1, 0], [1, 1, 1]]]\n",
      "0\n",
      "\n",
      "[[[4, 2, 0], []], [[3, 2, 1], []]]\n",
      "0\n",
      "\n",
      "[[[4, 2, 0], []], [[4, 1, 0], [1]]]\n",
      "0\n",
      "\n",
      "[[[4, 2, 0], []], [[3, 2, 0], [1]]]\n",
      "0\n",
      "\n",
      "[[[4, 2, 0], []], [[3, 1, 0], [2]]]\n",
      "0\n",
      "\n",
      "[[[4, 2, 0], []], [[3, 1, 0], [1, 1]]]\n",
      "0\n",
      "\n",
      "[[[4, 2, 0], []], [[2, 1, 0], [3]]]\n",
      "0\n",
      "\n",
      "[[[4, 2, 0], []], [[2, 1, 0], [2, 1]]]\n",
      "0\n",
      "\n",
      "[[[4, 2, 0], []], [[2, 1, 0], [1, 1, 1]]]\n",
      "0\n",
      "\n",
      "[[[3, 2, 1], []], [[4, 1, 0], [1]]]\n",
      "0\n",
      "\n",
      "[[[3, 2, 1], []], [[3, 2, 0], [1]]]\n",
      "0\n",
      "\n",
      "[[[3, 2, 1], []], [[3, 1, 0], [2]]]\n",
      "0\n",
      "\n",
      "[[[3, 2, 1], []], [[3, 1, 0], [1, 1]]]\n",
      "0\n",
      "\n",
      "[[[3, 2, 1], []], [[2, 1, 0], [3]]]\n",
      "0\n",
      "\n",
      "[[[3, 2, 1], []], [[2, 1, 0], [2, 1]]]\n",
      "0\n",
      "\n",
      "[[[3, 2, 1], []], [[2, 1, 0], [1, 1, 1]]]\n",
      "0\n",
      "\n",
      "[[[4, 1, 0], [1]], [[3, 2, 0], [1]]]\n",
      "0\n",
      "\n",
      "[[[4, 1, 0], [1]], [[3, 1, 0], [2]]]\n",
      "0\n",
      "\n",
      "[[[4, 1, 0], [1]], [[3, 1, 0], [1, 1]]]\n",
      "0\n",
      "\n",
      "[[[4, 1, 0], [1]], [[2, 1, 0], [3]]]\n",
      "0\n",
      "\n",
      "[[[4, 1, 0], [1]], [[2, 1, 0], [2, 1]]]\n",
      "0\n",
      "\n",
      "[[[4, 1, 0], [1]], [[2, 1, 0], [1, 1, 1]]]\n",
      "0\n",
      "\n",
      "[[[3, 2, 0], [1]], [[3, 1, 0], [2]]]\n",
      "0\n",
      "\n",
      "[[[3, 2, 0], [1]], [[3, 1, 0], [1, 1]]]\n",
      "0\n",
      "\n",
      "[[[3, 2, 0], [1]], [[2, 1, 0], [3]]]\n",
      "0\n",
      "\n",
      "[[[3, 2, 0], [1]], [[2, 1, 0], [2, 1]]]\n",
      "0\n",
      "\n",
      "[[[3, 2, 0], [1]], [[2, 1, 0], [1, 1, 1]]]\n",
      "0\n",
      "\n",
      "[[[3, 1, 0], [2]], [[3, 1, 0], [1, 1]]]\n",
      "0\n",
      "\n",
      "[[[3, 1, 0], [2]], [[2, 1, 0], [3]]]\n",
      "0\n",
      "\n",
      "[[[3, 1, 0], [2]], [[2, 1, 0], [2, 1]]]\n",
      "0\n",
      "\n",
      "[[[3, 1, 0], [2]], [[2, 1, 0], [1, 1, 1]]]\n",
      "0\n",
      "\n",
      "[[[3, 1, 0], [1, 1]], [[2, 1, 0], [3]]]\n",
      "0\n",
      "\n",
      "[[[3, 1, 0], [1, 1]], [[2, 1, 0], [2, 1]]]\n",
      "0\n",
      "\n",
      "[[[3, 1, 0], [1, 1]], [[2, 1, 0], [1, 1, 1]]]\n",
      "0\n",
      "\n",
      "[[[2, 1, 0], [3]], [[2, 1, 0], [2, 1]]]\n",
      "0\n",
      "\n",
      "[[[2, 1, 0], [3]], [[2, 1, 0], [1, 1, 1]]]\n",
      "0\n",
      "\n",
      "[[[2, 1, 0], [2, 1]], [[2, 1, 0], [1, 1, 1]]]\n",
      "0\n",
      "\n"
     ]
    }
   ],
   "source": [
    "sparts_set = Superpartitions(6,3)\n",
    "sparts_pairs = Combinations(sparts_set, 2)\n",
    "for a_pair in sparts_pairs:\n",
    "    print(a_pair)\n",
    "    spart1, spart2 = a_pair\n",
    "    scalar_prod = Palpha(spart1).scalar_alpha(Palpha(spart2))\n",
    "    print(scalar_prod)\n",
    "    print('')"
   ]
  },
  {
   "cell_type": "markdown",
   "metadata": {},
   "source": [
    "## Eigenfunction characterization"
   ]
  },
  {
   "cell_type": "markdown",
   "metadata": {},
   "source": [
    "We now illustrate how one can obtain the Jack polynomial from the Eigenvalue problem. We provide both the operators $D$ and $\\Delta$ with the methods `superspace.Djack(expr)` and `superspace.DeltaJack(expr)`."
   ]
  },
  {
   "cell_type": "code",
   "execution_count": 81,
   "metadata": {},
   "outputs": [
    {
     "name": "stdout",
     "output_type": "stream",
     "text": [
      "b5*m[[1, 0], [1, 1, 1, 1]] + b4*m[[1, 0], [2, 1, 1]] + b3*m[[2, 0], [1, 1, 1]] + b2*m[[1, 0], [2, 2]] + b1*m[[2, 1], [1, 1]] + b0*m[[2, 0], [2, 1]] + m[[2, 1], [2]]\n",
      "\n",
      "\n",
      "Result of D\n",
      "((2*b3+6*b4-5*b5)/(alpha-2))*m[[1, 0], [1, 1, 1, 1]] + ((alpha*b4+2*b0+2*b2-6*b4)/(2*alpha-4))*m[[1, 0], [2, 1, 1]] + b2*m[[1, 0], [2, 2]] + ((alpha*b3+6*b0-6*b3)/(2*alpha-4))*m[[2, 0], [1, 1, 1]] + ((alpha*b1+2*b0-6*b1+2)/(2*alpha-4))*m[[2, 1], [1, 1]] + b0*m[[2, 0], [2, 1]] + m[[2, 1], [2]]\n",
      "\n",
      "Result of Delta\n",
      "((alpha*b5+4*b3-5*b5)/(3*alpha-2))*m[[1, 0], [1, 1, 1, 1]] + ((alpha*b4+2*b0-b1+b3-5*b4)/(3*alpha-2))*m[[1, 0], [2, 1, 1]] + ((alpha*b2+2*b0-5*b2-2)/(3*alpha-2))*m[[1, 0], [2, 2]] + ((2*alpha*b3+3*b1-4*b3)/(3*alpha-2))*m[[2, 0], [1, 1, 1]] + ((3*alpha*b1-2*b0-b1)/(3*alpha-2))*m[[2, 1], [1, 1]] + ((2*alpha*b0-3*b0+1)/(3*alpha-2))*m[[2, 0], [2, 1]] + m[[2, 1], [2]]\n"
     ]
    }
   ],
   "source": [
    "sparts = Superpartitions()\n",
    "dom_spart = sparts([[2,1],[2]])\n",
    "smaller = dom_spart.get_smaller_sparts()\n",
    "\n",
    "# Now we need a coefficient ring that will accept indeterminates\n",
    "#   The parameter     The indeterminates         As many as #sparts\n",
    "#         \\             /                           /\n",
    "params = ['alpha'] + ['b' + str(k) for k in range(len(smaller))]\n",
    "coef_ring = PolynomialRing(QQ, params).fraction_field()\n",
    "\n",
    "sym = SymSuperfunctionsAlgebra(coef_ring) \n",
    "# The ak variables \n",
    "indets = coef_ring.gens()[1:]\n",
    "m = sym.Monomial()\n",
    "# We get the generic expression of the Jack polynomial\n",
    "expr = m(dom_spart) + sum(indets[k]*m(smaller[k]) for k in range(len(smaller)))\n",
    "print(expr)\n",
    "print(\"\\n\")\n",
    "\n",
    "# We need this expression in the variables\n",
    "N = max([len(spart) for spart in smaller])\n",
    "ss = superspace(N, parameters = params)\n",
    "expr_x = expr.expand(ss)\n",
    "\n",
    "# We apply the two operators\n",
    "# Notice that we normalize the expression so that the leading coefficient\n",
    "# remains unity\n",
    "Dexpr_x = ss.Djack(expr_x).normalize()\n",
    "Dexpr = m.from_polynomial(Dexpr_x, ss)\n",
    "Deltaexpr_x = ss.DeltaJack(expr_x).normalize()\n",
    "Deltaexpr = m.from_polynomial(Deltaexpr_x, ss)\n",
    "print('Result of D')\n",
    "print(Dexpr)\n",
    "print(\"\\nResult of Delta\")\n",
    "print(Deltaexpr)"
   ]
  },
  {
   "cell_type": "markdown",
   "metadata": {},
   "source": [
    "We are looking for coefficients `a0, a1, ...` such that `expr` is an eigenfunction of the two operators. This means, since we normalized the result of the action of the operators, that `expr - Operator(expr).normalize()` should be zero. By the linear independence of every monomial, each coefficient must be zero. That is how we obtain the folowing system of equations."
   ]
  },
  {
   "cell_type": "code",
   "execution_count": 82,
   "metadata": {},
   "outputs": [
    {
     "name": "stdout",
     "output_type": "stream",
     "text": [
      "{b2: -2*alpha/(2*alpha^2 + 5*alpha + 3), b5: 24/(2*alpha^3 + 9*alpha^2 + 13*alpha + 6), b1: 2/(alpha + 1), b4: 6/(2*alpha^3 + 9*alpha^2 + 13*alpha + 6), b0: 1/(alpha + 1), b3: 6/(alpha^2 + 3*alpha + 2)}\n",
      "\n",
      "\n",
      "(24/(2*alpha^3+9*alpha^2+13*alpha+6))*m[[1, 0], [1, 1, 1, 1]] + (6/(2*alpha^3+9*alpha^2+13*alpha+6))*m[[1, 0], [2, 1, 1]] + ((-2*alpha)/(2*alpha^2+5*alpha+3))*m[[1, 0], [2, 2]] + (6/(alpha^2+3*alpha+2))*m[[2, 0], [1, 1, 1]] + (2/(alpha+1))*m[[2, 1], [1, 1]] + (1/(alpha+1))*m[[2, 0], [2, 1]] + m[[2, 1], [2]]\n",
      "We check if this is the right expression by comparing with the polynomial obtained from the scalar product\n",
      "True\n"
     ]
    }
   ],
   "source": [
    "eqn_system1 = (expr - Dexpr).monomial_coefficients().values()\n",
    "eqn_system2 = (expr - Deltaexpr).monomial_coefficients().values()\n",
    "eqn_system = eqn_system1 + eqn_system2\n",
    "\n",
    "# Solving only works on the symbolic ring\n",
    "# So we convert every equation to SR\n",
    "SR_system = [SR(x) for x in eqn_system]\n",
    "# And the indeterminates too\n",
    "SR_indets = [SR(x) for x in indets]\n",
    "# Now we solve. The [0] at the end is there because\n",
    "# solve returns a list of all solutions (even if there is only one).\n",
    "solns = solve(SR_system, SR_indets, solution_dict=True)[0]\n",
    "print(solns)\n",
    "print(\"\\n\")\n",
    "# We convert these to the coef_ring\n",
    "sub_dict = {coef_ring(x):coef_ring(solns[x]) for x in solns}\n",
    "\n",
    "# We thus obtain\n",
    "final_jack = expr.subs_coeff(sub_dict)\n",
    "print(final_jack)\n",
    "Palpha = sym.Jack()\n",
    "print(\"We check if this is the right expression by comparing with the polynomial obtained from the scalar product\")\n",
    "print(Palpha(dom_spart) == final_jack)"
   ]
  },
  {
   "cell_type": "markdown",
   "metadata": {},
   "source": [
    "We can also easily verify the eigenvalues"
   ]
  },
  {
   "cell_type": "code",
   "execution_count": 83,
   "metadata": {},
   "outputs": [
    {
     "name": "stdout",
     "output_type": "stream",
     "text": [
      "Defining QQqta as Fraction Field of Multivariate Polynomial Ring in q, t, alpha over Rational Field\n",
      "Defining Sym as Symmetric superfunctions over Fraction Field of Multivariate Polynomial Ring in q, t, alpha over Rational Field\n",
      "Defining m, p, e, h as monomial, powersum, elementary andhomogensous bases\n",
      "Defining Sparts as superpartitions\n"
     ]
    },
    {
     "data": {
      "text/latex": [
       "$$\\epsilon_\\Lambda: \\left(2 \\alpha - 4\\right)Palpha_{[[2, 0], [2, 1]]}$$"
      ],
      "text/plain": [
       "<IPython.core.display.Math object>"
      ]
     },
     "metadata": {},
     "output_type": "display_data"
    },
    {
     "data": {
      "text/latex": [
       "$$\\tilde{\\epsilon}_\\Lambda: \\left(2 \\alpha - 3\\right)Palpha_{[[2, 0], [2, 1]]}$$"
      ],
      "text/plain": [
       "<IPython.core.display.Math object>"
      ]
     },
     "metadata": {},
     "output_type": "display_data"
    }
   ],
   "source": [
    "super_init()\n",
    "Palpha = Sym.Jack()\n",
    "jack = Palpha[[2,0],[2,1]]\n",
    "ss = superspace(6)\n",
    "jack_x = jack.expand(ss)\n",
    "DJack = Palpha.from_polynomial(ss.Djack(jack_x), ss)\n",
    "DeltaJack = Palpha.from_polynomial(ss.DeltaJack(jack_x), ss)\n",
    "display(Math(r\"\\epsilon_\\Lambda:\" + latex(DJack)))\n",
    "display(Math(r\"\\tilde{\\epsilon}_\\Lambda:\" + latex(DeltaJack)))"
   ]
  },
  {
   "cell_type": "markdown",
   "metadata": {},
   "source": [
    "## The symmetrization construction\n",
    "We now illustrate the construction of the Jack superpolynomials through the symmetrization of the non-symmetric Jack polynomial in superspace. Since the nsJacks are not implemented in Sage, we take the Macdonald non-symmetric polynomial and evaluate the limit. This limiting process is better explained in the Macdonald section. \n",
    "\n",
    "Starting from the following definition\n",
    "\n",
    "$$\n",
    " P^{(\\alpha)}_\\Lambda \\propto \\sum_{\\omega \\in S_N} \\mathcal{K}_\\omega \\theta_0 \\cdots \\theta_{m-1} E_{\\Lambda^R}(x)\n",
    "$$\n",
    "\n",
    "We are going to generate a Jack superpolynomial. We will use $\\Lambda = (1,0;2)$ which implies a composition $\\eta = \\Lambda^R = (0,1,0,2)$ (We add zeroes so that the composition is of length $N$, where $N$ has to be at least equal to the length of the longest superpartition of the sector. \n",
    "\n",
    "To obtain the polynomial, we are going to:\n",
    "1. Initialize the space of symmetric superfunctions and define the Palpha basis.\n",
    "2. Import the non-symmetric Macdonald polynomial and obtain a variable representation for our composition.\n",
    "3. Take the limit case $q=t^\\alpha$ $t\\rightarrow 1$ to obtain the non-symmetric Jack polynomial.\n",
    "4. Convert the resulting expression to a singular expression.\n",
    "5. Mutliply by $\\theta_0 \\theta_1$.\n",
    "6. Symmetrize the result and normalize, we thus obtain the Jack superpolynomial in terms of variables.\n",
    "7. Convert the variable expression to the ring of symmetric function on the Palpha basis.\n",
    "\n",
    "Note that the following procedure is quite slow because of the limiting process. Implementing the non-symmetric Jack polynomial directly could speed it up significantly. We use this method here only for illustration purpose. "
   ]
  },
  {
   "cell_type": "code",
   "execution_count": 84,
   "metadata": {},
   "outputs": [
    {
     "name": "stdout",
     "output_type": "stream",
     "text": [
      "Defining QQqta as Fraction Field of Multivariate Polynomial Ring in q, t, alpha over Rational Field\n",
      "Defining Sym as Symmetric superfunctions over Fraction Field of Multivariate Polynomial Ring in q, t, alpha over Rational Field\n",
      "Defining m, p, e, h as monomial, powersum, elementary andhomogensous bases\n",
      "Defining Sparts as superpartitions\n"
     ]
    }
   ],
   "source": [
    "super_init()\n",
    "Palpha = Sym.Jack()"
   ]
  },
  {
   "cell_type": "code",
   "execution_count": 85,
   "metadata": {},
   "outputs": [
    {
     "name": "stdout",
     "output_type": "stream",
     "text": [
      "Palpha[[1, 0], [2]]\n"
     ]
    }
   ],
   "source": [
    "from sage.combinat.sf.ns_macdonald import E\n",
    "N = 4\n",
    "mm = 2\n",
    "composition = [0,1,0,2]\n",
    "q, t, alpha = QQqta.gens()\n",
    "\n",
    "# Now the non-symmetric Jack polynomial is not implemented in Sage\n",
    "# But the non-symmetric Macdonald is, so we will obtain the nsJack\n",
    "# as the proper limit. We have to reverse the composition and use\n",
    "# a base permutation (pi = perm) because of Sage conventions not\n",
    "# perfectly fitting with ours.\n",
    "perm = range(1,N+1)\n",
    "perm.reverse()\n",
    "perm = Permutation(perm)\n",
    "composition.reverse()\n",
    "nsMacdo = E(composition, q, t, pi=perm)\n",
    "\n",
    "# Now we take the limit, this process will be explained more in depth\n",
    "# in the section on Macdonald polynomials\n",
    "q_sr = SR(q); t_sr = SR(t); alpha_sr = SR(alpha)\n",
    "assume(alpha_sr, 'integer')\n",
    "srMac = factor(SR(nsMacdo).subs({q_sr:t_sr**alpha_sr}))\n",
    "nsJacksr = srMac.limit(t=1)\n",
    "\n",
    "# This polynomial is not in the right ring, so we convert it\n",
    "# to a singular object. Singular accepts strings as expressions\n",
    "# So we take the expr of the nsJack in the variables x0,x1, ...\n",
    "# convert it to a string, change 'xk' --> 'x_k' in the string\n",
    "# expression and parse the string through singular.\n",
    "ss = superspace(N)  # We create the superspace\n",
    "string_list = str(nsJacksr).split('x')\n",
    "singular_str = 'x_'.join(string_list)\n",
    "nsJack_singular = singular(singular_str).normalize()\n",
    "\n",
    "# We now need to multiply this by the theta variables\n",
    "theta = ss.theta_vars()\n",
    "super_nsJack = prod(theta[:mm])*nsJack_singular\n",
    "\n",
    "# We symmetrize the result and normalize\n",
    "superJack = ss.symmetrize(super_nsJack).normalize()\n",
    "\n",
    "# We convert this back in the Macdonald basis\n",
    "superJackPalpha = Palpha.from_polynomial(superJack, ss)\n",
    "print(superJackPalpha)"
   ]
  },
  {
   "cell_type": "markdown",
   "metadata": {},
   "source": [
    "Which illustrates the definition from the non-symmetric polynomials. "
   ]
  },
  {
   "cell_type": "markdown",
   "metadata": {},
   "source": [
    "## Another scalar product\n",
    "We do not implement the analytical scalar product since it is computationally expensive and it's utility is very limited within a computer algebra system."
   ]
  },
  {
   "cell_type": "markdown",
   "metadata": {},
   "source": [
    "## Further properties of Jack superpolynomials\n",
    "\n",
    "### Normalization\n",
    "We use the normalization of the Jack superpolynomials as an opportunity to introduce some methods exctracting combinatorial data off the diagram. \n",
    "\n",
    "#### Combinatorial data\n",
    "Let us first introduce the coordinates of the cells"
   ]
  },
  {
   "cell_type": "code",
   "execution_count": 86,
   "metadata": {},
   "outputs": [
    {
     "name": "stdout",
     "output_type": "stream",
     "text": [
      "■ ■ ■ ■ ■ ■ ■ ○\n",
      "■ ■ ■ ■ ■\n",
      "■ ■ ■ ■ ○\n",
      "■ ■ ○\n",
      "■ ■\n",
      "■ ■\n",
      "■\n",
      "○\n",
      "\n",
      "[(1, 1), (1, 2), (1, 3), (1, 4), (1, 5), (1, 6), (1, 7), (2, 1), (2, 2), (2, 3), (2, 4), (2, 5), (3, 1), (3, 2), (3, 3), (3, 4), (4, 1), (4, 2), (5, 1), (5, 2), (6, 1), (6, 2), (7, 1)]\n"
     ]
    }
   ],
   "source": [
    "sparts = Superpartitions()\n",
    "my_spart = sparts([[7,4,2,0],[5,2,2,1]])\n",
    "my_spart.terminal_diagram()\n",
    "\n",
    "# To obtain the location of every box\n",
    "coords = my_spart.cells()\n",
    "print(coords)"
   ]
  },
  {
   "cell_type": "markdown",
   "metadata": {},
   "source": [
    "As can be seen, the coordinates are returned as $(i,j)$ where the top left corner is $(1,1)$.\n",
    "\n",
    "Now we have two kind of cells, the bosonic and fermionic cells.\n",
    "\n",
    "\n",
    "The fermionic cells are those that have a both a circle to their right and a circle below them:"
   ]
  },
  {
   "cell_type": "code",
   "execution_count": 87,
   "metadata": {},
   "outputs": [
    {
     "name": "stdout",
     "output_type": "stream",
     "text": [
      "[(1, 1), (1, 3), (1, 5), (3, 1), (3, 3), (4, 1)]\n"
     ]
    }
   ],
   "source": [
    "print(my_spart.fermionic_cells())"
   ]
  },
  {
   "cell_type": "markdown",
   "metadata": {},
   "source": [
    "The bosonic cells are those that are not fermionic:"
   ]
  },
  {
   "cell_type": "code",
   "execution_count": 88,
   "metadata": {},
   "outputs": [
    {
     "name": "stdout",
     "output_type": "stream",
     "text": [
      "[(1, 2), (1, 4), (1, 6), (1, 7), (2, 1), (2, 2), (2, 3), (2, 4), (2, 5), (3, 2), (3, 4), (4, 2), (5, 1), (5, 2), (6, 1), (6, 2), (7, 1)]\n"
     ]
    }
   ],
   "source": [
    "print(my_spart.bosonic_cells())"
   ]
  },
  {
   "cell_type": "markdown",
   "metadata": {},
   "source": [
    "The arm length and leg length are not defined directly on the superpartitions. They are only defined on standard partitions. So these quantities are calculated either on $\\Lambda^*$ or $\\Lambda^{\\circledast}$. Keeping the same superpartition as before:\n",
    "\n",
    "`spart.star().arm_length(i, j)`\n",
    "\n",
    "`spart.circle_star().leg_length(i, j)`"
   ]
  },
  {
   "cell_type": "code",
   "execution_count": 89,
   "metadata": {},
   "outputs": [
    {
     "name": "stdout",
     "output_type": "stream",
     "text": [
      "■ ■ ■ ■ ■ ■ ■\n",
      "■ ■ ■ ■ ■\n",
      "■ ■ ■ ■\n",
      "■ ■\n",
      "■ ■\n",
      "■ ■\n",
      "■\n",
      "\n",
      "The leg length of (3,2) is 3\n",
      "The arm length of (3,2) is 2\n"
     ]
    }
   ],
   "source": [
    "my_spart.star().terminal_diagram()\n",
    "leg32 = my_spart.star().leg_length(3,2)\n",
    "arm32 = my_spart.star().arm_length(3,2)\n",
    "print(\"The leg length of (3,2) is \" + str(leg32))\n",
    "print(\"The arm length of (3,2) is \" + str(arm32))"
   ]
  },
  {
   "cell_type": "code",
   "execution_count": 90,
   "metadata": {},
   "outputs": [
    {
     "name": "stdout",
     "output_type": "stream",
     "text": [
      "■ ■ ■ ■ ■ ■ ■ ■\n",
      "■ ■ ■ ■ ■\n",
      "■ ■ ■ ■ ■\n",
      "■ ■ ■\n",
      "■ ■\n",
      "■ ■\n",
      "■\n",
      "■\n",
      "\n",
      "The leg length of (3,2) is 3\n",
      "The arm length of (3,2) is 3\n"
     ]
    }
   ],
   "source": [
    "my_spart.circle_star().terminal_diagram()\n",
    "legtilde32 = my_spart.circle_star().leg_length(3,2)\n",
    "armtilde32 = my_spart.circle_star().arm_length(3,2)\n",
    "print(\"The leg length of (3,2) is \" + str(legtilde32))\n",
    "print(\"The arm length of (3,2) is \" + str(armtilde32))"
   ]
  },
  {
   "cell_type": "markdown",
   "metadata": {},
   "source": [
    "Therefore, we can introduce hook lengths\n",
    "\n",
    "`spart.upper_hook_length(i, j, parameter)`\n",
    "\n",
    "`spart.lower_hook_length(i, j, parameter)`"
   ]
  },
  {
   "cell_type": "code",
   "execution_count": 91,
   "metadata": {},
   "outputs": [
    {
     "name": "stdout",
     "output_type": "stream",
     "text": [
      "3*alpha + 3\n",
      "3*alpha + 4\n"
     ]
    }
   ],
   "source": [
    "QQa = FractionField(QQ['alpha'])\n",
    "alpha = QQa.gen()\n",
    "print(my_spart.upper_hook_length(3, 2, alpha))\n",
    "print(my_spart.lower_hook_length(3, 2, alpha))"
   ]
  },
  {
   "cell_type": "markdown",
   "metadata": {},
   "source": [
    "All the functions illustrated here allows one to program the formula for the normalization of Jack superpolynomials, which is implemented as `instance_of Jack_Basis.calc_norm( spart )`"
   ]
  },
  {
   "cell_type": "code",
   "execution_count": 92,
   "metadata": {},
   "outputs": [
    {
     "data": {
      "text/latex": [
       "$$<P^{\\alpha}_{(2,0;3)} | P^\\alpha_{(2,0;3)}> = -\\frac{{\\left(3 \\, \\alpha + 2\\right)} {\\left(2 \\, \\alpha + 1\\right)} \\alpha^{3}}{2 \\, {\\left(\\alpha + 2\\right)} {\\left(\\alpha + 1\\right)}}$$"
      ],
      "text/plain": [
       "<IPython.core.display.Math object>"
      ]
     },
     "metadata": {},
     "output_type": "display_data"
    },
    {
     "data": {
      "text/latex": [
       "$$||P^{\\alpha}_{(2,0;3)}||^2 = \\frac{{\\left(3 \\, \\alpha + 2\\right)} {\\left(2 \\, \\alpha + 1\\right)} \\alpha^{3}}{2 \\, {\\left(\\alpha + 2\\right)} {\\left(\\alpha + 1\\right)}}$$"
      ],
      "text/plain": [
       "<IPython.core.display.Math object>"
      ]
     },
     "metadata": {},
     "output_type": "display_data"
    }
   ],
   "source": [
    "Sym_a = SymSuperfunctionsAlgebra(QQa)\n",
    "Palpha = Sym_a.Jack()\n",
    "spart = Superpartitions()([[2,0],[3]])\n",
    "my_jack = Palpha(spart)\n",
    "# We obtain the scalar product from the actual operation\n",
    "scal = my_jack.scalar_alpha(my_jack)\n",
    "display(Math(r\"<P^{\\alpha}_{(2,0;3)} | P^\\alpha_{(2,0;3)}> = \" + latex(factor(SR(scal)))))\n",
    "# We obtain the norm by the formula\n",
    "norm_calc = Palpha.calc_norm(spart)\n",
    "display(Math(r\"||P^{\\alpha}_{(2,0;3)}||^2 = \" + latex(factor(SR(norm_calc)))))"
   ]
  },
  {
   "cell_type": "markdown",
   "metadata": {},
   "source": [
    "### Evaluation"
   ]
  },
  {
   "cell_type": "markdown",
   "metadata": {},
   "source": [
    "The evaluation formula is already implemented with the method `expr.evaluation(N)`. We give an example. \n",
    "\n",
    "First we introduce the space of symmetric functions and the Jack basis, note also that a handy function `super_init()` is provided to introduce the coefficient ring, the ring of symmetric superfunction and all the classical bases as well as an instance of `Superpartitions`:"
   ]
  },
  {
   "cell_type": "code",
   "execution_count": 93,
   "metadata": {},
   "outputs": [
    {
     "name": "stdout",
     "output_type": "stream",
     "text": [
      "Defining QQqta as Fraction Field of Multivariate Polynomial Ring in q, t, alpha over Rational Field\n",
      "Defining Sym as Symmetric superfunctions over Fraction Field of Multivariate Polynomial Ring in q, t, alpha over Rational Field\n",
      "Defining m, p, e, h as monomial, powersum, elementary andhomogensous bases\n",
      "Defining Sparts as superpartitions\n"
     ]
    }
   ],
   "source": [
    "super_init()\n",
    "Palpha = Sym.Jack()"
   ]
  },
  {
   "cell_type": "markdown",
   "metadata": {},
   "source": [
    "Now we generate a Jack superpolynomial and obtain its evaluation obtained from the formula:"
   ]
  },
  {
   "cell_type": "code",
   "execution_count": 94,
   "metadata": {},
   "outputs": [
    {
     "name": "stdout",
     "output_type": "stream",
     "text": [
      "3*(2*alpha + 5)*(alpha + 4)/(alpha + 2)^2\n"
     ]
    }
   ],
   "source": [
    "my_jack = Palpha[[2,1,0],[3,1]]\n",
    "eval_jack = my_jack.evaluation(6)\n",
    "print(factor(SR(eval_jack)))"
   ]
  },
  {
   "cell_type": "markdown",
   "metadata": {},
   "source": [
    "Now let us do the same in the variable representation. The code will run as follows:\n",
    "\n",
    "1. We generate a superspace with $N=6$ and expand the Jack superpolynomial on it.\n",
    "2. From the variables expression, we only keep the coefficient of $\\theta_0 \\theta_1 \\theta_2$, that's what `superspace.theta_project(expr)` does\n",
    "3. Generate the Vandermonde determinant in 3 variables\n",
    "4. Factor out the Vandermonde determinant from the expression obtained in 2\n",
    "5. Substitute x_i = 1\n",
    "6. Print the result"
   ]
  },
  {
   "cell_type": "code",
   "execution_count": 95,
   "metadata": {},
   "outputs": [
    {
     "name": "stdout",
     "output_type": "stream",
     "text": [
      "Warning, the number of variables of this superspace is less than the length of the longest superpartition, any monomial with len(lambda) > N will be set to 0.\n",
      "3*(2*alpha + 5)*(alpha + 4)/(alpha + 2)^2\n"
     ]
    }
   ],
   "source": [
    "# Superspace with N = 6\n",
    "ss = superspace(6)\n",
    "# Expressions of the Jack in terms of x_i, theta_i\n",
    "expr = my_jack.expand(ss)\n",
    "# We pick up the coefficient of theta_0 ... theta_{m-1}\n",
    "p_expr = ss.theta_project(expr)\n",
    "# Vandermonde determinant in 3 variables\n",
    "vander = ss.vandermonde(3)\n",
    "# We make the division. Here we use a Singular function for this \n",
    "# puprose since p_expr/vander will return an error. We have to do this\n",
    "# because 1/x_i is not part of the ring. The result of the division is\n",
    "# returned in a table hence the [1][1,1], see Singular documentation.\n",
    "n_p_expr = p_expr.division(vander)[1][1,1]\n",
    "# We get the list of variables\n",
    "X = ss.x_vars()\n",
    "# We prepare the argument for substitution, the following yields a list\n",
    "# of the form [x_0, 1 x_1, 1, ...]\n",
    "subs_arg = flatten([[x, 1] for x in X])\n",
    "# We call the Singular subst function on our polynomial\n",
    "evaluation = n_p_expr.subst(*subs_arg)\n",
    "# We convert the result to a string to convert it to the symbolic ring\n",
    "# without hassle, once on the symbolic ring, we factor it for formating\n",
    "evaluation = factor(SR(str(evaluation)))\n",
    "# We print the result\n",
    "print(evaluation)"
   ]
  },
  {
   "cell_type": "markdown",
   "metadata": {},
   "source": [
    "which is what we obtained with the formula. "
   ]
  },
  {
   "cell_type": "markdown",
   "metadata": {},
   "source": [
    "### Integral form of the Jack superpolynomials\n",
    "Here is a simple example of expansion of the integral form of the Jack polynomial:"
   ]
  },
  {
   "cell_type": "code",
   "execution_count": 96,
   "metadata": {},
   "outputs": [
    {
     "name": "stdout",
     "output_type": "stream",
     "text": [
      "Defining QQqta as Fraction Field of Multivariate Polynomial Ring in q, t, alpha over Rational Field\n",
      "Defining Sym as Symmetric superfunctions over Fraction Field of Multivariate Polynomial Ring in q, t, alpha over Rational Field\n",
      "Defining m, p, e, h as monomial, powersum, elementary andhomogensous bases\n",
      "Defining Sparts as superpartitions\n"
     ]
    }
   ],
   "source": [
    "super_init()\n",
    "Palpha = Sym.Jack()\n",
    "sparts = Superpartitions()"
   ]
  },
  {
   "cell_type": "code",
   "execution_count": 97,
   "metadata": {},
   "outputs": [
    {
     "name": "stdout",
     "output_type": "stream",
     "text": [
      "(120/(2*alpha^3+9*alpha^2+13*alpha+6))*m[[1, 0], [1, 1, 1, 1, 1]] + ((18*alpha+54)/(2*alpha^3+9*alpha^2+13*alpha+6))*m[[1, 0], [2, 1, 1, 1]] + (12/(2*alpha^2+5*alpha+3))*m[[1, 0], [2, 2, 1]] + (24/(2*alpha^2+5*alpha+3))*m[[2, 0], [1, 1, 1, 1]] + (6/(2*alpha^2+5*alpha+3))*m[[2, 1], [1, 1, 1]] + ((6*alpha+12)/(2*alpha^2+5*alpha+3))*m[[2, 0], [2, 1, 1]] + (1/(alpha+1))*m[[2, 1], [2, 1]] + (2/(alpha+1))*m[[1, 0], [3, 1, 1]] + (2/(alpha+1))*m[[2, 0], [2, 2]] + (1/(alpha+1))*m[[1, 0], [3, 2]] + m[[2, 0], [3, 1]]\n"
     ]
    }
   ],
   "source": [
    "spart = sparts([[2,0],[3,1]])\n",
    "\n",
    "jack_m = m(Palpha(spart))\n",
    "print(jack_m)"
   ]
  },
  {
   "cell_type": "markdown",
   "metadata": {},
   "source": [
    "Given this super-Jack, we normalize it to obtain the integral form:"
   ]
  },
  {
   "cell_type": "code",
   "execution_count": 98,
   "metadata": {},
   "outputs": [
    {
     "name": "stdout",
     "output_type": "stream",
     "text": [
      "120*m[[1, 0], [1, 1, 1, 1, 1]] + (18*alpha+54)*m[[1, 0], [2, 1, 1, 1]] + (12*alpha+24)*m[[1, 0], [2, 2, 1]] + (24*alpha+48)*m[[2, 0], [1, 1, 1, 1]] + (6*alpha+12)*m[[2, 1], [1, 1, 1]] + (6*alpha^2+24*alpha+24)*m[[2, 0], [2, 1, 1]] + (2*alpha^2+7*alpha+6)*m[[2, 1], [2, 1]] + (4*alpha^2+14*alpha+12)*m[[2, 0], [2, 2]] + (4*alpha^2+14*alpha+12)*m[[1, 0], [3, 1, 1]] + (2*alpha^2+7*alpha+6)*m[[1, 0], [3, 2]] + (2*alpha^3+9*alpha^2+13*alpha+6)*m[[2, 0], [3, 1]]\n"
     ]
    }
   ],
   "source": [
    "nn = spart.bosonic_degree()\n",
    "mm = spart.fermionic_degree()\n",
    "l_nm = nn - mm*(mm-1)/2\n",
    "\n",
    "sparts_in_sector = list(Superpartitions(*spart.sector()))\n",
    "lowest_spart = Superpartitions.sort_by_dominance(sparts_in_sector)[-1]\n",
    "c_min = jack_m.monomial_coefficients()[lowest_spart]\n",
    "\n",
    "Jlambda_m = factorial(l_nm)*(1/c_min)*jack_m.collect()\n",
    "\n",
    "print(Jlambda_m)"
   ]
  },
  {
   "cell_type": "markdown",
   "metadata": {},
   "source": [
    "The coefficients are seen to be $\\in \\mathbb{Z}(\\alpha)$. "
   ]
  },
  {
   "cell_type": "markdown",
   "metadata": {},
   "source": [
    "#### Conjecture \n",
    "The coefficient of $m_{\\Lambda_{\\text{min}}}$ is given by \n",
    "$$\n",
    "    (n-m(m-1)/2)!v_\\Lambda(\\alpha)^{-1}\n",
    "$$\n",
    "with $v_\\Lambda(\\alpha) = \\prod_{s\\in \\mathcal{B}} h^{\\text{lo}}_\\Lambda(s;\\alpha)$\n",
    "\n",
    "This can be easily checked and is left as an exercise. We provide a list of useful functions:\n",
    "\n",
    "`Superpartitions.sort_by_dominance( spart_list )`\n",
    "\n",
    "`a_spart.lower_hook_length(i, j, alpha)`\n",
    "\n",
    "`a_spart.bosonic_cells()`"
   ]
  },
  {
   "cell_type": "code",
   "execution_count": 99,
   "metadata": {},
   "outputs": [
    {
     "name": "stdout",
     "output_type": "stream",
     "text": [
      "Defining QQqta as Fraction Field of Multivariate Polynomial Ring in q, t, alpha over Rational Field\n",
      "Defining Sym as Symmetric superfunctions over Fraction Field of Multivariate Polynomial Ring in q, t, alpha over Rational Field\n",
      "Defining m, p, e, h as monomial, powersum, elementary andhomogensous bases\n",
      "Defining Sparts as superpartitions\n"
     ]
    }
   ],
   "source": [
    "# Exercise\n",
    "# Verify the previous formula for the sector (6|3)\n",
    "\n",
    "# Initialization #\n",
    "super_init()\n",
    "Palpha = Sym.Jack()\n",
    "alpha = QQqta.gens_dict()['alpha']\n",
    "\n",
    "# Obtain the superpartitions of the sector (6|3) as a list\n",
    "\n",
    "# Find the lowest superpartition\n",
    "\n",
    "# Generate each Jack for earch superpartition\n",
    "\n",
    "# Obtain the coefficient of \\Lambda_min for every Jack\n",
    "\n",
    "# Compute the formula for each Jack\n",
    "\n",
    "# Compare the two results"
   ]
  },
  {
   "cell_type": "markdown",
   "metadata": {},
   "source": [
    "#### Conjecture\n",
    "The coefficients in the expansion of the Jack superpolynomial in the integral from are $\\in \\mathbb{Z}(\\alpha)$"
   ]
  },
  {
   "cell_type": "markdown",
   "metadata": {},
   "source": [
    "We now illustrate the conjecture. We are going to do the following:\n",
    "1. Make a function which returns the integral form on the monomial basis\n",
    "2. Generate the Jack superpolynomials of a given sector\n",
    "3. Obtain the integral form with the function made in 1.\n",
    "4. For each expression, we are going to extract the coefficients in a list\n",
    "5. We then convert those coefficients to the symbolic ring in order to have a neat factorization.\n",
    "6. We print the coefficient of every monomial belonging to every Jack in the sector"
   ]
  },
  {
   "cell_type": "code",
   "execution_count": 100,
   "metadata": {},
   "outputs": [
    {
     "name": "stdout",
     "output_type": "stream",
     "text": [
      "Defining QQqta as Fraction Field of Multivariate Polynomial Ring in q, t, alpha over Rational Field\n",
      "Defining Sym as Symmetric superfunctions over Fraction Field of Multivariate Polynomial Ring in q, t, alpha over Rational Field\n",
      "Defining m, p, e, h as monomial, powersum, elementary andhomogensous bases\n",
      "Defining Sparts as superpartitions\n"
     ]
    }
   ],
   "source": [
    "super_init()\n",
    "Palpha = Sym.Jack()\n",
    "alpha = QQqta.gens_dict()['alpha']"
   ]
  },
  {
   "cell_type": "code",
   "execution_count": 101,
   "metadata": {},
   "outputs": [],
   "source": [
    "def integral_form(expr_m):\n",
    "    spart_coeff = expr_m.monomial_coefficients()\n",
    "    sparts = spart_coeff.keys()\n",
    "    smallest_spart = Superpartitions.sort_by_dominance(sparts)[-1]\n",
    "    sector = smallest_spart.sector()\n",
    "    l_nm = sector[0] - sector[1]*(sector[1]-1)/2\n",
    "    c_min = spart_coeff[smallest_spart]\n",
    "    int_form = factorial(l_nm)*(1/c_min)*expr_m\n",
    "    int_form = int_form.collect()\n",
    "    return int_form"
   ]
  },
  {
   "cell_type": "code",
   "execution_count": 102,
   "metadata": {
    "scrolled": true
   },
   "outputs": [
    {
     "data": {
      "text/latex": [
       "$$24$$"
      ],
      "text/plain": [
       "<IPython.core.display.Math object>"
      ]
     },
     "metadata": {},
     "output_type": "display_data"
    },
    {
     "data": {
      "text/latex": [
       "$$12 \\, \\alpha + 12$$"
      ],
      "text/plain": [
       "<IPython.core.display.Math object>"
      ]
     },
     "metadata": {},
     "output_type": "display_data"
    },
    {
     "data": {
      "text/latex": [
       "$$6 \\, {\\left(\\alpha + 1\\right)}^{2}$$"
      ],
      "text/plain": [
       "<IPython.core.display.Math object>"
      ]
     },
     "metadata": {},
     "output_type": "display_data"
    },
    {
     "data": {
      "text/latex": [
       "$$24 \\, \\alpha + 24$$"
      ],
      "text/plain": [
       "<IPython.core.display.Math object>"
      ]
     },
     "metadata": {},
     "output_type": "display_data"
    },
    {
     "data": {
      "text/latex": [
       "$$12 \\, \\alpha + 12$$"
      ],
      "text/plain": [
       "<IPython.core.display.Math object>"
      ]
     },
     "metadata": {},
     "output_type": "display_data"
    },
    {
     "data": {
      "text/latex": [
       "$$12 \\, {\\left(\\alpha + 1\\right)}^{2}$$"
      ],
      "text/plain": [
       "<IPython.core.display.Math object>"
      ]
     },
     "metadata": {},
     "output_type": "display_data"
    },
    {
     "data": {
      "text/latex": [
       "$$4 \\, {\\left(2 \\, \\alpha + 1\\right)} {\\left(\\alpha + 1\\right)}$$"
      ],
      "text/plain": [
       "<IPython.core.display.Math object>"
      ]
     },
     "metadata": {},
     "output_type": "display_data"
    },
    {
     "data": {
      "text/latex": [
       "$$12 \\, {\\left(2 \\, \\alpha + 1\\right)} {\\left(\\alpha + 1\\right)}$$"
      ],
      "text/plain": [
       "<IPython.core.display.Math object>"
      ]
     },
     "metadata": {},
     "output_type": "display_data"
    },
    {
     "data": {
      "text/latex": [
       "$$6 \\, {\\left(\\alpha + 1\\right)}^{2}$$"
      ],
      "text/plain": [
       "<IPython.core.display.Math object>"
      ]
     },
     "metadata": {},
     "output_type": "display_data"
    },
    {
     "data": {
      "text/latex": [
       "$$8 \\, {\\left(2 \\, \\alpha + 1\\right)} {\\left(\\alpha + 1\\right)}$$"
      ],
      "text/plain": [
       "<IPython.core.display.Math object>"
      ]
     },
     "metadata": {},
     "output_type": "display_data"
    },
    {
     "data": {
      "text/latex": [
       "$$4 \\, {\\left(2 \\, \\alpha + 1\\right)} {\\left(\\alpha + 1\\right)}^{2}$$"
      ],
      "text/plain": [
       "<IPython.core.display.Math object>"
      ]
     },
     "metadata": {},
     "output_type": "display_data"
    },
    {
     "data": {
      "text/latex": [
       "$$6 \\, {\\left(2 \\, \\alpha + 1\\right)} {\\left(\\alpha + 1\\right)}^{2}$$"
      ],
      "text/plain": [
       "<IPython.core.display.Math object>"
      ]
     },
     "metadata": {},
     "output_type": "display_data"
    },
    {
     "data": {
      "text/latex": [
       "$${\\left(3 \\, \\alpha + 1\\right)} {\\left(2 \\, \\alpha + 1\\right)} {\\left(\\alpha + 1\\right)}$$"
      ],
      "text/plain": [
       "<IPython.core.display.Math object>"
      ]
     },
     "metadata": {},
     "output_type": "display_data"
    },
    {
     "data": {
      "text/latex": [
       "$$4 \\, {\\left(3 \\, \\alpha + 1\\right)} {\\left(2 \\, \\alpha + 1\\right)} {\\left(\\alpha + 1\\right)}$$"
      ],
      "text/plain": [
       "<IPython.core.display.Math object>"
      ]
     },
     "metadata": {},
     "output_type": "display_data"
    },
    {
     "data": {
      "text/latex": [
       "$$2 \\, {\\left(2 \\, \\alpha + 1\\right)} {\\left(\\alpha + 1\\right)}^{2}$$"
      ],
      "text/plain": [
       "<IPython.core.display.Math object>"
      ]
     },
     "metadata": {},
     "output_type": "display_data"
    },
    {
     "data": {
      "text/latex": [
       "$$3 \\, {\\left(3 \\, \\alpha + 1\\right)} {\\left(2 \\, \\alpha + 1\\right)} {\\left(\\alpha + 1\\right)}$$"
      ],
      "text/plain": [
       "<IPython.core.display.Math object>"
      ]
     },
     "metadata": {},
     "output_type": "display_data"
    },
    {
     "data": {
      "text/latex": [
       "$${\\left(4 \\, \\alpha + 1\\right)} {\\left(3 \\, \\alpha + 1\\right)} {\\left(2 \\, \\alpha + 1\\right)} {\\left(\\alpha + 1\\right)}$$"
      ],
      "text/plain": [
       "<IPython.core.display.Math object>"
      ]
     },
     "metadata": {},
     "output_type": "display_data"
    },
    {
     "data": {
      "text/latex": [
       "$$24$$"
      ],
      "text/plain": [
       "<IPython.core.display.Math object>"
      ]
     },
     "metadata": {},
     "output_type": "display_data"
    },
    {
     "data": {
      "text/latex": [
       "$$4 \\, \\alpha + 10$$"
      ],
      "text/plain": [
       "<IPython.core.display.Math object>"
      ]
     },
     "metadata": {},
     "output_type": "display_data"
    },
    {
     "data": {
      "text/latex": [
       "$$-2 \\, {\\left(\\alpha + 1\\right)} {\\left(\\alpha - 2\\right)}$$"
      ],
      "text/plain": [
       "<IPython.core.display.Math object>"
      ]
     },
     "metadata": {},
     "output_type": "display_data"
    },
    {
     "data": {
      "text/latex": [
       "$$24 \\, \\alpha + 24$$"
      ],
      "text/plain": [
       "<IPython.core.display.Math object>"
      ]
     },
     "metadata": {},
     "output_type": "display_data"
    },
    {
     "data": {
      "text/latex": [
       "$$2 \\, {\\left(4 \\, \\alpha + 7\\right)} {\\left(\\alpha + 1\\right)}$$"
      ],
      "text/plain": [
       "<IPython.core.display.Math object>"
      ]
     },
     "metadata": {},
     "output_type": "display_data"
    },
    {
     "data": {
      "text/latex": [
       "$$2 \\, {\\left(2 \\, \\alpha + 5\\right)} {\\left(\\alpha + 1\\right)}$$"
      ],
      "text/plain": [
       "<IPython.core.display.Math object>"
      ]
     },
     "metadata": {},
     "output_type": "display_data"
    },
    {
     "data": {
      "text/latex": [
       "$$2 \\, \\alpha + 2$$"
      ],
      "text/plain": [
       "<IPython.core.display.Math object>"
      ]
     },
     "metadata": {},
     "output_type": "display_data"
    },
    {
     "data": {
      "text/latex": [
       "$$2 \\, {\\left(8 \\, \\alpha + 5\\right)} {\\left(\\alpha + 1\\right)}$$"
      ],
      "text/plain": [
       "<IPython.core.display.Math object>"
      ]
     },
     "metadata": {},
     "output_type": "display_data"
    },
    {
     "data": {
      "text/latex": [
       "$${\\left(4 \\, \\alpha^{2} + 7 \\, \\alpha + 6\\right)} {\\left(\\alpha + 1\\right)}$$"
      ],
      "text/plain": [
       "<IPython.core.display.Math object>"
      ]
     },
     "metadata": {},
     "output_type": "display_data"
    },
    {
     "data": {
      "text/latex": [
       "$$2 \\, {\\left(4 \\, \\alpha^{2} + 9 \\, \\alpha + 4\\right)} {\\left(\\alpha + 1\\right)}$$"
      ],
      "text/plain": [
       "<IPython.core.display.Math object>"
      ]
     },
     "metadata": {},
     "output_type": "display_data"
    },
    {
     "data": {
      "text/latex": [
       "$$2 \\, {\\left(\\alpha + 1\\right)}^{2}$$"
      ],
      "text/plain": [
       "<IPython.core.display.Math object>"
      ]
     },
     "metadata": {},
     "output_type": "display_data"
    },
    {
     "data": {
      "text/latex": [
       "$${\\left(7 \\, \\alpha + 4\\right)} {\\left(\\alpha + 1\\right)}$$"
      ],
      "text/plain": [
       "<IPython.core.display.Math object>"
      ]
     },
     "metadata": {},
     "output_type": "display_data"
    },
    {
     "data": {
      "text/latex": [
       "$$-{\\left(2 \\, \\alpha + 1\\right)} {\\left(\\alpha + 1\\right)} \\alpha$$"
      ],
      "text/plain": [
       "<IPython.core.display.Math object>"
      ]
     },
     "metadata": {},
     "output_type": "display_data"
    },
    {
     "data": {
      "text/latex": [
       "$$2 \\, {\\left(2 \\, \\alpha + 1\\right)}^{2} {\\left(\\alpha + 1\\right)}$$"
      ],
      "text/plain": [
       "<IPython.core.display.Math object>"
      ]
     },
     "metadata": {},
     "output_type": "display_data"
    },
    {
     "data": {
      "text/latex": [
       "$$2 \\, {\\left(2 \\, \\alpha + 1\\right)} {\\left(\\alpha + 1\\right)}^{2}$$"
      ],
      "text/plain": [
       "<IPython.core.display.Math object>"
      ]
     },
     "metadata": {},
     "output_type": "display_data"
    },
    {
     "data": {
      "text/latex": [
       "$$2 \\, {\\left(2 \\, \\alpha + 1\\right)}^{2} {\\left(\\alpha + 1\\right)}^{2}$$"
      ],
      "text/plain": [
       "<IPython.core.display.Math object>"
      ]
     },
     "metadata": {},
     "output_type": "display_data"
    },
    {
     "data": {
      "text/latex": [
       "$$24$$"
      ],
      "text/plain": [
       "<IPython.core.display.Math object>"
      ]
     },
     "metadata": {},
     "output_type": "display_data"
    },
    {
     "data": {
      "text/latex": [
       "$$8$$"
      ],
      "text/plain": [
       "<IPython.core.display.Math object>"
      ]
     },
     "metadata": {},
     "output_type": "display_data"
    },
    {
     "data": {
      "text/latex": [
       "$$6 \\, \\alpha^{2} + 6 \\, \\alpha + 4$$"
      ],
      "text/plain": [
       "<IPython.core.display.Math object>"
      ]
     },
     "metadata": {},
     "output_type": "display_data"
    },
    {
     "data": {
      "text/latex": [
       "$$24 \\, \\alpha + 24$$"
      ],
      "text/plain": [
       "<IPython.core.display.Math object>"
      ]
     },
     "metadata": {},
     "output_type": "display_data"
    },
    {
     "data": {
      "text/latex": [
       "$$4 \\, {\\left(3 \\, \\alpha + 4\\right)} {\\left(\\alpha + 1\\right)}$$"
      ],
      "text/plain": [
       "<IPython.core.display.Math object>"
      ]
     },
     "metadata": {},
     "output_type": "display_data"
    },
    {
     "data": {
      "text/latex": [
       "$$8 \\, \\alpha + 8$$"
      ],
      "text/plain": [
       "<IPython.core.display.Math object>"
      ]
     },
     "metadata": {},
     "output_type": "display_data"
    },
    {
     "data": {
      "text/latex": [
       "$$-4 \\, {\\left(\\alpha + 1\\right)} \\alpha$$"
      ],
      "text/plain": [
       "<IPython.core.display.Math object>"
      ]
     },
     "metadata": {},
     "output_type": "display_data"
    },
    {
     "data": {
      "text/latex": [
       "$$4 \\, {\\left(3 \\, \\alpha + 2\\right)} {\\left(\\alpha + 1\\right)}$$"
      ],
      "text/plain": [
       "<IPython.core.display.Math object>"
      ]
     },
     "metadata": {},
     "output_type": "display_data"
    },
    {
     "data": {
      "text/latex": [
       "$$-2 \\, {\\left(3 \\, \\alpha - 2\\right)} {\\left(\\alpha + 1\\right)}^{2}$$"
      ],
      "text/plain": [
       "<IPython.core.display.Math object>"
      ]
     },
     "metadata": {},
     "output_type": "display_data"
    },
    {
     "data": {
      "text/latex": [
       "$$-4 \\, {\\left(\\alpha + 1\\right)}^{2} \\alpha$$"
      ],
      "text/plain": [
       "<IPython.core.display.Math object>"
      ]
     },
     "metadata": {},
     "output_type": "display_data"
    },
    {
     "data": {
      "text/latex": [
       "$$4 \\, {\\left(3 \\, \\alpha + 2\\right)} {\\left(\\alpha + 1\\right)}^{2}$$"
      ],
      "text/plain": [
       "<IPython.core.display.Math object>"
      ]
     },
     "metadata": {},
     "output_type": "display_data"
    },
    {
     "data": {
      "text/latex": [
       "$$2 \\, {\\left(3 \\, \\alpha + 2\\right)} {\\left(\\alpha + 1\\right)}^{2}$$"
      ],
      "text/plain": [
       "<IPython.core.display.Math object>"
      ]
     },
     "metadata": {},
     "output_type": "display_data"
    },
    {
     "data": {
      "text/latex": [
       "$$2 \\, {\\left(3 \\, \\alpha + 2\\right)} {\\left(2 \\, \\alpha + 1\\right)} {\\left(\\alpha + 1\\right)}^{2}$$"
      ],
      "text/plain": [
       "<IPython.core.display.Math object>"
      ]
     },
     "metadata": {},
     "output_type": "display_data"
    },
    {
     "data": {
      "text/latex": [
       "$$24$$"
      ],
      "text/plain": [
       "<IPython.core.display.Math object>"
      ]
     },
     "metadata": {},
     "output_type": "display_data"
    },
    {
     "data": {
      "text/latex": [
       "$$6 \\, \\alpha + 12$$"
      ],
      "text/plain": [
       "<IPython.core.display.Math object>"
      ]
     },
     "metadata": {},
     "output_type": "display_data"
    },
    {
     "data": {
      "text/latex": [
       "$$6 \\, \\alpha + 6$$"
      ],
      "text/plain": [
       "<IPython.core.display.Math object>"
      ]
     },
     "metadata": {},
     "output_type": "display_data"
    },
    {
     "data": {
      "text/latex": [
       "$$18 \\, \\alpha + 18$$"
      ],
      "text/plain": [
       "<IPython.core.display.Math object>"
      ]
     },
     "metadata": {},
     "output_type": "display_data"
    },
    {
     "data": {
      "text/latex": [
       "$$6 \\, \\alpha + 6$$"
      ],
      "text/plain": [
       "<IPython.core.display.Math object>"
      ]
     },
     "metadata": {},
     "output_type": "display_data"
    },
    {
     "data": {
      "text/latex": [
       "$$3 \\, {\\left(\\alpha + 3\\right)} {\\left(\\alpha + 1\\right)}$$"
      ],
      "text/plain": [
       "<IPython.core.display.Math object>"
      ]
     },
     "metadata": {},
     "output_type": "display_data"
    },
    {
     "data": {
      "text/latex": [
       "$$2 \\, {\\left(\\alpha + 2\\right)} {\\left(\\alpha + 1\\right)}$$"
      ],
      "text/plain": [
       "<IPython.core.display.Math object>"
      ]
     },
     "metadata": {},
     "output_type": "display_data"
    },
    {
     "data": {
      "text/latex": [
       "$$6 \\, {\\left(2 \\, \\alpha + 1\\right)} {\\left(\\alpha + 1\\right)}$$"
      ],
      "text/plain": [
       "<IPython.core.display.Math object>"
      ]
     },
     "metadata": {},
     "output_type": "display_data"
    },
    {
     "data": {
      "text/latex": [
       "$$3 \\, \\alpha + 3$$"
      ],
      "text/plain": [
       "<IPython.core.display.Math object>"
      ]
     },
     "metadata": {},
     "output_type": "display_data"
    },
    {
     "data": {
      "text/latex": [
       "$$3 \\, {\\left(\\alpha + 1\\right)}^{2}$$"
      ],
      "text/plain": [
       "<IPython.core.display.Math object>"
      ]
     },
     "metadata": {},
     "output_type": "display_data"
    },
    {
     "data": {
      "text/latex": [
       "$$2 \\, {\\left(2 \\, \\alpha + 1\\right)} {\\left(\\alpha + 1\\right)}$$"
      ],
      "text/plain": [
       "<IPython.core.display.Math object>"
      ]
     },
     "metadata": {},
     "output_type": "display_data"
    },
    {
     "data": {
      "text/latex": [
       "$$3 \\, {\\left(2 \\, \\alpha + 1\\right)} {\\left(\\alpha + 1\\right)}$$"
      ],
      "text/plain": [
       "<IPython.core.display.Math object>"
      ]
     },
     "metadata": {},
     "output_type": "display_data"
    },
    {
     "data": {
      "text/latex": [
       "$${\\left(2 \\, \\alpha + 1\\right)} {\\left(\\alpha + 1\\right)}$$"
      ],
      "text/plain": [
       "<IPython.core.display.Math object>"
      ]
     },
     "metadata": {},
     "output_type": "display_data"
    },
    {
     "data": {
      "text/latex": [
       "$${\\left(3 \\, \\alpha + 1\\right)} {\\left(2 \\, \\alpha + 1\\right)} {\\left(\\alpha + 1\\right)}$$"
      ],
      "text/plain": [
       "<IPython.core.display.Math object>"
      ]
     },
     "metadata": {},
     "output_type": "display_data"
    },
    {
     "data": {
      "text/latex": [
       "$$24$$"
      ],
      "text/plain": [
       "<IPython.core.display.Math object>"
      ]
     },
     "metadata": {},
     "output_type": "display_data"
    },
    {
     "data": {
      "text/latex": [
       "$$6$$"
      ],
      "text/plain": [
       "<IPython.core.display.Math object>"
      ]
     },
     "metadata": {},
     "output_type": "display_data"
    },
    {
     "data": {
      "text/latex": [
       "$$-2 \\, \\alpha$$"
      ],
      "text/plain": [
       "<IPython.core.display.Math object>"
      ]
     },
     "metadata": {},
     "output_type": "display_data"
    },
    {
     "data": {
      "text/latex": [
       "$$18 \\, \\alpha + 24$$"
      ],
      "text/plain": [
       "<IPython.core.display.Math object>"
      ]
     },
     "metadata": {},
     "output_type": "display_data"
    },
    {
     "data": {
      "text/latex": [
       "$$6 \\, \\alpha^{2} + 22 \\, \\alpha + 18$$"
      ],
      "text/plain": [
       "<IPython.core.display.Math object>"
      ]
     },
     "metadata": {},
     "output_type": "display_data"
    },
    {
     "data": {
      "text/latex": [
       "$$5 \\, \\alpha + 6$$"
      ],
      "text/plain": [
       "<IPython.core.display.Math object>"
      ]
     },
     "metadata": {},
     "output_type": "display_data"
    },
    {
     "data": {
      "text/latex": [
       "$$-{\\left(\\alpha + 1\\right)} \\alpha$$"
      ],
      "text/plain": [
       "<IPython.core.display.Math object>"
      ]
     },
     "metadata": {},
     "output_type": "display_data"
    },
    {
     "data": {
      "text/latex": [
       "$$6 \\, {\\left(\\alpha + 1\\right)}^{2}$$"
      ],
      "text/plain": [
       "<IPython.core.display.Math object>"
      ]
     },
     "metadata": {},
     "output_type": "display_data"
    },
    {
     "data": {
      "text/latex": [
       "$$3 \\, {\\left(\\alpha + 2\\right)} {\\left(\\alpha + 1\\right)}$$"
      ],
      "text/plain": [
       "<IPython.core.display.Math object>"
      ]
     },
     "metadata": {},
     "output_type": "display_data"
    },
    {
     "data": {
      "text/latex": [
       "$$3 \\, {\\left(\\alpha + 2\\right)} {\\left(\\alpha + 1\\right)}^{2}$$"
      ],
      "text/plain": [
       "<IPython.core.display.Math object>"
      ]
     },
     "metadata": {},
     "output_type": "display_data"
    },
    {
     "data": {
      "text/latex": [
       "$$24$$"
      ],
      "text/plain": [
       "<IPython.core.display.Math object>"
      ]
     },
     "metadata": {},
     "output_type": "display_data"
    },
    {
     "data": {
      "text/latex": [
       "$$4 \\, \\alpha + 10$$"
      ],
      "text/plain": [
       "<IPython.core.display.Math object>"
      ]
     },
     "metadata": {},
     "output_type": "display_data"
    },
    {
     "data": {
      "text/latex": [
       "$$2 \\, \\alpha^{2} + 4 \\, \\alpha + 4$$"
      ],
      "text/plain": [
       "<IPython.core.display.Math object>"
      ]
     },
     "metadata": {},
     "output_type": "display_data"
    },
    {
     "data": {
      "text/latex": [
       "$$12 \\, \\alpha + 18$$"
      ],
      "text/plain": [
       "<IPython.core.display.Math object>"
      ]
     },
     "metadata": {},
     "output_type": "display_data"
    },
    {
     "data": {
      "text/latex": [
       "$$6 \\, \\alpha + 8$$"
      ],
      "text/plain": [
       "<IPython.core.display.Math object>"
      ]
     },
     "metadata": {},
     "output_type": "display_data"
    },
    {
     "data": {
      "text/latex": [
       "$$2 \\, \\alpha^{2} + 9 \\, \\alpha + 8$$"
      ],
      "text/plain": [
       "<IPython.core.display.Math object>"
      ]
     },
     "metadata": {},
     "output_type": "display_data"
    },
    {
     "data": {
      "text/latex": [
       "$$2 \\, \\alpha + 2$$"
      ],
      "text/plain": [
       "<IPython.core.display.Math object>"
      ]
     },
     "metadata": {},
     "output_type": "display_data"
    },
    {
     "data": {
      "text/latex": [
       "$$2 \\, {\\left(\\alpha + 1\\right)}^{2}$$"
      ],
      "text/plain": [
       "<IPython.core.display.Math object>"
      ]
     },
     "metadata": {},
     "output_type": "display_data"
    },
    {
     "data": {
      "text/latex": [
       "$$4 \\, {\\left(\\alpha + 1\\right)}^{2}$$"
      ],
      "text/plain": [
       "<IPython.core.display.Math object>"
      ]
     },
     "metadata": {},
     "output_type": "display_data"
    },
    {
     "data": {
      "text/latex": [
       "$${\\left(\\alpha + 4\\right)} {\\left(\\alpha + 1\\right)}$$"
      ],
      "text/plain": [
       "<IPython.core.display.Math object>"
      ]
     },
     "metadata": {},
     "output_type": "display_data"
    },
    {
     "data": {
      "text/latex": [
       "$$2 \\, {\\left(\\alpha + 1\\right)}^{2}$$"
      ],
      "text/plain": [
       "<IPython.core.display.Math object>"
      ]
     },
     "metadata": {},
     "output_type": "display_data"
    },
    {
     "data": {
      "text/latex": [
       "$$2 \\, {\\left(\\alpha + 1\\right)}^{3}$$"
      ],
      "text/plain": [
       "<IPython.core.display.Math object>"
      ]
     },
     "metadata": {},
     "output_type": "display_data"
    },
    {
     "data": {
      "text/latex": [
       "$$24$$"
      ],
      "text/plain": [
       "<IPython.core.display.Math object>"
      ]
     },
     "metadata": {},
     "output_type": "display_data"
    },
    {
     "data": {
      "text/latex": [
       "$$2 \\, \\alpha + 10$$"
      ],
      "text/plain": [
       "<IPython.core.display.Math object>"
      ]
     },
     "metadata": {},
     "output_type": "display_data"
    },
    {
     "data": {
      "text/latex": [
       "$$4$$"
      ],
      "text/plain": [
       "<IPython.core.display.Math object>"
      ]
     },
     "metadata": {},
     "output_type": "display_data"
    },
    {
     "data": {
      "text/latex": [
       "$$12 \\, \\alpha + 12$$"
      ],
      "text/plain": [
       "<IPython.core.display.Math object>"
      ]
     },
     "metadata": {},
     "output_type": "display_data"
    },
    {
     "data": {
      "text/latex": [
       "$$2 \\, \\alpha + 2$$"
      ],
      "text/plain": [
       "<IPython.core.display.Math object>"
      ]
     },
     "metadata": {},
     "output_type": "display_data"
    },
    {
     "data": {
      "text/latex": [
       "$$4 \\, \\alpha + 4$$"
      ],
      "text/plain": [
       "<IPython.core.display.Math object>"
      ]
     },
     "metadata": {},
     "output_type": "display_data"
    },
    {
     "data": {
      "text/latex": [
       "$$2 \\, \\alpha + 2$$"
      ],
      "text/plain": [
       "<IPython.core.display.Math object>"
      ]
     },
     "metadata": {},
     "output_type": "display_data"
    },
    {
     "data": {
      "text/latex": [
       "$$2 \\, {\\left(2 \\, \\alpha + 1\\right)} {\\left(\\alpha + 1\\right)}$$"
      ],
      "text/plain": [
       "<IPython.core.display.Math object>"
      ]
     },
     "metadata": {},
     "output_type": "display_data"
    },
    {
     "data": {
      "text/latex": [
       "$$24$$"
      ],
      "text/plain": [
       "<IPython.core.display.Math object>"
      ]
     },
     "metadata": {},
     "output_type": "display_data"
    },
    {
     "data": {
      "text/latex": [
       "$$6$$"
      ],
      "text/plain": [
       "<IPython.core.display.Math object>"
      ]
     },
     "metadata": {},
     "output_type": "display_data"
    },
    {
     "data": {
      "text/latex": [
       "$$-2 \\, {\\left(\\alpha + 2\\right)} \\alpha$$"
      ],
      "text/plain": [
       "<IPython.core.display.Math object>"
      ]
     },
     "metadata": {},
     "output_type": "display_data"
    },
    {
     "data": {
      "text/latex": [
       "$$12 \\, \\alpha + 18$$"
      ],
      "text/plain": [
       "<IPython.core.display.Math object>"
      ]
     },
     "metadata": {},
     "output_type": "display_data"
    },
    {
     "data": {
      "text/latex": [
       "$$2 \\, {\\left(2 \\, \\alpha + 3\\right)} {\\left(\\alpha + 2\\right)}$$"
      ],
      "text/plain": [
       "<IPython.core.display.Math object>"
      ]
     },
     "metadata": {},
     "output_type": "display_data"
    },
    {
     "data": {
      "text/latex": [
       "$${\\left(2 \\, \\alpha + 3\\right)} {\\left(\\alpha + 2\\right)}$$"
      ],
      "text/plain": [
       "<IPython.core.display.Math object>"
      ]
     },
     "metadata": {},
     "output_type": "display_data"
    },
    {
     "data": {
      "text/latex": [
       "$${\\left(2 \\, \\alpha + 3\\right)} {\\left(\\alpha + 2\\right)} {\\left(\\alpha + 1\\right)}$$"
      ],
      "text/plain": [
       "<IPython.core.display.Math object>"
      ]
     },
     "metadata": {},
     "output_type": "display_data"
    },
    {
     "data": {
      "text/latex": [
       "$$24$$"
      ],
      "text/plain": [
       "<IPython.core.display.Math object>"
      ]
     },
     "metadata": {},
     "output_type": "display_data"
    },
    {
     "data": {
      "text/latex": [
       "$$-2 \\, \\alpha$$"
      ],
      "text/plain": [
       "<IPython.core.display.Math object>"
      ]
     },
     "metadata": {},
     "output_type": "display_data"
    },
    {
     "data": {
      "text/latex": [
       "$$12 \\, \\alpha + 24$$"
      ],
      "text/plain": [
       "<IPython.core.display.Math object>"
      ]
     },
     "metadata": {},
     "output_type": "display_data"
    },
    {
     "data": {
      "text/latex": [
       "$$4 \\, {\\left(\\alpha + 3\\right)} {\\left(\\alpha + 2\\right)}$$"
      ],
      "text/plain": [
       "<IPython.core.display.Math object>"
      ]
     },
     "metadata": {},
     "output_type": "display_data"
    },
    {
     "data": {
      "text/latex": [
       "$$24$$"
      ],
      "text/plain": [
       "<IPython.core.display.Math object>"
      ]
     },
     "metadata": {},
     "output_type": "display_data"
    },
    {
     "data": {
      "text/latex": [
       "$$6 \\, \\alpha + 12$$"
      ],
      "text/plain": [
       "<IPython.core.display.Math object>"
      ]
     },
     "metadata": {},
     "output_type": "display_data"
    },
    {
     "data": {
      "text/latex": [
       "$$2 \\, \\alpha + 4$$"
      ],
      "text/plain": [
       "<IPython.core.display.Math object>"
      ]
     },
     "metadata": {},
     "output_type": "display_data"
    },
    {
     "data": {
      "text/latex": [
       "$$6 \\, \\alpha + 12$$"
      ],
      "text/plain": [
       "<IPython.core.display.Math object>"
      ]
     },
     "metadata": {},
     "output_type": "display_data"
    },
    {
     "data": {
      "text/latex": [
       "$$2 \\, \\alpha + 4$$"
      ],
      "text/plain": [
       "<IPython.core.display.Math object>"
      ]
     },
     "metadata": {},
     "output_type": "display_data"
    },
    {
     "data": {
      "text/latex": [
       "$${\\left(3 \\, \\alpha + 4\\right)} {\\left(\\alpha + 2\\right)}$$"
      ],
      "text/plain": [
       "<IPython.core.display.Math object>"
      ]
     },
     "metadata": {},
     "output_type": "display_data"
    },
    {
     "data": {
      "text/latex": [
       "$$2 \\, {\\left(\\alpha + 2\\right)} {\\left(\\alpha + 1\\right)}$$"
      ],
      "text/plain": [
       "<IPython.core.display.Math object>"
      ]
     },
     "metadata": {},
     "output_type": "display_data"
    },
    {
     "data": {
      "text/latex": [
       "$$2 \\, {\\left(\\alpha + 2\\right)} {\\left(\\alpha + 1\\right)}$$"
      ],
      "text/plain": [
       "<IPython.core.display.Math object>"
      ]
     },
     "metadata": {},
     "output_type": "display_data"
    },
    {
     "data": {
      "text/latex": [
       "$$2 \\, {\\left(\\alpha + 2\\right)} {\\left(\\alpha + 1\\right)}^{2}$$"
      ],
      "text/plain": [
       "<IPython.core.display.Math object>"
      ]
     },
     "metadata": {},
     "output_type": "display_data"
    },
    {
     "data": {
      "text/latex": [
       "$$24$$"
      ],
      "text/plain": [
       "<IPython.core.display.Math object>"
      ]
     },
     "metadata": {},
     "output_type": "display_data"
    },
    {
     "data": {
      "text/latex": [
       "$$2 \\, \\alpha + 8$$"
      ],
      "text/plain": [
       "<IPython.core.display.Math object>"
      ]
     },
     "metadata": {},
     "output_type": "display_data"
    },
    {
     "data": {
      "text/latex": [
       "$$2 \\, \\alpha + 4$$"
      ],
      "text/plain": [
       "<IPython.core.display.Math object>"
      ]
     },
     "metadata": {},
     "output_type": "display_data"
    },
    {
     "data": {
      "text/latex": [
       "$$6 \\, \\alpha + 12$$"
      ],
      "text/plain": [
       "<IPython.core.display.Math object>"
      ]
     },
     "metadata": {},
     "output_type": "display_data"
    },
    {
     "data": {
      "text/latex": [
       "$$2 \\, \\alpha + 4$$"
      ],
      "text/plain": [
       "<IPython.core.display.Math object>"
      ]
     },
     "metadata": {},
     "output_type": "display_data"
    },
    {
     "data": {
      "text/latex": [
       "$${\\left(\\alpha + 2\\right)}^{2}$$"
      ],
      "text/plain": [
       "<IPython.core.display.Math object>"
      ]
     },
     "metadata": {},
     "output_type": "display_data"
    },
    {
     "data": {
      "text/latex": [
       "$$24$$"
      ],
      "text/plain": [
       "<IPython.core.display.Math object>"
      ]
     },
     "metadata": {},
     "output_type": "display_data"
    },
    {
     "data": {
      "text/latex": [
       "$$6$$"
      ],
      "text/plain": [
       "<IPython.core.display.Math object>"
      ]
     },
     "metadata": {},
     "output_type": "display_data"
    },
    {
     "data": {
      "text/latex": [
       "$$6 \\, \\alpha + 6$$"
      ],
      "text/plain": [
       "<IPython.core.display.Math object>"
      ]
     },
     "metadata": {},
     "output_type": "display_data"
    },
    {
     "data": {
      "text/latex": [
       "$$24$$"
      ],
      "text/plain": [
       "<IPython.core.display.Math object>"
      ]
     },
     "metadata": {},
     "output_type": "display_data"
    },
    {
     "data": {
      "text/latex": [
       "$$12 \\, \\alpha + 14$$"
      ],
      "text/plain": [
       "<IPython.core.display.Math object>"
      ]
     },
     "metadata": {},
     "output_type": "display_data"
    },
    {
     "data": {
      "text/latex": [
       "$$2 \\, {\\left(3 \\, \\alpha + 4\\right)} {\\left(\\alpha + 1\\right)}$$"
      ],
      "text/plain": [
       "<IPython.core.display.Math object>"
      ]
     },
     "metadata": {},
     "output_type": "display_data"
    },
    {
     "data": {
      "text/latex": [
       "$$12$$"
      ],
      "text/plain": [
       "<IPython.core.display.Math object>"
      ]
     },
     "metadata": {},
     "output_type": "display_data"
    },
    {
     "data": {
      "text/latex": [
       "$$-6 \\, \\alpha + 2$$"
      ],
      "text/plain": [
       "<IPython.core.display.Math object>"
      ]
     },
     "metadata": {},
     "output_type": "display_data"
    },
    {
     "data": {
      "text/latex": [
       "$$8 \\, \\alpha + 8$$"
      ],
      "text/plain": [
       "<IPython.core.display.Math object>"
      ]
     },
     "metadata": {},
     "output_type": "display_data"
    },
    {
     "data": {
      "text/latex": [
       "$$2 \\, {\\left(4 \\, \\alpha + 3\\right)} {\\left(\\alpha + 1\\right)}$$"
      ],
      "text/plain": [
       "<IPython.core.display.Math object>"
      ]
     },
     "metadata": {},
     "output_type": "display_data"
    },
    {
     "data": {
      "text/latex": [
       "$$2 \\, {\\left(3 \\, \\alpha + 2\\right)} {\\left(\\alpha + 1\\right)}$$"
      ],
      "text/plain": [
       "<IPython.core.display.Math object>"
      ]
     },
     "metadata": {},
     "output_type": "display_data"
    },
    {
     "data": {
      "text/latex": [
       "$$2 \\, \\alpha + 2$$"
      ],
      "text/plain": [
       "<IPython.core.display.Math object>"
      ]
     },
     "metadata": {},
     "output_type": "display_data"
    },
    {
     "data": {
      "text/latex": [
       "$$-{\\left(3 \\, \\alpha - 2\\right)} {\\left(\\alpha + 1\\right)}$$"
      ],
      "text/plain": [
       "<IPython.core.display.Math object>"
      ]
     },
     "metadata": {},
     "output_type": "display_data"
    },
    {
     "data": {
      "text/latex": [
       "$$-2 \\, {\\left(\\alpha + 1\\right)} \\alpha$$"
      ],
      "text/plain": [
       "<IPython.core.display.Math object>"
      ]
     },
     "metadata": {},
     "output_type": "display_data"
    },
    {
     "data": {
      "text/latex": [
       "$${\\left(3 \\, \\alpha + 2\\right)} {\\left(\\alpha + 1\\right)}$$"
      ],
      "text/plain": [
       "<IPython.core.display.Math object>"
      ]
     },
     "metadata": {},
     "output_type": "display_data"
    },
    {
     "data": {
      "text/latex": [
       "$${\\left(3 \\, \\alpha + 2\\right)} {\\left(2 \\, \\alpha + 1\\right)} {\\left(\\alpha + 1\\right)}$$"
      ],
      "text/plain": [
       "<IPython.core.display.Math object>"
      ]
     },
     "metadata": {},
     "output_type": "display_data"
    },
    {
     "data": {
      "text/latex": [
       "$$24$$"
      ],
      "text/plain": [
       "<IPython.core.display.Math object>"
      ]
     },
     "metadata": {},
     "output_type": "display_data"
    },
    {
     "data": {
      "text/latex": [
       "$$6 \\, \\alpha + 12$$"
      ],
      "text/plain": [
       "<IPython.core.display.Math object>"
      ]
     },
     "metadata": {},
     "output_type": "display_data"
    },
    {
     "data": {
      "text/latex": [
       "$$4 \\, \\alpha + 6$$"
      ],
      "text/plain": [
       "<IPython.core.display.Math object>"
      ]
     },
     "metadata": {},
     "output_type": "display_data"
    },
    {
     "data": {
      "text/latex": [
       "$$6$$"
      ],
      "text/plain": [
       "<IPython.core.display.Math object>"
      ]
     },
     "metadata": {},
     "output_type": "display_data"
    },
    {
     "data": {
      "text/latex": [
       "$$-2 \\, \\alpha$$"
      ],
      "text/plain": [
       "<IPython.core.display.Math object>"
      ]
     },
     "metadata": {},
     "output_type": "display_data"
    },
    {
     "data": {
      "text/latex": [
       "$$2 \\, \\alpha + 3$$"
      ],
      "text/plain": [
       "<IPython.core.display.Math object>"
      ]
     },
     "metadata": {},
     "output_type": "display_data"
    },
    {
     "data": {
      "text/latex": [
       "$${\\left(2 \\, \\alpha + 3\\right)} {\\left(\\alpha + 1\\right)}$$"
      ],
      "text/plain": [
       "<IPython.core.display.Math object>"
      ]
     },
     "metadata": {},
     "output_type": "display_data"
    },
    {
     "data": {
      "text/latex": [
       "$$24$$"
      ],
      "text/plain": [
       "<IPython.core.display.Math object>"
      ]
     },
     "metadata": {},
     "output_type": "display_data"
    },
    {
     "data": {
      "text/latex": [
       "$$4 \\, \\alpha + 12$$"
      ],
      "text/plain": [
       "<IPython.core.display.Math object>"
      ]
     },
     "metadata": {},
     "output_type": "display_data"
    },
    {
     "data": {
      "text/latex": [
       "$$2 \\, {\\left(\\alpha + 3\\right)} {\\left(\\alpha + 2\\right)}$$"
      ],
      "text/plain": [
       "<IPython.core.display.Math object>"
      ]
     },
     "metadata": {},
     "output_type": "display_data"
    },
    {
     "data": {
      "text/latex": [
       "$$24$$"
      ],
      "text/plain": [
       "<IPython.core.display.Math object>"
      ]
     },
     "metadata": {},
     "output_type": "display_data"
    },
    {
     "data": {
      "text/latex": [
       "$$2 \\, \\alpha + 8$$"
      ],
      "text/plain": [
       "<IPython.core.display.Math object>"
      ]
     },
     "metadata": {},
     "output_type": "display_data"
    },
    {
     "data": {
      "text/latex": [
       "$$24$$"
      ],
      "text/plain": [
       "<IPython.core.display.Math object>"
      ]
     },
     "metadata": {},
     "output_type": "display_data"
    }
   ],
   "source": [
    "sparts = Superpartitions(5,2)\n",
    "Jacks_m = [m(Palpha(spart)) for spart in sparts]\n",
    "intForm_m = [integral_form(jack) for jack in Jacks_m]\n",
    "Jcoeffs = [J.coefficients() for J in intForm_m]\n",
    "coeffs_SR = [factor(SR(coeff)) for J in Jcoeffs for coeff in J]\n",
    "for coeffs in coeffs_SR:\n",
    "    display(Math(latex(coeffs)))"
   ]
  },
  {
   "cell_type": "markdown",
   "metadata": {},
   "source": [
    "We thus see that all coefficients are $\\in \\mathbb{Z}(\\alpha)$. "
   ]
  },
  {
   "cell_type": "markdown",
   "metadata": {},
   "source": [
    "## Duality\n",
    "We illustrate the duality property.\n",
    "\n",
    "We first pick a superpartition and obtain the Jack superpolynomial associated with it."
   ]
  },
  {
   "cell_type": "code",
   "execution_count": 103,
   "metadata": {},
   "outputs": [
    {
     "name": "stdout",
     "output_type": "stream",
     "text": [
      "■ ■ ■ ■ ○\n",
      "■ ○\n",
      "\n",
      "Palpha[[4, 1], []]\n"
     ]
    }
   ],
   "source": [
    "sparts = Superpartitions()\n",
    "spart1 = sparts([[4,1],[]])\n",
    "spart1.terminal_diagram()\n",
    "a_Jack = Palpha(spart1)\n",
    "print(a_Jack)"
   ]
  },
  {
   "cell_type": "markdown",
   "metadata": {},
   "source": [
    "We compute the norm of this polynomial and apply $\\hat{\\omega}_\\alpha$ on the Jack. We then divide the result by the norm."
   ]
  },
  {
   "cell_type": "code",
   "execution_count": 104,
   "metadata": {},
   "outputs": [
    {
     "name": "stdout",
     "output_type": "stream",
     "text": [
      "((12*alpha^2-12)/(4*alpha^2+17*alpha+4))*Palpha[[1, 0], [1, 1, 1, 1]] + Palpha[[1, 0], [2, 1, 1]]\n"
     ]
    }
   ],
   "source": [
    "#We get the norm from the scalar product\n",
    "the_norm = a_Jack.scalar_alpha(a_Jack)\n",
    "#We apply omega alpha\n",
    "omega_a_Jack = a_Jack.omega_alpha()\n",
    "#We then normalize\n",
    "normalized_om_Jack = omega_a_Jack/the_norm\n",
    "print(normalized_om_Jack.collect())"
   ]
  },
  {
   "cell_type": "markdown",
   "metadata": {},
   "source": [
    "Now, according to the duality property, this polynomial should be $P^{1/\\alpha}_{(1,0;2,1,1)}$. To check this, we develop this polynomial on the monomial basis so that no $\\alpha$ is hidden inside a definition and substitute $\\alpha$ for $1/\\alpha$. Converting back to the Jack basis, we should find $P^\\alpha_{(1,0;2,1,1)}$\n",
    "\n",
    "Note that here we use the in-house method `expr.subs_coeff(dictionnary)` to make the substitution $\\alpha \\longrightarrow 1/\\alpha$"
   ]
  },
  {
   "cell_type": "code",
   "execution_count": 105,
   "metadata": {},
   "outputs": [
    {
     "name": "stdout",
     "output_type": "stream",
     "text": [
      "Palpha[[1, 0], [2, 1, 1]]\n",
      "■ ■\n",
      "■ ○\n",
      "■\n",
      "■\n",
      "○\n",
      "\n"
     ]
    }
   ],
   "source": [
    "# We first get the monomial expansion of the sJack \n",
    "# to unravel the hidden alpha dependence \n",
    "m_expr = m(normalized_om_Jack)\n",
    "# alpha -> 1/alpha\n",
    "invert_alpha_m = m_expr.subs_coeff({alpha:1/alpha})\n",
    "# We convert the resulting expression back to the sJack basis. \n",
    "resulting_jack = Palpha(invert_alpha_m)\n",
    "print(resulting_jack)\n",
    "new_spart = resulting_jack.monomial_coefficients().keys()[0].terminal_diagram()"
   ]
  },
  {
   "cell_type": "markdown",
   "metadata": {},
   "source": [
    "Which is indeed the expected result. "
   ]
  },
  {
   "cell_type": "markdown",
   "metadata": {},
   "source": [
    "## Particular expressions"
   ]
  },
  {
   "cell_type": "markdown",
   "metadata": {},
   "source": [
    "### $P^{\\alpha}$ vs $g^\\alpha$\n",
    "Let us illustrate the following properties:"
   ]
  },
  {
   "cell_type": "markdown",
   "metadata": {},
   "source": [
    "$$\n",
    "P^{(\\alpha)}_{(;n)} = \\frac{\\alpha^n n!}{(1 + \\alpha(n-1))_n} g_n\n",
    "\\qquad \\text{and}\\qquad \n",
    "P^{(\\alpha)}_{(n;)} = \\frac{\\alpha^{n+1} n!}{(1 + \\alpha n)_n} \\tilde{g}_n\n",
    "$$\n",
    "For $\\Lambda = (;\\, 5)$ we have"
   ]
  },
  {
   "cell_type": "code",
   "execution_count": 106,
   "metadata": {},
   "outputs": [
    {
     "name": "stdout",
     "output_type": "stream",
     "text": [
      "Defining QQqta as Fraction Field of Multivariate Polynomial Ring in q, t, alpha over Rational Field\n",
      "Defining Sym as Symmetric superfunctions over Fraction Field of Multivariate Polynomial Ring in q, t, alpha over Rational Field\n",
      "Defining m, p, e, h as monomial, powersum, elementary andhomogensous bases\n",
      "Defining Sparts as superpartitions\n"
     ]
    }
   ],
   "source": [
    "# We initialize the space\n",
    "super_init()\n",
    "Palpha = Sym.Jack()\n",
    "galpha = Sym.Galpha()"
   ]
  },
  {
   "cell_type": "code",
   "execution_count": 107,
   "metadata": {},
   "outputs": [
    {
     "name": "stdout",
     "output_type": "stream",
     "text": [
      "(120*alpha^5/(24*alpha^4+50*alpha^3+35*alpha^2+10*alpha+1))*galpha[[], [5]]\n"
     ]
    },
    {
     "data": {
      "text/latex": [
       "$$\\frac{120 \\, \\alpha^{5}}{{\\left(4 \\, \\alpha + 1\\right)} {\\left(3 \\, \\alpha + 1\\right)} {\\left(2 \\, \\alpha + 1\\right)} {\\left(\\alpha + 1\\right)}}$$"
      ],
      "text/plain": [
       "<IPython.core.display.Math object>"
      ]
     },
     "metadata": {},
     "output_type": "display_data"
    }
   ],
   "source": [
    "jack_g = galpha(Palpha[[],[5]]).collect()\n",
    "print(jack_g)\n",
    "display(Math(latex(factor(SR(jack_g.coefficients()[0])))))"
   ]
  },
  {
   "cell_type": "markdown",
   "metadata": {},
   "source": [
    "and for $\\Lambda = (5;\\,)$:"
   ]
  },
  {
   "cell_type": "code",
   "execution_count": 108,
   "metadata": {},
   "outputs": [
    {
     "name": "stdout",
     "output_type": "stream",
     "text": [
      "(120*alpha^6/(120*alpha^5+274*alpha^4+225*alpha^3+85*alpha^2+15*alpha+1))*galpha[[5], []]\n"
     ]
    },
    {
     "data": {
      "text/latex": [
       "$$\\frac{120 \\, \\alpha^{6}}{{\\left(5 \\, \\alpha + 1\\right)} {\\left(4 \\, \\alpha + 1\\right)} {\\left(3 \\, \\alpha + 1\\right)} {\\left(2 \\, \\alpha + 1\\right)} {\\left(\\alpha + 1\\right)}}$$"
      ],
      "text/plain": [
       "<IPython.core.display.Math object>"
      ]
     },
     "metadata": {},
     "output_type": "display_data"
    }
   ],
   "source": [
    "jack_g2 = galpha(Palpha[[5],[]]).collect()\n",
    "print(jack_g2)\n",
    "display(Math(latex(factor(SR(jack_g2.coefficients()[0])))))"
   ]
  },
  {
   "cell_type": "markdown",
   "metadata": {},
   "source": [
    "$\\lim_{\\alpha \\rightarrow \\infty} P^{(\\alpha)}_{\\Lambda} = m_\\Lambda$"
   ]
  },
  {
   "cell_type": "code",
   "execution_count": 109,
   "metadata": {},
   "outputs": [
    {
     "name": "stdout",
     "output_type": "stream",
     "text": [
      "Palpha[[2, 0], [3, 1]]\n",
      "alpha --> \\infty\n",
      "m[[2, 0], [3, 1]]\n"
     ]
    }
   ],
   "source": [
    "aJack = Palpha[[2,0],[3,1]]\n",
    "print(aJack)\n",
    "aJack_m = m(aJack)\n",
    "# Here the expr.subs_coeff(dictionnary) is not appropriate\n",
    "# for limiting process. So we use the more involved \n",
    "# expr.map_coefficients(func) provided by SAGE. \n",
    "# Note also that we transfer the coefficients to the symbolic ring\n",
    "# in order to evaluate the limit. \n",
    "lim_aJack = aJack_m.map_coefficients(\n",
    "    lambda x: QQa(SR(x).limit(alpha = infinity)))\n",
    "print(\"alpha --> \\\\infty\")\n",
    "print(lim_aJack)"
   ]
  },
  {
   "cell_type": "markdown",
   "metadata": {},
   "source": [
    "$\n",
    "P^{(0)}_\\Lambda = (-1)^{\\binom{m}{2}} e_{\\Lambda^\\prime}\n",
    "$"
   ]
  },
  {
   "cell_type": "code",
   "execution_count": 110,
   "metadata": {},
   "outputs": [
    {
     "name": "stdout",
     "output_type": "stream",
     "text": [
      "Palpha[[2, 0], [3, 1]]\n",
      "alpha --> 0\n",
      "-e[[3, 1], [2]]\n"
     ]
    }
   ],
   "source": [
    "alpha_zero_Jack = aJack_m.subs_coeff({alpha:0})\n",
    "print(aJack)\n",
    "print(\"alpha --> 0\")\n",
    "print(e(alpha_zero_Jack))"
   ]
  },
  {
   "cell_type": "markdown",
   "metadata": {},
   "source": [
    "$P^{(1)}_{(;n)} = h_n$"
   ]
  },
  {
   "cell_type": "code",
   "execution_count": 111,
   "metadata": {},
   "outputs": [
    {
     "name": "stdout",
     "output_type": "stream",
     "text": [
      "h[[], [5]]\n"
     ]
    }
   ],
   "source": [
    "nJack_m = m(Palpha[[],[5]])\n",
    "alpha_one = nJack_m.subs_coeff({alpha:1})\n",
    "print(h(alpha_one))"
   ]
  },
  {
   "cell_type": "markdown",
   "metadata": {},
   "source": [
    "$P^{(1)}_{(n;)} = \\frac{1}{n+1} \\tilde{h}_n$"
   ]
  },
  {
   "cell_type": "code",
   "execution_count": 112,
   "metadata": {},
   "outputs": [
    {
     "name": "stdout",
     "output_type": "stream",
     "text": [
      "1/6*h[[5], []]\n"
     ]
    }
   ],
   "source": [
    "nJack_m = m(Palpha[[5],[]])\n",
    "alpha_one = nJack_m.subs_coeff({alpha:1})\n",
    "print(h(alpha_one))"
   ]
  },
  {
   "cell_type": "markdown",
   "metadata": {},
   "source": [
    "## Negative fractional parameter\n",
    "### Admissible Jack superpolynomials\n",
    "We first build a function that tells us if a superpartition is $k,r$ admissible:"
   ]
  },
  {
   "cell_type": "code",
   "execution_count": 113,
   "metadata": {},
   "outputs": [],
   "source": [
    "def is_krN_admissible(spart, k, r, N):\n",
    "    assert(k>=1)\n",
    "    assert(r>=2)\n",
    "    assert(N>=k)\n",
    "    # We check the coprime condition\n",
    "    assert(gcd(k+1,r-1)==1)\n",
    "    L_star = list(spart.star())\n",
    "    add_zeros = [0 for k in range(N-len(L_star))]\n",
    "    L_star = L_star + add_zeros\n",
    "    L_cstar = list(spart.circle_star())\n",
    "    add_zeros = [0 for k in range(N-len(L_cstar))]\n",
    "    L_cstar = L_cstar + add_zeros\n",
    "    for i in range(N-k):\n",
    "        diffL = L_cstar[i] - L_star[i+k]\n",
    "        if  diffL >= r:\n",
    "            pass\n",
    "        else:\n",
    "            return False\n",
    "    return True"
   ]
  },
  {
   "cell_type": "markdown",
   "metadata": {},
   "source": [
    "Now we set $k,\\,r$ and $N$ a find admissible superpartitions, in the present case we will find one."
   ]
  },
  {
   "cell_type": "code",
   "execution_count": 114,
   "metadata": {},
   "outputs": [
    {
     "name": "stdout",
     "output_type": "stream",
     "text": [
      "[[[3, 2], [1]]]\n"
     ]
    }
   ],
   "source": [
    "admissible = []\n",
    "k, r, N= (1, 2, 3)\n",
    "sectors = Sym._Jack_m_cache.keys()\n",
    "sparts = Superpartitions(6,2)\n",
    "for spart in sparts:\n",
    "    if is_krN_admissible(spart, k, r, N):\n",
    "        admissible.append(spart)\n",
    "print(admissible)"
   ]
  },
  {
   "cell_type": "markdown",
   "metadata": {},
   "source": [
    "Given this superpartition, we will generate the sJack associated to it and set $\\alpha = -\\frac{k+1}{r-1}$:"
   ]
  },
  {
   "cell_type": "code",
   "execution_count": 115,
   "metadata": {},
   "outputs": [
    {
     "name": "stdout",
     "output_type": "stream",
     "text": [
      "Defining QQqta as Fraction Field of Multivariate Polynomial Ring in q, t, alpha over Rational Field\n",
      "Defining Sym as Symmetric superfunctions over Fraction Field of Multivariate Polynomial Ring in q, t, alpha over Rational Field\n",
      "Defining m, p, e, h as monomial, powersum, elementary andhomogensous bases\n",
      "Defining Sparts as superpartitions\n",
      "\n",
      "\n",
      "10*m[[1, 0], [1, 1, 1, 1, 1]] + 3*m[[1, 0], [2, 1, 1, 1]] + 2*m[[1, 0], [2, 2, 1]] - 6*m[[2, 0], [1, 1, 1, 1]] - 2*m[[2, 0], [2, 1, 1]] - m[[1, 0], [3, 1, 1]] + m[[2, 1], [2, 1]] - m[[3, 1], [1, 1]] + m[[2, 1], [3]] + 3*m[[3, 0], [1, 1, 1]] - m[[3, 1], [2]] + m[[3, 2], [1]]\n"
     ]
    }
   ],
   "source": [
    "ad_spart = admissible[0]\n",
    "super_init()\n",
    "alpha = QQqta.gens_dict()['alpha']\n",
    "Palpha = Sym.Jack()\n",
    "jack_m = m(Palpha(ad_spart))\n",
    "alpha_spec = -(k+1)/(r-1)\n",
    "jack_akr = jack_m.subs_coeff({alpha:alpha_spec})\n",
    "print(\"\\n\")\n",
    "print(jack_akr)"
   ]
  },
  {
   "cell_type": "markdown",
   "metadata": {},
   "source": [
    "So we see that this function does not have poles. We now expand on the variables to see the vanishing and clustering property:"
   ]
  },
  {
   "cell_type": "code",
   "execution_count": 116,
   "metadata": {},
   "outputs": [
    {
     "name": "stdout",
     "output_type": "stream",
     "text": [
      "Warning, the number of variables of this superspace is less than the length of the longest superpartition, any monomial with len(lambda) > N will be set to 0.\n",
      "theta_0*theta_1*x_0^3*x_1^2*x_2-theta_0*theta_1*x_0^3*x_1*x_2^2-theta_0*theta_1*x_0^2*x_1^3*x_2+theta_0*theta_1*x_0^2*x_1*x_2^3+theta_0*theta_1*x_0*x_1^3*x_2^2-theta_0*theta_1*x_0*x_1^2*x_2^3-theta_0*theta_2*x_0^3*x_1^2*x_2+theta_0*theta_2*x_0^3*x_1*x_2^2+theta_0*theta_2*x_0^2*x_1^3*x_2-theta_0*theta_2*x_0^2*x_1*x_2^3-theta_0*theta_2*x_0*x_1^3*x_2^2+theta_0*theta_2*x_0*x_1^2*x_2^3+theta_1*theta_2*x_0^3*x_1^2*x_2-theta_1*theta_2*x_0^3*x_1*x_2^2-theta_1*theta_2*x_0^2*x_1^3*x_2+theta_1*theta_2*x_0^2*x_1*x_2^3+theta_1*theta_2*x_0*x_1^3*x_2^2-theta_1*theta_2*x_0*x_1^2*x_2^3\n"
     ]
    }
   ],
   "source": [
    "ss = superspace(N)\n",
    "in_var = jack_akr.expand(ss)\n",
    "print(in_var)"
   ]
  },
  {
   "cell_type": "markdown",
   "metadata": {},
   "source": [
    "The Jack polynomial in $\\alpha_{k,r}$ with admissible partition vanishes whenever $k+1$ of its variable are equal:"
   ]
  },
  {
   "cell_type": "code",
   "execution_count": 117,
   "metadata": {},
   "outputs": [
    {
     "name": "stdout",
     "output_type": "stream",
     "text": [
      "0\n",
      "0\n",
      "0\n"
     ]
    }
   ],
   "source": [
    "for x,y in [[x_0,x_1], [x_0, x_2], [x_1,x_2]]:\n",
    "    k1eq = in_var.subst(x, y)\n",
    "    print(k1eq)"
   ]
  },
  {
   "cell_type": "markdown",
   "metadata": {},
   "source": [
    "We finally illustrate the clustering property"
   ]
  },
  {
   "cell_type": "code",
   "execution_count": 118,
   "metadata": {},
   "outputs": [
    {
     "name": "stdout",
     "output_type": "stream",
     "text": [
      "(x_0 - x_1)*(x_0 - x_2)*x_0*(x_1 - x_2)*x_1*x_2\n"
     ]
    }
   ],
   "source": [
    "projected = ss.diff(ss.diff(in_var, theta_0), theta_1)\n",
    "sr_expr = factor(SR(str(projected)))\n",
    "print(sr_expr)"
   ]
  },
  {
   "cell_type": "markdown",
   "metadata": {},
   "source": [
    "Another clustering exemple:\n",
    "\n",
    "$N=4, k=2, r=2$. \n",
    "\n",
    "With those parameters, we select a set of superpartitions with $m=1$ that are admissible. For each of those superpartitions, we obtain the Jack polynomial with the proper $\\alpha$ specialization. Then we expand the superpolynomials in variables and set $x_3 = x_2$. We then see that each expression goes to 0 as $(x_1 - x_2)^2$ for $x_1 \\rightarrow x_2$. "
   ]
  },
  {
   "cell_type": "code",
   "execution_count": 119,
   "metadata": {},
   "outputs": [],
   "source": [
    "admissible = []\n",
    "k, r, N= (2, 2, 4)\n",
    "sectors = Sym._Jack_m_cache.keys()\n",
    "for sector in sectors:\n",
    "    sparts = Superpartitions(*sector)\n",
    "    for spart in sparts:\n",
    "        if len(spart) <= N:\n",
    "            if is_krN_admissible(spart, k, r, N):\n",
    "                if spart.fermionic_degree() == 1:\n",
    "                    admissible.append(spart)"
   ]
  },
  {
   "cell_type": "code",
   "execution_count": 120,
   "metadata": {},
   "outputs": [
    {
     "name": "stdout",
     "output_type": "stream",
     "text": [
      "Warning, the number of variables of this superspace is less than the length of the longest superpartition, any monomial with len(lambda) > N will be set to 0.\n",
      "Warning, the number of variables of this superspace is less than the length of the longest superpartition, any monomial with len(lambda) > N will be set to 0.\n",
      "Warning, the number of variables of this superspace is less than the length of the longest superpartition, any monomial with len(lambda) > N will be set to 0.\n",
      "Warning, the number of variables of this superspace is less than the length of the longest superpartition, any monomial with len(lambda) > N will be set to 0.\n"
     ]
    },
    {
     "data": {
      "text/latex": [
       "$$\\frac{1}{2} \\, {\\left(2 \\, x_{0} + x_{2}\\right)} {\\left(x_{0} - x_{2}\\right)} x_{0} {\\left(x_{1} - x_{2}\\right)}^{2} x_{1} x_{2}^{2}$$"
      ],
      "text/plain": [
       "<IPython.core.display.Math object>"
      ]
     },
     "metadata": {},
     "output_type": "display_data"
    },
    {
     "data": {
      "text/latex": [
       "$$-\\frac{1}{2} \\, {\\left(x_{0} - 2 \\, x_{1} - x_{2}\\right)} {\\left(x_{0} - x_{2}\\right)} x_{0} {\\left(x_{1} - x_{2}\\right)}^{2} x_{1} x_{2}^{2}$$"
      ],
      "text/plain": [
       "<IPython.core.display.Math object>"
      ]
     },
     "metadata": {},
     "output_type": "display_data"
    },
    {
     "data": {
      "text/latex": [
       "$$-{\\left(x_{0} - x_{2}\\right)} x_{0} {\\left(x_{1} - x_{2}\\right)}^{2} x_{1} x_{2}^{3}$$"
      ],
      "text/plain": [
       "<IPython.core.display.Math object>"
      ]
     },
     "metadata": {},
     "output_type": "display_data"
    },
    {
     "data": {
      "text/latex": [
       "$${\\left(x_{0} - x_{2}\\right)} x_{0} {\\left(x_{1} - x_{2}\\right)}^{2} x_{1} x_{2}^{2}$$"
      ],
      "text/plain": [
       "<IPython.core.display.Math object>"
      ]
     },
     "metadata": {},
     "output_type": "display_data"
    }
   ],
   "source": [
    "jacks_m = [m(Palpha(spart)) for spart in admissible]\n",
    "alpha_spec = -(k+1)/(r-1)\n",
    "jack_akr = [jack.subs_coeff({alpha:alpha_spec}) for jack in jacks_m]\n",
    "ss = superspace(N)\n",
    "jacks_x = [jack.expand(ss) for jack in jack_akr]\n",
    "projected_jacks = [ss.diff(in_var, theta_0) for in_var in jacks_x]\n",
    "sr_expr = [factor(SR(str(projected.subst(x_3,x_2)))) for projected in projected_jacks]\n",
    "for expr in sr_expr:\n",
    "    display(Math(latex(expr)))"
   ]
  },
  {
   "cell_type": "markdown",
   "metadata": {},
   "source": [
    "The previous strategy is very computationally expensive for large $N$. A better way approach goes through the non-symmetric Jack polynomial. The final step where we project the expression on $\\theta_0 \\cdots \\theta_{m-1}$ amounts to reduce the whole superpolynomial to the non-symmetric Jack with prescribed symmetry (antisymmetrized on the first $m$ variables). If one desires to explore the conjecture further, this would be the way to go. "
   ]
  },
  {
   "cell_type": "markdown",
   "metadata": {},
   "source": [
    "# Macdonald superpolynomials"
   ]
  },
  {
   "cell_type": "code",
   "execution_count": 121,
   "metadata": {},
   "outputs": [
    {
     "name": "stdout",
     "output_type": "stream",
     "text": [
      "Defining m as shorthand for Symmetric superfunctions over Fraction Field of Multivariate Polynomial Ring in q, t over Rational Field in the Monomial basis\n",
      "Defining h as shorthand for Symmetric superfunctions over Fraction Field of Multivariate Polynomial Ring in q, t over Rational Field in the Homogeneous basis\n",
      "Defining p as shorthand for Symmetric superfunctions over Fraction Field of Multivariate Polynomial Ring in q, t over Rational Field in the Powersum basis\n",
      "Defining e as shorthand for Symmetric superfunctions over Fraction Field of Multivariate Polynomial Ring in q, t over Rational Field in the Elementary basis\n"
     ]
    }
   ],
   "source": [
    "QQqt = FractionField(QQ['q', 't'])\n",
    "q, t = QQqt.gens()\n",
    "symqt = SymSuperfunctionsAlgebra(QQqt)\n",
    "symqt.inject_shorthands()\n",
    "Pqt = symqt.Macdonald()"
   ]
  },
  {
   "cell_type": "markdown",
   "metadata": {},
   "source": [
    "As usual the basis works either by invoking `Pqt(spart)` or `Pqt[[...],[...]]`"
   ]
  },
  {
   "cell_type": "code",
   "execution_count": 122,
   "metadata": {},
   "outputs": [
    {
     "name": "stdout",
     "output_type": "stream",
     "text": [
      "Pqt[[3, 2, 1], [3, 2]]\n",
      "Pqt[[4, 1], [3, 2]]\n"
     ]
    }
   ],
   "source": [
    "sparts = Superpartitions()\n",
    "my_spart = sparts([[3,2,1],[3,2]])\n",
    "print(Pqt(my_spart))\n",
    "print(Pqt[[4,1],[3,2]])"
   ]
  },
  {
   "cell_type": "markdown",
   "metadata": {},
   "source": [
    "## Particular cases\n",
    "### Jack limit\n",
    "$q=t^\\alpha, t\\rightarrow 1$\n"
   ]
  },
  {
   "cell_type": "markdown",
   "metadata": {},
   "source": [
    "We would like to test the limit from the Macdonald to the Jack case. So we must declare the ring of coefficients with all three parameters:"
   ]
  },
  {
   "cell_type": "code",
   "execution_count": 123,
   "metadata": {},
   "outputs": [
    {
     "name": "stdout",
     "output_type": "stream",
     "text": [
      "Defining m as shorthand for Symmetric superfunctions over Fraction Field of Multivariate Polynomial Ring in q, t, alpha over Rational Field in the Monomial basis\n",
      "Defining h as shorthand for Symmetric superfunctions over Fraction Field of Multivariate Polynomial Ring in q, t, alpha over Rational Field in the Homogeneous basis\n",
      "Defining p as shorthand for Symmetric superfunctions over Fraction Field of Multivariate Polynomial Ring in q, t, alpha over Rational Field in the Powersum basis\n",
      "Defining e as shorthand for Symmetric superfunctions over Fraction Field of Multivariate Polynomial Ring in q, t, alpha over Rational Field in the Elementary basis\n"
     ]
    }
   ],
   "source": [
    "QQqta = FractionField(QQ['q','t','alpha'])\n",
    "Symqta = SymSuperfunctionsAlgebra(QQqta)\n",
    "Symqta.inject_shorthands()\n",
    "Pqt = Symqta.Macdonald()\n",
    "Palpha = Symqta.Jack()"
   ]
  },
  {
   "cell_type": "markdown",
   "metadata": {},
   "source": [
    "So we are in a space of symmetric superfunctions where both bases are well defined as we illustrate here:"
   ]
  },
  {
   "cell_type": "code",
   "execution_count": 124,
   "metadata": {},
   "outputs": [
    {
     "name": "stdout",
     "output_type": "stream",
     "text": [
      "(2/(alpha+2))*m[[1, 0], [1, 1]] + m[[1, 0], [2]]\n",
      "((q*t^2-q*t+t-1)/(q*t^2-1))*m[[1, 0], [1, 1]] + m[[1, 0], [2]]\n"
     ]
    }
   ],
   "source": [
    "MyJack = Palpha[[1,0],[2]]\n",
    "MyJack_m = m(MyJack)\n",
    "print(MyJack_m)\n",
    "MyMacdo = Pqt[[1,0],[2]]\n",
    "MyMacdo_m = m(MyMacdo)\n",
    "print(MyMacdo_m)"
   ]
  },
  {
   "cell_type": "markdown",
   "metadata": {},
   "source": [
    "Let us now test the Jack limiting case. Now we confronted with the problem that for Sage $t^{\\alpha}$ is not part of the coefficient ring. Instead of simply providing a function for the evaluation of this limit, we will here define a Sage function from scratch. This will serve as an introduction to how one would implement one's own features and present subtle details that are not apparent otherwise. \n",
    "\n",
    "So we have to design a function that takes a coefficient and does the proper substitution and take the proper limit. More precisely it has to do the following: \n",
    "\n",
    "1. Save the original coefficient ring.\n",
    "2. Convert the coefficient and q,t,alpha to the symbolic ring.\n",
    "3. Make the substitution `q = t^alpha`.\n",
    "4. Take the limit `t=1`.\n",
    "5. Convert the result back to the original coefficient ring."
   ]
  },
  {
   "cell_type": "code",
   "execution_count": 125,
   "metadata": {},
   "outputs": [],
   "source": [
    "def mac_jack_coeff(coeff):\n",
    "    # First, if the coefficient is not a polynomial in either\n",
    "    # q or t we don't have to do anything\n",
    "    if coeff in QQ:\n",
    "        return coeff\n",
    "    \n",
    "    # Now we must extract the coefficient ring\n",
    "    BR = coeff.parent()\n",
    "    # This is a dictionnary with q, t and alpha\n",
    "    parameters = BR.gens_dict()\n",
    "    q = parameters['q']\n",
    "    t = parameters['t']\n",
    "    alpha = parameters['alpha']\n",
    "    \n",
    "    # Now we need to convert our coefficient to the symbolic ring\n",
    "    coeff_SR = SR(coeff)\n",
    "    # We also need a version of the parameters on the symbolic ring\n",
    "    q_SR = SR(q)\n",
    "    t_SR = SR(t)\n",
    "    alpha_SR = SR(alpha)\n",
    "    \n",
    "    # We can now do the substitution since it is allowed on the \n",
    "    # symbolic ring\n",
    "    coeff_SR_qtalpha = coeff_SR.subs({q_SR:t_SR**alpha_SR})\n",
    "\n",
    "    # To take the limit, we have to prepare the underlying \n",
    "    # engine (GAP) that will compute it. First, we tell\n",
    "    # SAGE that alpha is in ZZ\n",
    "    assume(alpha_SR, 'integer')\n",
    "    # And here, one must understand that the limit is computed\n",
    "    # by GAP and that the limit argument is sent by sage as a\n",
    "    # string. So instead of writing t_SR = 1, we must write \n",
    "    # t = 1 since t_SR is represented as the string 't' \n",
    "    # in the equations\n",
    "    coeff_jack = coeff_SR_qtalpha.limit(t = 1)\n",
    "    # We simplify the resulting coefficient\n",
    "    coeff_jack = factor(coeff_jack)\n",
    "    \n",
    "    # Now we must convert the result of our computation back to\n",
    "    # the coefficient ring. To do so, we have to substitute each\n",
    "    # variable since Sage does not understand automaticaly that,\n",
    "    # for instance, q_SR from SR is related to q taken from BR. \n",
    "    # So we substitute with the right variable and apply BR()\n",
    "    # to convert it to the right ring. \n",
    "    BR_coeff = BR(coeff_jack.subs({alpha_SR : alpha}))\n",
    "    \n",
    "    return BR_coeff  \n",
    "    "
   ]
  },
  {
   "cell_type": "markdown",
   "metadata": {},
   "source": [
    "We now have a function that maps the coefficients. So we just have to go on and apply it to every coefficient of a polynomial to verify the limiting behaviour. To procede, we are going to:\n",
    "\n",
    "1. Generate a Macdonald superpolynomial and expand it on the monomial basis.\n",
    "2. Use the `expr.map_coefficients(FUNCTION)` method to apply our brand new function to the coefficient.\n",
    "3. Convert the resulting expression to Jack superpolynomials."
   ]
  },
  {
   "cell_type": "code",
   "execution_count": 126,
   "metadata": {},
   "outputs": [
    {
     "name": "stdout",
     "output_type": "stream",
     "text": [
      "Starting from Pqt[[3, 0], [2]]\n",
      "\n",
      "We apply the limit resulting in\n",
      "(12/(alpha^3+3*alpha^2+3*alpha+1))*m[[1, 0], [1, 1, 1, 1]] + ((2*alpha+5)/(alpha^3+3*alpha^2+3*alpha+1))*m[[1, 0], [2, 1, 1]] + ((alpha^2+2*alpha+2)/(alpha^3+3*alpha^2+3*alpha+1))*m[[1, 0], [2, 2]] + ((6*alpha+9)/(alpha^3+3*alpha^2+3*alpha+1))*m[[2, 0], [1, 1, 1]] + ((3*alpha+4)/(alpha^3+3*alpha^2+3*alpha+1))*m[[2, 1], [1, 1]] + ((2*alpha^2+9*alpha+8)/(2*alpha^3+6*alpha^2+6*alpha+2))*m[[2, 0], [2, 1]] + (1/(alpha^2+2*alpha+1))*m[[1, 0], [3, 1]] + (1/(alpha+1))*m[[3, 1], [1]] + (1/(alpha+1))*m[[2, 0], [3]] + (2/(alpha+1))*m[[3, 0], [1, 1]] + ((alpha+4)/(2*alpha^2+4*alpha+2))*m[[2, 1], [2]] + m[[3, 0], [2]]\n",
      "\n",
      "\n",
      "Converting to Jack superpolynomials we have\n",
      "Palpha[[3, 0], [2]]\n"
     ]
    }
   ],
   "source": [
    "# Step 1\n",
    "mac = Pqt[[3,0],[2]]\n",
    "mac_m = m(mac)\n",
    "print(\"Starting from \" + str(mac) + \"\\n\")\n",
    "\n",
    "# Step 2\n",
    "print(\"We apply the limit resulting in\")\n",
    "# Note here that all we need to provide to map_coefficients\n",
    "# is the function name\n",
    "mac_m_apply_limit = mac_m.map_coefficients(mac_jack_coeff)\n",
    "print(mac_m_apply_limit)\n",
    "print(\"\\n\")\n",
    "#\n",
    "resulting_jack = Palpha(mac_m_apply_limit)\n",
    "print(\"Converting to Jack superpolynomials we have\")\n",
    "print(resulting_jack)"
   ]
  },
  {
   "cell_type": "markdown",
   "metadata": {},
   "source": [
    "### Monomial limit\n",
    "$t=1$\n",
    "\n",
    "$P_{\\Lambda}(q, 1) = m_\\Lambda$"
   ]
  },
  {
   "cell_type": "code",
   "execution_count": 127,
   "metadata": {},
   "outputs": [
    {
     "name": "stdout",
     "output_type": "stream",
     "text": [
      "Starting from Pqt[[2, 1], [2]]\n",
      "\n",
      "We substitute t=1 and obtain :\n",
      "m[[2, 1], [2]]\n"
     ]
    }
   ],
   "source": [
    "a_mac = Pqt[[2,1],[2]]\n",
    "print(\"Starting from \" + str(a_mac) + \"\\n\")\n",
    "a_mac_m = m(a_mac)\n",
    "mono = a_mac_m.subs_coeff({t:1})\n",
    "print(\"We substitute t=1 and obtain :\")\n",
    "print(mono)"
   ]
  },
  {
   "cell_type": "markdown",
   "metadata": {},
   "source": [
    "### Elementary limit\n",
    "$q=1$\n",
    "\n",
    "$P_\\Lambda(1,t) = (-1)^{\\binom{m}{2}}e_{\\Lambda^\\prime}$"
   ]
  },
  {
   "cell_type": "code",
   "execution_count": 128,
   "metadata": {},
   "outputs": [
    {
     "name": "stdout",
     "output_type": "stream",
     "text": [
      "Starting from Pqt[[1, 0], [1, 1]]\n",
      "\n",
      "■ ○\n",
      "■\n",
      "■\n",
      "○\n",
      "\n",
      "We expand on the e basis and evaluate q=1 obtaining:\n",
      "-e[[3, 0], []]\n",
      "■ ■ ■ ○\n",
      "○\n",
      "\n"
     ]
    }
   ],
   "source": [
    "a_mac = Pqt[[1,0],[1,1]]\n",
    "a_mac_e = e(a_mac)\n",
    "print(\"Starting from \" + str(a_mac) + \"\\n\")\n",
    "# On the following line we take the expression a_mac\n",
    "# expr.monomial_coefficients() will extract a dict of the form\n",
    "# {spart:coeff, spart:coeff, ...}, using keys() we obtain\n",
    "# a list of the superpartition, then [0] exctract the first\n",
    "# (and only) superpartition\n",
    "spart = a_mac.monomial_coefficients().keys()[0]\n",
    "spart.terminal_diagram()\n",
    "\n",
    "# Now for the substitution\n",
    "elem = a_mac_e.subs_coeff({q:1})\n",
    "print(\"We expand on the e basis and evaluate q=1 obtaining:\")\n",
    "print(elem)\n",
    "elem.monomial_coefficients().keys()[0].terminal_diagram()"
   ]
  },
  {
   "cell_type": "markdown",
   "metadata": {},
   "source": [
    "### Schur\n",
    "The super-Schur function is presented in its own section."
   ]
  },
  {
   "cell_type": "markdown",
   "metadata": {},
   "source": [
    "## Cauchy kernel\n",
    "\n",
    "### $g_\\Lambda(q,t)$\n",
    "We now introduce the 2 parameter deformation of the homogeneous basis. "
   ]
  },
  {
   "cell_type": "code",
   "execution_count": 129,
   "metadata": {},
   "outputs": [
    {
     "name": "stdout",
     "output_type": "stream",
     "text": [
      "Defining m as shorthand for Symmetric superfunctions over Fraction Field of Multivariate Polynomial Ring in q, t over Rational Field in the Monomial basis\n",
      "Defining h as shorthand for Symmetric superfunctions over Fraction Field of Multivariate Polynomial Ring in q, t over Rational Field in the Homogeneous basis\n",
      "Defining p as shorthand for Symmetric superfunctions over Fraction Field of Multivariate Polynomial Ring in q, t over Rational Field in the Powersum basis\n",
      "Defining e as shorthand for Symmetric superfunctions over Fraction Field of Multivariate Polynomial Ring in q, t over Rational Field in the Elementary basis\n",
      "\n",
      "As with any other basis\n",
      "gqt[[3, 0], [1]]\n",
      "\n",
      " we can convert it to other bases\n",
      "((-3*t^3+9*t^2-9*t+3)/(q^4-3*q^3+3*q^2-q))*m[[1, 0], [1, 1, 1]] + ((-2*q*t^3+5*q*t^2-t^3-4*q*t+4*t^2+q-5*t+2)/(q^5-2*q^4+2*q^2-q))*m[[1, 0], [2, 1]] + ((-3*q*t^3+7*q*t^2-5*q*t+2*t^2+q-4*t+2)/(q^5-3*q^4+3*q^3-q^2))*m[[2, 0], [1, 1]] + ((-q^2*t^3+2*q^2*t^2-2*q*t^3-q^2*t+5*q*t^2-4*q*t+2*t^2+q-4*t+2)/(q^6-2*q^5+2*q^3-q^2))*m[[2, 1], [1]] + ((-2*q^2*t^3+4*q^2*t^2-q*t^3-2*q^2*t+4*q*t^2-5*q*t+t^2+2*q-2*t+1)/(q^6-2*q^5+2*q^3-q^2))*m[[2, 0], [2]] + ((-q*t^3+2*q*t^2-q*t+t^2-2*t+1)/(q^5-2*q^4+2*q^2-q))*m[[1, 0], [3]] + ((-2*q^3*t^3+3*q^3*t^2-q^2*t^3-q^3*t+4*q^2*t^2-4*q^2*t+2*q*t^2+q^2-3*q*t+q-t+1)/(q^7-2*q^6+2*q^4-q^3))*m[[3, 0], [1]] + ((-q^2*t^3+q^2*t^2+2*q*t^2-2*q*t-t+1)/(q^6-3*q^5+3*q^4-q^3))*m[[3, 1], []] + ((-q^3*t^3+q^3*t^2+q^2*t^2-q^2*t+q*t^2-q*t-t+1)/(q^7-2*q^6+2*q^4-q^3))*m[[4, 0], []]\n"
     ]
    }
   ],
   "source": [
    "QQqt = FractionField(QQ['q','t'])\n",
    "Sym = SymSuperfunctionsAlgebra(QQqt)\n",
    "Sym.inject_shorthands()\n",
    "Sparts = Superpartitions()\n",
    "\n",
    "print('\\nAs with any other basis')\n",
    "gqt = Sym.Gqt()\n",
    "my_expr = gqt[[3,0],[1]]\n",
    "print(my_expr)\n",
    "print(\"\\n we can convert it to other bases\")\n",
    "print(m(my_expr).collect())"
   ]
  },
  {
   "cell_type": "markdown",
   "metadata": {},
   "source": [
    "Now a defining property of this basis is that it is orthonormal to the monomial basis, so let us illustrate that in for superpartitions in the sector $(6|3)$:"
   ]
  },
  {
   "cell_type": "code",
   "execution_count": 130,
   "metadata": {},
   "outputs": [
    {
     "name": "stdout",
     "output_type": "stream",
     "text": [
      "Lambda =/= Omega\n",
      "[0, 0, 0, 0, 0, 0, 0, 0, 0, 0, 0, 0, 0, 0, 0, 0, 0, 0, 0, 0, 0, 0, 0, 0, 0, 0, 0, 0, 0, 0, 0, 0, 0, 0, 0, 0, 0, 0, 0, 0, 0, 0, 0, 0, 0]\n",
      "\n",
      "Lambda == Omega\n",
      "[1, 1, 1, 1, 1, 1, 1, 1, 1, 1]\n"
     ]
    }
   ],
   "source": [
    "spart_set = list(Superpartitions(6,3))\n",
    "ortho_pairs = Combinations(spart_set, 2)\n",
    "ortho_scal = [gqt(spart1).scalar_qt(m(spart2))\n",
    "              for spart1, spart2 in ortho_pairs]\n",
    "unit_scal = [gqt(spart).scalar_qt(m(spart))\n",
    "             for spart in spart_set]\n",
    "print(\"Lambda =/= Omega\")\n",
    "print(ortho_scal)\n",
    "print(\"\\nLambda == Omega\")\n",
    "print(unit_scal)"
   ]
  },
  {
   "cell_type": "markdown",
   "metadata": {},
   "source": [
    "## Macdonald superpolynomials from an eigenvalue problem"
   ]
  },
  {
   "cell_type": "markdown",
   "metadata": {},
   "source": [
    "## Further properties \n",
    "### One part superpartition\n",
    "$P_{(n;)} = \\left( \\sum_{i=0}^n q^{i-n} \\chi_i \\right)^{-1} \\tilde{g}_n(q,t)$"
   ]
  },
  {
   "cell_type": "code",
   "execution_count": 131,
   "metadata": {},
   "outputs": [
    {
     "name": "stdout",
     "output_type": "stream",
     "text": [
      "((q^20-q^19-q^18+q^15+q^14+q^13-q^12-q^11-q^10+q^7+q^6-q^5)/(q^15*t^5-q^14*t^4-q^13*t^4-q^12*t^4+q^12*t^3-q^11*t^4+q^11*t^3-q^10*t^4+2*q^10*t^3+2*q^9*t^3-q^9*t^2+2*q^8*t^3-q^8*t^2+q^7*t^3-2*q^7*t^2+q^6*t^3-2*q^6*t^2-2*q^5*t^2+q^5*t-q^4*t^2+q^4*t-q^3*t^2+q^3*t+q^2*t+q*t-1))*gqt[[5], []]\n"
     ]
    }
   ],
   "source": [
    "QQqt = FractionField(QQ['q','t'])\n",
    "Sym = SymSuperfunctionsAlgebra(QQqt)\n",
    "Pqt = Sym.Macdonald()\n",
    "gqt = Sym.Gqt()\n",
    "\n",
    "one_part_mac = Pqt[[5],[]]\n",
    "print(gqt(one_part_mac).collect())"
   ]
  },
  {
   "cell_type": "markdown",
   "metadata": {},
   "source": [
    "$P_{(;\\, n)} = \\chi_n^{-1} g_n(q,t)$ "
   ]
  },
  {
   "cell_type": "code",
   "execution_count": 132,
   "metadata": {},
   "outputs": [
    {
     "name": "stdout",
     "output_type": "stream",
     "text": [
      "((-q^15+q^14+q^13-q^10-q^9-q^8+q^7+q^6+q^5-q^2-q+1)/(-q^10*t^5+q^10*t^4+q^9*t^4-q^9*t^3+q^8*t^4-q^8*t^3+q^7*t^4-2*q^7*t^3+q^6*t^4+q^7*t^2-2*q^6*t^3+q^6*t^2-2*q^5*t^3+2*q^5*t^2-q^4*t^3+2*q^4*t^2-q^3*t^3-q^4*t+2*q^3*t^2-q^3*t+q^2*t^2-q^2*t+q*t^2-q*t-t+1))*gqt[[], [5]]\n"
     ]
    }
   ],
   "source": [
    "one_part_mac2 = Pqt[[],[5]]\n",
    "print(gqt(one_part_mac2))"
   ]
  },
  {
   "cell_type": "markdown",
   "metadata": {},
   "source": [
    "### Duality\n",
    "We now illustrate the duality property. \n",
    "\n",
    "$$\\hat{\\omega}_{q,t} P_\\Lambda (q, t) = \n",
    "\\frac{(q/t)^{|\\Lambda|}}{<P_\\Lambda | P_\\Lambda>_{q,t}}P_{\\Lambda^\\prime} (t^{-1}, q^{-1})$$\n",
    "\n",
    "To illustrate this, we will follow these steps: \n",
    "\n",
    "1. We generate a superMacdonald for a superpartition\n",
    "2. We apply the omega_qt automorphism\n",
    "3. We normalize the result (we devide by the factor on the rhs)\n",
    "4. We expand the expression on the monomial basis to unravel the q, t dependence.\n",
    "5. We substitute q=1/t and t=1/q\n",
    "6. Convert the result back to Macdonald, this should result in the Macdonald of the conjugate partition."
   ]
  },
  {
   "cell_type": "code",
   "execution_count": 133,
   "metadata": {},
   "outputs": [
    {
     "name": "stdout",
     "output_type": "stream",
     "text": [
      "Pqt[[2, 0], [1, 1]]\n",
      "■ ■ ○\n",
      "■\n",
      "■\n",
      "○\n",
      "\n",
      "Pqt[[3, 0], [1]]\n",
      "■ ■ ■ ○\n",
      "■\n",
      "○\n",
      "\n"
     ]
    }
   ],
   "source": [
    "# We generate a macdonald polynomial\n",
    "spart1 = Superpartitions()([[2,0],[1,1]])\n",
    "a_macdo = Pqt(spart1)\n",
    "print(a_macdo)\n",
    "spart1.terminal_diagram()\n",
    "\n",
    "# We apply omega\n",
    "w_a_macdo = a_macdo.omega_qt()\n",
    "\n",
    "# We compute the norm \n",
    "norm = a_macdo.scalar_qt(a_macdo)\n",
    "\n",
    "# We normalize the result (DOES NOT FIT WITH Compendium document)\n",
    "new_mac = 1/norm*w_a_macdo\n",
    "\n",
    "# Expand on monomial basis\n",
    "new_mac_m = m(new_mac)\n",
    "# Substitution\n",
    "new_mac_m = new_mac_m.subs_coeff({q:1/t, t:1/q})\n",
    "\n",
    "# Convert back to Macdonald\n",
    "new_mac = Pqt(new_mac_m)\n",
    "print(new_mac.collect())\n",
    "new_mac.monomial_coefficients().keys()[0].terminal_diagram()"
   ]
  },
  {
   "cell_type": "markdown",
   "metadata": {},
   "source": [
    "### The second duality\n",
    "The second duality is expressed through the following automorphism:\n",
    "$$\n",
    "    \\hat{\\rho}_{q,t}(p_r) = (-1)^{r-1} \\frac{1-q^r}{1-t^r} p_r, \\quad\n",
    "    \\hat{\\rho}_{q,t}(\\tilde{p}_r) =\n",
    "    \\sum_{\\Lambda \\vdash (r|1)} \\frac{\\omega_\\Lambda}{z_\\Lambda}\n",
    "    \\prod_{i}(1-q^{\\Lambda^s_i})p_\\Lambda\n",
    "$$\n",
    "with $\\omega_\\Lambda = (-1)^{|\\Lambda| - \\ell (\\Lambda^{s})}$. This automorphism is provided as a method on expressions as `expr.rho_qt()` :"
   ]
  },
  {
   "cell_type": "code",
   "execution_count": 134,
   "metadata": {},
   "outputs": [
    {
     "name": "stdout",
     "output_type": "stream",
     "text": [
      "Defining QQqta as Fraction Field of Multivariate Polynomial Ring in q, t, alpha over Rational Field\n",
      "Defining Sym as Symmetric superfunctions over Fraction Field of Multivariate Polynomial Ring in q, t, alpha over Rational Field\n",
      "Defining m, p, e, h as monomial, powersum, elementary andhomogensous bases\n",
      "Defining Sparts as superpartitions\n",
      "((q^5-2*q^4+q^3-q^2+2*q-1)/(t^4-t^3-t+1))*p[[1, 0], [3, 1, 1]] + ((q^4-q^3-q+1)/(t^4-t^3-t+1))*p[[2, 0], [3, 1]]\n",
      "\n",
      "\n",
      "((q^3*t+2*q^3-3*q^2*t-6*q^2+3*q*t+6*q-t-2)/(t-1))*m[[0], [1, 1, 1]] + ((q^3*t+2*q^3-2*q^2*t-5*q^2+q*t+4*q-1)/(t-1))*m[[1], [1, 1]] + ((q^3*t+q^3-2*q^2*t-3*q^2+q*t+3*q-1)/(t-1))*m[[0], [2, 1]] + ((q^3*t+q^3-q^2*t-3*q^2+2*q)/(t-1))*m[[1], [2]] + ((q^3*t+q^3-q^2*t-2*q^2+q)/(t-1))*m[[2], [1]] + ((q^3*t-q^2*t-q^2+q)/(t-1))*m[[0], [3]] + ((q^3*t-q^2)/(t-1))*m[[3], []]\n"
     ]
    }
   ],
   "source": [
    "super_init()\n",
    "expr_p = p[[2,0],[3,1]].rho_qt()\n",
    "print(expr_p)\n",
    "print('\\n')\n",
    "expr_m = m[[2],[1]].rho_qt()\n",
    "print(expr_m)"
   ]
  },
  {
   "cell_type": "markdown",
   "metadata": {},
   "source": [
    "We now illustrate the duality through the following steps:\n",
    "1. We choose a superpartition and get the associated Macdonald superpolynomial\n",
    "2. We could apply $\\hat{\\rho}_{q,t}$ right away, but since it goes through the powersum basis and we'll need to go back to this basis we convert our Macdonald to powersum and apply $\\hat{\\rho}_{q,t}$\n",
    "3. We make the substitution $q\\leftrightarrow  t$\n",
    "4. Convert the expression in the powersums back to the Macdonald basis\n",
    "5. We print the result, the diagram and the coefficient."
   ]
  },
  {
   "cell_type": "code",
   "execution_count": 135,
   "metadata": {},
   "outputs": [
    {
     "name": "stdout",
     "output_type": "stream",
     "text": [
      "■ ■ ○\n",
      "■ ■\n",
      "■\n",
      "■\n",
      "○\n",
      "\n",
      "\n",
      "((-q^5*t^5+q^5*t^4+2*q^4*t^4-2*q^4*t^3-q^3*t^3+q^3*t^2+q^2*t^3-q^2*t^2-2*q*t^2+2*q*t+t-1)/(q^7*t-2*q^6*t+2*q^4*t-q^4-q^3*t+2*q^3-2*q+1))*Pqt[[4, 0], [2]]\n",
      "■ ■ ■ ■ ○\n",
      "■ ■\n",
      "○\n",
      "\n",
      "The coefficient is\n"
     ]
    },
    {
     "data": {
      "text/latex": [
       "$$-\\frac{{\\left(q^{3} t^{2} - 1\\right)} {\\left(q t - 1\\right)}^{2} {\\left(t - 1\\right)}}{{\\left(q^{3} t - 1\\right)} {\\left(q + 1\\right)} {\\left(q - 1\\right)}^{3}}$$"
      ],
      "text/plain": [
       "<IPython.core.display.Math object>"
      ]
     },
     "metadata": {},
     "output_type": "display_data"
    }
   ],
   "source": [
    "Pqt = Sym.Macdonald()\n",
    "q, t, alpha = QQqta.gens()\n",
    "# We generate our partition and print the diagram\n",
    "my_spart = Sparts([[2,0],[2,1,1]])\n",
    "my_spart.terminal_diagram()\n",
    "# We now take the Macdonald associated to the spart and\n",
    "# apply rho, we will convert it to the powersum basis to\n",
    "# speed up the following steps\n",
    "mac = Pqt(my_spart)\n",
    "rho_mac_p = p(mac).rho_qt()\n",
    "# Now rho_mac should be Q of conjugate superpartition\n",
    "# with t <--> q, so we develop on the m basis, exchange q and t\n",
    "# and finally we put it back on the Jack basis\n",
    "rho_mac_p_tq = rho_mac_p.subs_coeff({q:t, t:q})\n",
    "rho_mac_conj = Pqt(rho_mac_p_tq)\n",
    "print(\"\")\n",
    "print(rho_mac_conj)\n",
    "new_spart, coeff = rho_mac_conj.monomial_coefficients().items()[0]\n",
    "new_spart.terminal_diagram()\n",
    "print(\"The coefficient is\")\n",
    "display(Math(latex(factor(SR(coeff)))))"
   ]
  },
  {
   "cell_type": "markdown",
   "metadata": {},
   "source": [
    "### Normalization\n",
    "$$ < P_\\Lambda(q,t) | P_\\Lambda(q,t)>_{q,t} =\n",
    "(-1)^{\\binom{m}{2}} q^{| \\Lambda^a |}\n",
    "\\prod_{s \\in \\mathcal{B} \\Lambda}\n",
    "\\frac{1 - q^{a(s) + 1}t^{\\tilde{l}(s)}}\n",
    "{1 - q^{\\tilde{a}(s)}t^{l(s) + 1}}\n",
    "$$\n",
    "\n",
    "We verify some examples of the conjectured normalization formula here. The value of the given by the formula can be obtained with\n",
    "`Pqt.calc_norm(spart)`, where `Pqt` must be an instance of `Sym.Macdonald()`"
   ]
  },
  {
   "cell_type": "code",
   "execution_count": 136,
   "metadata": {
    "scrolled": true
   },
   "outputs": [
    {
     "data": {
      "text/latex": [
       "$$[[4, 1, 0], []]:\\, -\\frac{{\\left(q + 1\\right)} {\\left(q - 1\\right)}^{2} q^{5}}{{\\left(q^{2} t - 1\\right)} {\\left(q t - 1\\right)}}$$"
      ],
      "text/plain": [
       "<IPython.core.display.Math object>"
      ]
     },
     "metadata": {},
     "output_type": "display_data"
    },
    {
     "data": {
      "text/latex": [
       "$$-\\frac{{\\left(q + 1\\right)} {\\left(q - 1\\right)}^{2} q^{5}}{{\\left(q^{2} t - 1\\right)} {\\left(q t - 1\\right)}}$$"
      ],
      "text/plain": [
       "<IPython.core.display.Math object>"
      ]
     },
     "metadata": {},
     "output_type": "display_data"
    },
    {
     "name": "stdout",
     "output_type": "stream",
     "text": [
      "\n",
      "\n"
     ]
    },
    {
     "data": {
      "text/latex": [
       "$$[[3, 2, 0], []]:\\, -\\frac{{\\left(q^{2} t - 1\\right)} {\\left(q - 1\\right)} q^{5}}{{\\left(q t + 1\\right)} {\\left(q t - 1\\right)}^{2}}$$"
      ],
      "text/plain": [
       "<IPython.core.display.Math object>"
      ]
     },
     "metadata": {},
     "output_type": "display_data"
    },
    {
     "data": {
      "text/latex": [
       "$$-\\frac{{\\left(q^{2} t - 1\\right)} {\\left(q - 1\\right)} q^{5}}{{\\left(q t + 1\\right)} {\\left(q t - 1\\right)}^{2}}$$"
      ],
      "text/plain": [
       "<IPython.core.display.Math object>"
      ]
     },
     "metadata": {},
     "output_type": "display_data"
    },
    {
     "name": "stdout",
     "output_type": "stream",
     "text": [
      "\n",
      "\n"
     ]
    },
    {
     "data": {
      "text/latex": [
       "$$[[3, 1, 0], [1]]:\\, -\\frac{{\\left(q - 1\\right)} q^{4}}{t - 1}$$"
      ],
      "text/plain": [
       "<IPython.core.display.Math object>"
      ]
     },
     "metadata": {},
     "output_type": "display_data"
    },
    {
     "data": {
      "text/latex": [
       "$$-\\frac{{\\left(q - 1\\right)} q^{4}}{t - 1}$$"
      ],
      "text/plain": [
       "<IPython.core.display.Math object>"
      ]
     },
     "metadata": {},
     "output_type": "display_data"
    },
    {
     "name": "stdout",
     "output_type": "stream",
     "text": [
      "\n",
      "\n"
     ]
    },
    {
     "data": {
      "text/latex": [
       "$$[[2, 1, 0], [2]]:\\, -\\frac{{\\left(q t + 1\\right)} {\\left(q t - 1\\right)}^{2} q^{3}}{{\\left(q t^{2} - 1\\right)} {\\left(t - 1\\right)}}$$"
      ],
      "text/plain": [
       "<IPython.core.display.Math object>"
      ]
     },
     "metadata": {},
     "output_type": "display_data"
    },
    {
     "data": {
      "text/latex": [
       "$$-\\frac{{\\left(q t + 1\\right)} {\\left(q t - 1\\right)}^{2} q^{3}}{{\\left(q t^{2} - 1\\right)} {\\left(t - 1\\right)}}$$"
      ],
      "text/plain": [
       "<IPython.core.display.Math object>"
      ]
     },
     "metadata": {},
     "output_type": "display_data"
    },
    {
     "name": "stdout",
     "output_type": "stream",
     "text": [
      "\n",
      "\n"
     ]
    },
    {
     "data": {
      "text/latex": [
       "$$[[2, 1, 0], [1, 1]]:\\, -\\frac{{\\left(q t^{2} - 1\\right)} {\\left(q t - 1\\right)} q^{3}}{{\\left(t + 1\\right)} {\\left(t - 1\\right)}^{2}}$$"
      ],
      "text/plain": [
       "<IPython.core.display.Math object>"
      ]
     },
     "metadata": {},
     "output_type": "display_data"
    },
    {
     "data": {
      "text/latex": [
       "$$-\\frac{{\\left(q t^{2} - 1\\right)} {\\left(q t - 1\\right)} q^{3}}{{\\left(t + 1\\right)} {\\left(t - 1\\right)}^{2}}$$"
      ],
      "text/plain": [
       "<IPython.core.display.Math object>"
      ]
     },
     "metadata": {},
     "output_type": "display_data"
    },
    {
     "name": "stdout",
     "output_type": "stream",
     "text": [
      "\n",
      "\n"
     ]
    }
   ],
   "source": [
    "Sparts = Superpartitions(5,3)\n",
    "Pqt = Sym.Macdonald()\n",
    "for a_spart in Sparts:\n",
    "    a_Mac = Pqt(a_spart)\n",
    "    scalar_prod = a_Mac.scalar_qt(a_Mac)\n",
    "    calc_norm = Pqt.calc_norm(a_spart)\n",
    "    display(Math(str(a_spart)+':\\,' +latex(factor(SR(calc_norm)))))\n",
    "    display(Math(latex(factor(SR(scalar_prod)))))\n",
    "    print(\"\\n\")"
   ]
  },
  {
   "cell_type": "markdown",
   "metadata": {},
   "source": [
    "### Specialization\n",
    "We now illustrate the specialization conjecture. We present an example by going through the following steps:\n",
    "1. Create a Macdonald polynomial\n",
    "2. Expand it on an appropritate superspace\n",
    "3. Project the expression to obtain only the coefficient of $\\theta_0\\cdots \\theta_{m-1}$ and factor out the Vandermonde determinant\n",
    "4. Obtain the $\\delta^k$ staircase and use it to create the list of substitution\n",
    "5. Make the substitutions and print the result"
   ]
  },
  {
   "cell_type": "code",
   "execution_count": 137,
   "metadata": {},
   "outputs": [
    {
     "name": "stdout",
     "output_type": "stream",
     "text": [
      "Defining QQqta as Fraction Field of Multivariate Polynomial Ring in q, t, alpha over Rational Field\n",
      "Defining Sym as Symmetric superfunctions over Fraction Field of Multivariate Polynomial Ring in q, t, alpha over Rational Field\n",
      "Defining m, p, e, h as monomial, powersum, elementary andhomogensous bases\n",
      "Defining Sparts as superpartitions\n"
     ]
    },
    {
     "data": {
      "text/latex": [
       "$$\\frac{{\\left(q^{3} t^{7} - 1\\right)} {\\left(q t^{5} - 1\\right)} {\\left(t^{2} + t + 1\\right)} {\\left(t^{2} + 1\\right)} {\\left(t + 1\\right)} t^{10}}{{\\left(q t^{3} - 1\\right)} {\\left(q t - 1\\right)} q^{2}}$$"
      ],
      "text/plain": [
       "<IPython.core.display.Math object>"
      ]
     },
     "metadata": {},
     "output_type": "display_data"
    },
    {
     "name": "stdout",
     "output_type": "stream",
     "text": [
      "1\n"
     ]
    }
   ],
   "source": [
    "super_init()\n",
    "Pqt = Sym.Macdonald()\n",
    "q,t,_ = QQqta.gens()\n",
    "sparts = Superpartitions()\n",
    "# We use the Macdonald with the following superpartition\n",
    "spart = sparts([[3,1,0],[2,1]])\n",
    "a_mac = Pqt(spart)\n",
    "# We use a number of variable equivalent to the longest \n",
    "# superpartition in the sector\n",
    "N = max([len(x) for x in Superpartitions(*spart.sector())])\n",
    "ss = superspace(N)\n",
    "# Expand the macdonald polynomial\n",
    "mac_x = a_mac.expand(ss)\n",
    "# Projection\n",
    "projected = ss.theta_project(mac_x)\n",
    "# Now we must divide by the Vandermonde determinant\n",
    "projected = projected.division(ss.vandermonde(spart.fermionic_degree()))[1][1,1]\n",
    "# Staircase\n",
    "delta_m = list(sparts.stair(spart.fermionic_degree()-1))\n",
    "delta_m = delta_m + [0 for k in range(N - len(delta_m))]\n",
    "X = ss.x_vars()\n",
    "# Substitution list\n",
    "sub_list = flatten([[X[k], q**(-delta_m[k])*t**(k)] for k in range(N)])\n",
    "# Substitution\n",
    "mac_spec = projected.subst(*sub_list)\n",
    "# Use the symbolic ring to print the result nicely\n",
    "spec_SR = factor(SR(str(mac_spec)))\n",
    "display(Math(latex(spec_SR)))\n",
    "conjectural_spec = a_mac.specialize(N)\n",
    "print(factor(SR(str(mac_spec)))/factor(SR(str(conjectural_spec))))"
   ]
  },
  {
   "cell_type": "markdown",
   "metadata": {},
   "source": [
    "### Symmetry\n",
    "To illustrate the symmetry conjecture we will define a function that applies the specialization. If you read the specialization section you should understand what is going on. "
   ]
  },
  {
   "cell_type": "code",
   "execution_count": 138,
   "metadata": {},
   "outputs": [],
   "source": [
    "def spec_macdo(Pqt, mac_spart, spec_spart, ss):\n",
    "    BR = Pqt.base_ring()\n",
    "    params = BR.gens_dict()\n",
    "    q = params['q']\n",
    "    t = params['t']\n",
    "    N = ss._N\n",
    "    # Obtain the Macdonald\n",
    "    mac_x = Pqt(mac_spart).expand(ss)\n",
    "    # Get the coefficient of theta_0...theta_{m-1}\n",
    "    projected = ss.theta_project(mac_x)\n",
    "    ferm_degree = mac_spart.fermionic_degree()\n",
    "    projected = projected.division(\n",
    "        ss.vandermonde(ferm_degree))[1][1,1]\n",
    "    \n",
    "    X = ss.x_vars()\n",
    "    # Substitution list \n",
    "    spec_composition = list(spec_spart[0]) + list(spec_spart[1]) \n",
    "    spec_composition = (spec_composition +\n",
    "                        [0\n",
    "                         for k\n",
    "                         in range(N - len(spec_composition))])\n",
    "    index_part = sorted(\n",
    "        enumerate(spec_composition, 0),\n",
    "        key=lambda x: x[1], reverse=True)\n",
    "    sub_list = flatten([\n",
    "        [X[index_part[k][0]], q**(-index_part[k][1])*t**k]\n",
    "        for k in range(N)]) \n",
    "    # Substitute\n",
    "    spec = projected.subst(*sub_list)\n",
    "    return spec"
   ]
  },
  {
   "cell_type": "markdown",
   "metadata": {},
   "source": [
    "Now we test our function, if we set the `spec_spart` to $(2,1,0;\\,)$ and the `mac_spart` to $(3,1,0;2,1)$ we should recover the result from the last section."
   ]
  },
  {
   "cell_type": "code",
   "execution_count": 139,
   "metadata": {},
   "outputs": [
    {
     "name": "stdout",
     "output_type": "stream",
     "text": [
      "Defining QQqta as Fraction Field of Multivariate Polynomial Ring in q, t, alpha over Rational Field\n",
      "Defining Sym as Symmetric superfunctions over Fraction Field of Multivariate Polynomial Ring in q, t, alpha over Rational Field\n",
      "Defining m, p, e, h as monomial, powersum, elementary andhomogensous bases\n",
      "Defining Sparts as superpartitions\n"
     ]
    },
    {
     "data": {
      "text/latex": [
       "$$\\frac{{\\left(q^{3} t^{7} - 1\\right)} {\\left(q t^{5} - 1\\right)} {\\left(t^{2} + t + 1\\right)} {\\left(t^{2} + 1\\right)} {\\left(t + 1\\right)} t^{10}}{{\\left(q t^{3} - 1\\right)} {\\left(q t - 1\\right)} q^{2}}$$"
      ],
      "text/plain": [
       "<IPython.core.display.Math object>"
      ]
     },
     "metadata": {},
     "output_type": "display_data"
    }
   ],
   "source": [
    "super_init(); Pqt = Sym.Macdonald()\n",
    "spec_spart = Sparts([[2,1,0],[]])\n",
    "mac_spart = Sparts([[3,1,0],[2,1]])\n",
    "ss = superspace(7)\n",
    "res = spec_macdo(Pqt, mac_spart, spec_spart, ss)\n",
    "display(Math(latex(factor(SR(str(res))))))"
   ]
  },
  {
   "cell_type": "markdown",
   "metadata": {},
   "source": [
    "So it's all fine. With that in hand, we are now in position of testing the conjecture. We are going to take every pair of superpartitions of the sector $(6|3)$, compute their respective $\\tilde{P}_\\Lambda(u_\\Omega)$ and compare the results."
   ]
  },
  {
   "cell_type": "code",
   "execution_count": 140,
   "metadata": {
    "scrolled": true
   },
   "outputs": [
    {
     "name": "stdout",
     "output_type": "stream",
     "text": [
      "True\n",
      "True\n",
      "True\n",
      "True\n",
      "True\n",
      "True\n",
      "True\n",
      "True\n",
      "True\n",
      "True\n",
      "True\n",
      "True\n",
      "True\n",
      "True\n",
      "True\n",
      "True\n",
      "True\n",
      "True\n",
      "True\n",
      "True\n",
      "True\n",
      "True\n",
      "True\n",
      "True\n",
      "True\n",
      "True\n",
      "True\n",
      "True\n",
      "True\n",
      "True\n",
      "True\n",
      "True\n",
      "True\n",
      "True\n",
      "True\n",
      "True\n",
      "True\n",
      "True\n",
      "True\n",
      "True\n",
      "True\n",
      "True\n",
      "True\n",
      "True\n",
      "True\n"
     ]
    }
   ],
   "source": [
    "sparts = list(Superpartitions(6,3))\n",
    "delta = Sparts([[2,1,0],[]])\n",
    "ss = superspace(max([len(x) for x in sparts]))\n",
    "\n",
    "spart_pairs = Combinations(sparts, 2)\n",
    "for spart_pair in spart_pairs:\n",
    "    Lambda, Omega = spart_pair\n",
    "    \n",
    "    PLa_stair = spec_macdo(Pqt, Lambda, delta, ss)\n",
    "    PLa_Om = spec_macdo(Pqt, Lambda, Omega, ss)\n",
    "    PtildeLa_Om = PLa_Om.division(PLa_stair)[1][1,1]\n",
    "    \n",
    "    POm_stair = spec_macdo(Pqt, Omega, delta, ss)\n",
    "    POm_La = spec_macdo(Pqt, Omega, Lambda, ss)\n",
    "    PtildeOm_La = POm_La.division(POm_stair)[1][1,1]\n",
    "    \n",
    "    print(PtildeOm_La == PtildeLa_Om)"
   ]
  },
  {
   "cell_type": "markdown",
   "metadata": {},
   "source": [
    "### Integral form and the positivity\n",
    "The integral form is given by \n",
    "$$\n",
    "    J_\\Lambda(q,t) = h^{\\text{lo}}_\\Lambda(q,t) P_\\Lambda(q,t)\n",
    "$$\n",
    "The $h^{\\text{lo}}_\\Lambda$ quantity can be obtained with `pqt_expr.hlo_Lambda(q,t,spart)`"
   ]
  },
  {
   "cell_type": "code",
   "execution_count": 141,
   "metadata": {},
   "outputs": [
    {
     "name": "stdout",
     "output_type": "stream",
     "text": [
      "Defining QQqta as Fraction Field of Multivariate Polynomial Ring in q, t, alpha over Rational Field\n",
      "Defining Sym as Symmetric superfunctions over Fraction Field of Multivariate Polynomial Ring in q, t, alpha over Rational Field\n",
      "Defining m, p, e, h as monomial, powersum, elementary andhomogensous bases\n",
      "Defining Sparts as superpartitions\n",
      "-(q^2*t^3 - 1)*(q*t^2 - 1)*(q*t - 1)*(t - 1)^2\n"
     ]
    }
   ],
   "source": [
    "super_init()\n",
    "Pqt = Sym.Macdonald()\n",
    "q, t, alpha = QQqta.gens()\n",
    "spart = Sparts([[2,0],[3,1]])\n",
    "expr = Pqt(spart)\n",
    "hlo = expr.hlo_Lambda(q,t,spart)\n",
    "print(factor(SR(hlo)))"
   ]
  },
  {
   "cell_type": "markdown",
   "metadata": {},
   "source": [
    "It can be seen that this normalization gives coefficients $\\in \\mathbb{Z}(q,t)$ when expanded on the monomial basis:"
   ]
  },
  {
   "cell_type": "code",
   "execution_count": 142,
   "metadata": {},
   "outputs": [
    {
     "data": {
      "text/latex": [
       "$$-{\\left(q^{2} t^{3} - 1\\right)} {\\left(q t^{2} - 1\\right)} {\\left(q + 1\\right)} {\\left(t - 1\\right)}^{3}$$"
      ],
      "text/plain": [
       "<IPython.core.display.Math object>"
      ]
     },
     "metadata": {},
     "output_type": "display_data"
    },
    {
     "data": {
      "text/latex": [
       "$$-{\\left(2 \\, q^{3} t^{3} + 2 \\, q^{2} t^{3} - q^{2} t^{2} - q^{2} t + q t^{2} + q t - 2 \\, q - 2\\right)} {\\left(q t^{2} - 1\\right)} {\\left(t - 1\\right)}^{3}$$"
      ],
      "text/plain": [
       "<IPython.core.display.Math object>"
      ]
     },
     "metadata": {},
     "output_type": "display_data"
    },
    {
     "data": {
      "text/latex": [
       "$$-{\\left(q^{2} t^{3} - 1\\right)} {\\left(q t^{2} - 1\\right)} {\\left(q t - 1\\right)} {\\left(t - 1\\right)}^{2}$$"
      ],
      "text/plain": [
       "<IPython.core.display.Math object>"
      ]
     },
     "metadata": {},
     "output_type": "display_data"
    },
    {
     "data": {
      "text/latex": [
       "$$-{\\left(11 \\, q^{3} t^{3} + 8 \\, q^{3} t^{2} + 9 \\, q^{2} t^{3} + q^{3} t + 22 \\, q^{2} t^{2} + 9 \\, q^{2} t + 9 \\, q t^{2} + 22 \\, q t + t^{2} + 9 \\, q + 8 \\, t + 11\\right)} q {\\left(t - 1\\right)}^{5}$$"
      ],
      "text/plain": [
       "<IPython.core.display.Math object>"
      ]
     },
     "metadata": {},
     "output_type": "display_data"
    },
    {
     "data": {
      "text/latex": [
       "$$-{\\left(q^{2} t^{3} - 1\\right)} {\\left(q t^{2} - 1\\right)} q {\\left(t - 1\\right)}^{3}$$"
      ],
      "text/plain": [
       "<IPython.core.display.Math object>"
      ]
     },
     "metadata": {},
     "output_type": "display_data"
    },
    {
     "data": {
      "text/latex": [
       "$$-{\\left(3 \\, q^{2} t^{2} + q^{2} t + q t^{2} + 2 \\, q t + q + t + 3\\right)} {\\left(q t^{2} - 1\\right)} q {\\left(t - 1\\right)}^{4}$$"
      ],
      "text/plain": [
       "<IPython.core.display.Math object>"
      ]
     },
     "metadata": {},
     "output_type": "display_data"
    },
    {
     "data": {
      "text/latex": [
       "$$-{\\left(2 \\, q^{2} t^{2} + q^{2} t + t + 2\\right)} {\\left(q t^{2} - 1\\right)} {\\left(t - 1\\right)}^{4}$$"
      ],
      "text/plain": [
       "<IPython.core.display.Math object>"
      ]
     },
     "metadata": {},
     "output_type": "display_data"
    },
    {
     "data": {
      "text/latex": [
       "$$-2 \\, {\\left(q^{2} t^{3} - 1\\right)} {\\left(q t^{2} - 1\\right)} q {\\left(t - 1\\right)}^{3}$$"
      ],
      "text/plain": [
       "<IPython.core.display.Math object>"
      ]
     },
     "metadata": {},
     "output_type": "display_data"
    },
    {
     "data": {
      "text/latex": [
       "$$-{\\left(q^{2} t^{3} - 1\\right)} {\\left(q t^{2} - 1\\right)} {\\left(t - 1\\right)}^{3}$$"
      ],
      "text/plain": [
       "<IPython.core.display.Math object>"
      ]
     },
     "metadata": {},
     "output_type": "display_data"
    },
    {
     "data": {
      "text/latex": [
       "$$-{\\left(3 \\, q^{3} t^{2} + q^{3} t + 5 \\, q^{2} t^{2} + 3 \\, q^{2} t + 3 \\, q t + 5 \\, q + t + 3\\right)} {\\left(q t^{2} - 1\\right)} {\\left(t - 1\\right)}^{4}$$"
      ],
      "text/plain": [
       "<IPython.core.display.Math object>"
      ]
     },
     "metadata": {},
     "output_type": "display_data"
    },
    {
     "data": {
      "text/latex": [
       "$$-{\\left(6 \\, q^{3} t^{4} + q^{3} t^{3} + 3 \\, q^{2} t^{4} - q^{3} t^{2} + 5 \\, q^{2} t^{3} - 5 \\, q^{2} t^{2} + 3 \\, q t^{3} - 3 \\, q^{2} t + 5 \\, q t^{2} - 5 \\, q t + t^{2} - 3 \\, q - t - 6\\right)} q {\\left(t - 1\\right)}^{4}$$"
      ],
      "text/plain": [
       "<IPython.core.display.Math object>"
      ]
     },
     "metadata": {},
     "output_type": "display_data"
    }
   ],
   "source": [
    "Jmono = m(hlo*expr)\n",
    "coeffs = Jmono.monomial_coefficients().values()\n",
    "for coef in coeffs:\n",
    "    display(Math(latex(factor(SR(coef)))))"
   ]
  },
  {
   "cell_type": "markdown",
   "metadata": {},
   "source": [
    "So we introduce the automorphism $\\phi_t$"
   ]
  },
  {
   "cell_type": "code",
   "execution_count": 143,
   "metadata": {},
   "outputs": [
    {
     "name": "stdout",
     "output_type": "stream",
     "text": [
      "(1/(t^4-t^3-t+1))*p[[1, 0], [3, 1]] + (1/(-t^3+1))*p[[2, 0], [3]]\n",
      "\n",
      "(1/(-t^3+1))*m[[1, 0], [3]] + ((-t^3)/(-t^3+1))*m[[3, 1], []] + (t^3/(-t^3+1))*m[[4, 0], []]\n"
     ]
    }
   ],
   "source": [
    "expr = p[[2,0],[3]] + p[[1,0],[3,1]]\n",
    "print(expr.phi_t())\n",
    "print('')\n",
    "expr_m = m[[1,0],[3]]\n",
    "print(expr_m.phi_t())"
   ]
  },
  {
   "cell_type": "markdown",
   "metadata": {},
   "source": [
    "With this in hand we can obtain the modified Macdonald superpolynomials"
   ]
  },
  {
   "cell_type": "code",
   "execution_count": 144,
   "metadata": {},
   "outputs": [
    {
     "name": "stdout",
     "output_type": "stream",
     "text": [
      "((-2*q^6*t^13+q^5*t^14+2*q^6*t^12+q^5*t^13-q^4*t^14+4*q^6*t^11-3*q^5*t^12+q^4*t^13+q^6*t^10-8*q^5*t^11+2*q^4*t^12-q^6*t^9-2*q^5*t^10+5*q^4*t^11-q^3*t^12-6*q^6*t^8+6*q^5*t^9-q^4*t^10-q^3*t^11-5*q^6*t^7+11*q^5*t^8-8*q^4*t^9+3*q^3*t^10-5*q^6*t^6+17*q^5*t^7-9*q^4*t^8+4*q^3*t^9-q^2*t^10+9*q^5*t^6-13*q^4*t^7+3*q^3*t^8-q^2*t^9+4*q^5*t^5-2*q^4*t^6-3*q^3*t^7+3*q^2*t^8-q^4*t^5-7*q^3*t^6+4*q^2*t^7-2*q*t^8+3*q^4*t^4-12*q^3*t^5+8*q^2*t^6-6*q^3*t^4+12*q^2*t^5-3*q*t^6-4*q^3*t^3+5*q^2*t^4-3*q*t^5+5*q^2*t^3-2*q*t^4+q^2*t^2-q*t^3-q*t^2)/(-q^4*t^10+q^3*t^9+q^3*t^8+q^3*t^7+q^3*t^6-q^2*t^7-q^2*t^6-2*q^2*t^5-q^2*t^4-q^2*t^3+q*t^4+q*t^3+q*t^2+q*t-1))*Pqt[[1, 0], [1, 1, 1, 1]] + ((-2*q^7*t^11+5*q^7*t^10+3*q^6*t^11+2*q^7*t^9-10*q^6*t^10-5*q^7*t^8-5*q^6*t^9+5*q^5*t^10-q^4*t^11-5*q^7*t^7+18*q^6*t^8+3*q^5*t^9+12*q^6*t^7-23*q^5*t^8+q^4*t^9-2*q^6*t^6-11*q^5*t^7+12*q^4*t^8-q^3*t^9-8*q^6*t^5+13*q^5*t^6+5*q^4*t^7-2*q^3*t^8+21*q^5*t^5-22*q^4*t^6+3*q^5*t^4-21*q^4*t^5+13*q^3*t^6-q^2*t^7-2*q^4*t^4+9*q^3*t^5-2*q^2*t^6+4*q^4*t^3-5*q^3*t^4+q^2*t^5-11*q^3*t^3+4*q^2*t^4-2*q*t^5-2*q^3*t^2+10*q^2*t^3+4*q^2*t^2-3*q*t^3-2*q*t^2)/(-q^5*t^8+2*q^4*t^7+q^4*t^6-q^3*t^6-2*q^3*t^5+q^3*t^4+q^2*t^4-2*q^2*t^3-q^2*t^2+q*t^2+2*q*t-1))*Pqt[[1, 0], [2, 1, 1]] + ((-q^8*t^12+3*q^8*t^11+q^7*t^12-3*q^8*t^10-3*q^7*t^11-2*q^8*t^9+7*q^7*t^10+5*q^8*t^8-3*q^7*t^9-5*q^6*t^10-13*q^7*t^8+8*q^6*t^9+4*q^7*t^7+16*q^6*t^8-3*q^5*t^9+q^4*t^10+7*q^7*t^6-15*q^6*t^7-10*q^5*t^8-17*q^6*t^6+22*q^5*t^7+q^4*t^8+2*q^6*t^5+16*q^5*t^6-13*q^4*t^7+q^3*t^8+q^6*t^4-15*q^5*t^5-6*q^4*t^6+2*q^3*t^7-6*q^5*t^4+22*q^4*t^5-q^3*t^6+11*q^4*t^4-11*q^3*t^5+q^2*t^6-2*q^4*t^3-7*q^3*t^4+2*q^2*t^5+7*q^3*t^3-q^2*t^4+q^3*t^2-5*q^2*t^3+2*q*t^4-3*q^2*t^2+2*q*t^2)/(q^6*t^8-q^5*t^7-q^5*t^6-q^4*t^6+q^3*t^5+2*q^3*t^4+q^3*t^3-q^2*t^2-q*t^2-q*t+1))*Pqt[[1, 0], [2, 2]] + ((q^5*t^10-3*q^5*t^9-2*q^5*t^8+4*q^4*t^9-q^3*t^10+3*q^5*t^7-q^3*t^9+6*q^5*t^6-9*q^4*t^7+3*q^3*t^8+4*q^5*t^5-8*q^4*t^6+9*q^3*t^7-q^2*t^8-4*q^4*t^5+q^3*t^6-3*q^2*t^7+2*q^4*t^4-5*q^3*t^5+2*q^2*t^6-9*q^3*t^4+9*q^2*t^5-q*t^6-3*q^3*t^3+8*q^2*t^4-4*q*t^5+4*q^2*t^3-q^2*t^2-q*t^3-t^4+2*q*t^2+q*t-t^2-t)/(q^3*t^6-q^2*t^5-q^2*t^4-q^2*t^3+q*t^3+q*t^2+q*t-1))*Pqt[[2, 0], [1, 1, 1]] + ((-q^6*t^10+q^6*t^9+2*q^5*t^10+4*q^6*t^8-5*q^5*t^9-7*q^5*t^8+4*q^4*t^9-q^3*t^10+2*q^5*t^7+4*q^4*t^8+5*q^5*t^6-11*q^4*t^7+q^3*t^8-9*q^4*t^6+11*q^3*t^7-2*q^2*t^8+q^4*t^5+8*q^3*t^6-2*q^2*t^7+4*q^4*t^4-9*q^3*t^5-3*q^2*t^6-8*q^3*t^4+10*q^2*t^5-q*t^6+7*q^2*t^4-2*q*t^5-3*q^2*t^3-2*q*t^4-q^2*t^2+3*q*t^3-t^4+3*q*t^2-2*t^2)/(q^4*t^6-q^3*t^5-q^3*t^4+q*t^2+q*t-1))*Pqt[[2, 1], [1, 1]] + ((4*q^6*t^7-8*q^6*t^6-6*q^5*t^7+19*q^5*t^6-2*q^4*t^7+q^3*t^8-6*q^5*t^5-10*q^4*t^6-5*q^5*t^4+18*q^4*t^5+2*q^3*t^6+6*q^4*t^4-10*q^3*t^5+q^2*t^6-2*q^4*t^3-14*q^3*t^4+2*q^2*t^5+16*q^3*t^3+q^2*t^4+q^3*t^2-12*q^2*t^3+2*q*t^4+2*q*t^3+2*q*t^2-4*q*t+t^2+1)/(-q^4*t^4+2*q^3*t^3-2*q*t+1))*Pqt[[2, 0], [2, 1]] + ((-q^8*t^9+4*q^8*t^8+q^7*t^9-4*q^8*t^7-5*q^7*t^8+9*q^7*t^7-3*q^7*t^6-4*q^6*t^7-4*q^7*t^5+7*q^6*t^6-q^5*t^7+q^4*t^8+2*q^6*t^5-5*q^5*t^6-q^6*t^4+8*q^5*t^5+2*q^5*t^4-8*q^4*t^5+q^3*t^6-q^5*t^3-q^4*t^4+2*q^3*t^5+7*q^4*t^3-q^3*t^4-8*q^3*t^3+q^2*t^4+2*q^3*t^2+q^2*t^3-3*q^2*t^2+q*t^3-q^2*t+q*t^2+q*t)/(-q^6*t^5+q^5*t^4+q^4*t^4-q^3*t^3+q^3*t^2-q^2*t-q*t+1))*Pqt[[1, 0], [3, 1]] + ((q^4*t^7-2*q^4*t^6-q^3*t^7-q^4*t^5+5*q^3*t^6-q^2*t^7+q^3*t^5-q^2*t^6-7*q^3*t^4+2*q^2*t^5-q^3*t^3+6*q^2*t^4-q*t^5+3*q^2*t^3-3*q*t^4+3*q*t^2-t^3-t^2-t)/(-q^2*t^3+q*t^2+q*t-1))*Pqt[[3, 0], [1, 1]] + ((-q^7*t^8+3*q^7*t^7+q^6*t^8-7*q^6*t^7+q^5*t^8+5*q^6*t^6+3*q^5*t^7+q^6*t^5-13*q^5*t^6+q^4*t^7-q^3*t^8+q^5*t^5+10*q^4*t^6+4*q^5*t^4-8*q^4*t^5-q^3*t^6-7*q^4*t^4+10*q^3*t^5-q^2*t^6+2*q^4*t^3+2*q^3*t^4-4*q^2*t^5-7*q^3*t^3+2*q^2*t^4-q^3*t^2+8*q^2*t^3-q*t^4-q^2*t^2-3*q*t^3+3*q*t^2+q*t-t^2-t)/(q^5*t^4-q^4*t^3-q^3*t^3-q^3*t^2+q^2*t^2+q^2*t+q*t-1))*Pqt[[2, 1], [2]] + ((-q^6*t^7+3*q^5*t^7-5*q^5*t^6-q^5*t^5+4*q^4*t^6-q^3*t^7+q^4*t^5+q^3*t^6-q^2*t^7-4*q^4*t^4+4*q^3*t^5+q^3*t^4-3*q^2*t^5-q^3*t^3+6*q^2*t^4-q*t^5+q^2*t^3-3*q*t^4+q*t^3+2*q*t^2-t^3-2*t^2)/(-q^4*t^3+q^3*t^2+q*t-1))*Pqt[[3, 1], [1]] + ((-q^8*t^8+2*q^8*t^7+q^7*t^8-3*q^7*t^7+3*q^6*t^7+3*q^7*t^5-8*q^6*t^6-q^5*t^7+q^6*t^5+7*q^5*t^6+2*q^6*t^4-7*q^5*t^5+q^4*t^6-q^3*t^7-3*q^5*t^4+5*q^4*t^5+q^5*t^3-4*q^4*t^4-q^3*t^5-2*q^4*t^3+6*q^3*t^4-q^2*t^5+2*q^3*t^3-q^2*t^4-3*q^3*t^2+q^2*t^3+3*q^2*t^2-2*q*t^3+q*t-t)/(q^6*t^4-q^5*t^3-q^4*t^3+q^2*t+q*t-1))*Pqt[[2, 0], [3]] + ((-q^6*t^6+2*q^5*t^6-2*q^5*t^5-3*q^5*t^4+6*q^4*t^5-q^3*t^6-3*q^4*t^4-q^3*t^5-q^2*t^6-3*q^4*t^3+7*q^3*t^4+q^3*t^3-2*q^2*t^4+2*q^2*t^3-q*t^4+4*q^2*t^2-2*q*t^3-t^2-t)/(-q^4*t^2+2*q^2*t-1))*Pqt[[3, 0], [2]] + ((q^8*t^6-2*q^8*t^5+q^7*t^5-q^7*t^4+q^5*t^5-q^4*t^6+2*q^4*t^4-q^3*t^4+q^3*t^2-q*t^2)/(-q^7*t^3+q^4*t^2+q^3*t-1))*Pqt[[1, 0], [4]] + ((-2*q^2*t^4+q*t^5+q*t^4-2*q*t^3+t^3+t^2)/(-q*t+1))*Pqt[[4, 0], [1]] + ((-q^6*t^6+q^5*t^6-q^5*t^5-q^5*t^4+3*q^4*t^5-2*q^4*t^4+2*q^3*t^5-q^2*t^6-q^3*t^4+q^3*t^3+q^2*t^4+q^2*t^3-3*q*t^4+2*q*t^3-t^2)/(-q^5*t^2+q^3*t+q^2*t-1))*Pqt[[3, 2], []] + ((q^5*t^5+2*q^4*t^4-q^3*t^5+q^3*t^4-q^2*t^5+q^2*t^4-q*t^5-2*t^3)/(q^4*t-1))*Pqt[[4, 1], []] + t^4*Pqt[[5, 0], []]\n"
     ]
    }
   ],
   "source": [
    "spart = Sparts([[2,0],[2,1]])\n",
    "mac = Pqt(spart)\n",
    "q, t, alpha = QQqta.gens()\n",
    "mod_mac = mac.hlo_Lambda(q, t, spart)*mac.phi_t()\n",
    "print(mod_mac)"
   ]
  },
  {
   "cell_type": "markdown",
   "metadata": {},
   "source": [
    "Converting this expression to the Schur basis allows us to illustrate the conjecture, the super-Schur function is presented in a later section.\n",
    "\n",
    "Here we convert the expression to Schur, then we for each superpartition, we print the coefficient."
   ]
  },
  {
   "cell_type": "code",
   "execution_count": 145,
   "metadata": {},
   "outputs": [
    {
     "data": {
      "text/latex": [
       "$$[[1, 0], [4]]: q t^{2}$$"
      ],
      "text/plain": [
       "<IPython.core.display.Math object>"
      ]
     },
     "metadata": {},
     "output_type": "display_data"
    },
    {
     "data": {
      "text/latex": [
       "$$[[3, 2], []]: {\\left(q t^{2} + 1\\right)} t^{2}$$"
      ],
      "text/plain": [
       "<IPython.core.display.Math object>"
      ]
     },
     "metadata": {},
     "output_type": "display_data"
    },
    {
     "data": {
      "text/latex": [
       "$$[[5, 0], []]: t^{4}$$"
      ],
      "text/plain": [
       "<IPython.core.display.Math object>"
      ]
     },
     "metadata": {},
     "output_type": "display_data"
    },
    {
     "data": {
      "text/latex": [
       "$$[[3, 0], [1, 1]]: {\\left(q^{2} t^{2} + q t^{2} + 2 \\, q t + q + 1\\right)} t$$"
      ],
      "text/plain": [
       "<IPython.core.display.Math object>"
      ]
     },
     "metadata": {},
     "output_type": "display_data"
    },
    {
     "data": {
      "text/latex": [
       "$$[[2, 0], [1, 1, 1]]: {\\left(q t + 1\\right)} q {\\left(t + 1\\right)}$$"
      ],
      "text/plain": [
       "<IPython.core.display.Math object>"
      ]
     },
     "metadata": {},
     "output_type": "display_data"
    },
    {
     "data": {
      "text/latex": [
       "$$[[1, 0], [1, 1, 1, 1]]: q^{2}$$"
      ],
      "text/plain": [
       "<IPython.core.display.Math object>"
      ]
     },
     "metadata": {},
     "output_type": "display_data"
    },
    {
     "data": {
      "text/latex": [
       "$$[[2, 0], [2, 1]]: q^{2} t^{3} + q^{2} t^{2} + q t^{2} + q t + 1$$"
      ],
      "text/plain": [
       "<IPython.core.display.Math object>"
      ]
     },
     "metadata": {},
     "output_type": "display_data"
    },
    {
     "data": {
      "text/latex": [
       "$$[[4, 1], []]: {\\left(q t + 2\\right)} t^{3}$$"
      ],
      "text/plain": [
       "<IPython.core.display.Math object>"
      ]
     },
     "metadata": {},
     "output_type": "display_data"
    },
    {
     "data": {
      "text/latex": [
       "$$[[4, 0], [1]]: {\\left(q t + 1\\right)} {\\left(t + 1\\right)} t^{2}$$"
      ],
      "text/plain": [
       "<IPython.core.display.Math object>"
      ]
     },
     "metadata": {},
     "output_type": "display_data"
    },
    {
     "data": {
      "text/latex": [
       "$$[[1, 0], [2, 2]]: {\\left(q t^{2} + 1\\right)} q$$"
      ],
      "text/plain": [
       "<IPython.core.display.Math object>"
      ]
     },
     "metadata": {},
     "output_type": "display_data"
    },
    {
     "data": {
      "text/latex": [
       "$$[[3, 0], [2]]: {\\left(q^{2} t^{3} + q t^{2} + q t + t + 1\\right)} t$$"
      ],
      "text/plain": [
       "<IPython.core.display.Math object>"
      ]
     },
     "metadata": {},
     "output_type": "display_data"
    },
    {
     "data": {
      "text/latex": [
       "$$[[1, 0], [2, 1, 1]]: {\\left(2 \\, q t + 1\\right)} q$$"
      ],
      "text/plain": [
       "<IPython.core.display.Math object>"
      ]
     },
     "metadata": {},
     "output_type": "display_data"
    },
    {
     "data": {
      "text/latex": [
       "$$[[3, 1], [1]]: {\\left(2 \\, q t + 1\\right)} t^{2}$$"
      ],
      "text/plain": [
       "<IPython.core.display.Math object>"
      ]
     },
     "metadata": {},
     "output_type": "display_data"
    },
    {
     "data": {
      "text/latex": [
       "$$[[2, 0], [3]]: {\\left(q^{2} t^{2} + q t + 1\\right)} t$$"
      ],
      "text/plain": [
       "<IPython.core.display.Math object>"
      ]
     },
     "metadata": {},
     "output_type": "display_data"
    },
    {
     "data": {
      "text/latex": [
       "$$[[1, 0], [3, 1]]: {\\left(q t + 2\\right)} q t$$"
      ],
      "text/plain": [
       "<IPython.core.display.Math object>"
      ]
     },
     "metadata": {},
     "output_type": "display_data"
    },
    {
     "data": {
      "text/latex": [
       "$$[[2, 1], [2]]: {\\left(q^{2} t^{2} + q t + 1\\right)} t$$"
      ],
      "text/plain": [
       "<IPython.core.display.Math object>"
      ]
     },
     "metadata": {},
     "output_type": "display_data"
    },
    {
     "data": {
      "text/latex": [
       "$$[[2, 1], [1, 1]]: q t^{2}$$"
      ],
      "text/plain": [
       "<IPython.core.display.Math object>"
      ]
     },
     "metadata": {},
     "output_type": "display_data"
    }
   ],
   "source": [
    "s = Sym.Schur()\n",
    "mod_schur = s(mod_mac)\n",
    "spart_Kostka = mod_schur.monomial_coefficients().items()\n",
    "for spart, coeff in spart_Kostka:\n",
    "    display(Math(str(spart) + \":\" + latex(factor(SR(coeff)))))"
   ]
  },
  {
   "cell_type": "markdown",
   "metadata": {},
   "source": [
    "And so we see that the coefficients are all $\\in \\mathbb{N}(q,t)$."
   ]
  },
  {
   "cell_type": "markdown",
   "metadata": {},
   "source": [
    "### Antoher scalar product\n",
    "This scalar product is more interesting from the analytical point of view, thus it is not implemented."
   ]
  },
  {
   "cell_type": "markdown",
   "metadata": {},
   "source": [
    "## Constructing the Macdonald superpolynomials from the non-symmetric Macdonald polynomials"
   ]
  },
  {
   "cell_type": "markdown",
   "metadata": {},
   "source": [
    "### Cherednik algebra\n",
    "The Demazure-Lusztig operators are part of Sage libraries but not as operators on polynomials. So we have our own implementation. For instance:"
   ]
  },
  {
   "cell_type": "code",
   "execution_count": 146,
   "metadata": {},
   "outputs": [
    {
     "name": "stdout",
     "output_type": "stream",
     "text": [
      "(t)*x_0+(t)*x_1+(t)*x_2\n",
      "(t)*x_0+(t)*x_1+(t)*x_2\n"
     ]
    }
   ],
   "source": [
    "ss = superspace(3)\n",
    "Ti = ss.T_i\n",
    "\n",
    "my_expr = x_0 + x_1 + x_2\n",
    "for k in range(2):\n",
    "    print(Ti(my_expr, k))"
   ]
  },
  {
   "cell_type": "markdown",
   "metadata": {},
   "source": [
    "It is also implemented for a serie of elementary permutations $s_i$:"
   ]
  },
  {
   "cell_type": "code",
   "execution_count": 147,
   "metadata": {},
   "outputs": [
    {
     "name": "stdout",
     "output_type": "stream",
     "text": [
      "[x_0*x_2^2-x_1*x_2^2, (-t)*x_0*x_2^2+(-t+2)*x_1*x_2^2, (t^2)*x_0^2*x_1+(-t^2)*x_0^2*x_2+(t^2-t)*x_0*x_1^2+(-t^2+t)*x_0*x_2^2+(-t^2+t)*x_1^2*x_2+(-t^2+3*t-2)*x_1*x_2^2, (-t^2)*x_0*x_1^2+(-t^2+t)*x_0*x_1*x_2+(-t^2+t)*x_0*x_2^2+(-t^2+2*t)*x_1^2*x_2+(-t^2+3*t-2)*x_1*x_2^2, (t)*x_0*x_1^2+(t-1)*x_0*x_1*x_2+(t-1)*x_0*x_2^2+(-t)*x_1^2*x_2+(-t+1)*x_1*x_2^2, (-t^3)*x_0^2*x_1+(-t^3+2*t^2)*x_0^2*x_2+(-t^3+t^2)*x_0*x_1^2+(-2*t^3+4*t^2-2*t)*x_0*x_1*x_2+(-t^3+3*t^2-2*t)*x_0*x_2^2+(-t^3+3*t^2-2*t)*x_1^2*x_2+(-t^3+3*t^2-4*t+2)*x_1*x_2^2]\n"
     ]
    }
   ],
   "source": [
    "S3 = ss.SN()\n",
    "as_elementary = [omega.reduced_word() for omega in S3]\n",
    "Tw = ss.Tw\n",
    "\n",
    "expr = (x_0-x_1)*x_2^2\n",
    "apply_Tw = [Tw(expr, w) for w in as_elementary]\n",
    "print(apply_Tw)\n"
   ]
  },
  {
   "cell_type": "markdown",
   "metadata": {},
   "source": [
    "### The non-symmetric Macdonald polynomials\n",
    "Now using the $T_i$ operators, we are going to obtain Macdonald superpolynomials from the non-symmetric Macdonald polynomials.\n",
    "\n",
    "We have are going to use the following simple form \n",
    "$$\n",
    "P_\\Lambda (q,t) \\propto \\sum_{\\sigma \\in S_N} \\sigma \n",
    "\\theta_0 \\cdots \\theta_{m-1}\n",
    "U^+_{m,...,N-1}\n",
    "E_{\\Lambda^R}(q,t)\n",
    "$$"
   ]
  },
  {
   "cell_type": "markdown",
   "metadata": {},
   "source": [
    "The procedure is explained as comments in the following code:"
   ]
  },
  {
   "cell_type": "code",
   "execution_count": 148,
   "metadata": {},
   "outputs": [
    {
     "name": "stdout",
     "output_type": "stream",
     "text": [
      "Defining QQqta as Fraction Field of Multivariate Polynomial Ring in q, t, alpha over Rational Field\n",
      "Defining Sym as Symmetric superfunctions over Fraction Field of Multivariate Polynomial Ring in q, t, alpha over Rational Field\n",
      "Defining m, p, e, h as monomial, powersum, elementary andhomogensous bases\n",
      "Defining Sparts as superpartitions\n"
     ]
    }
   ],
   "source": [
    "# We get an instance of Symmetric superpolynomials\n",
    "super_init()\n",
    "Pqt = Sym.Macdonald()"
   ]
  },
  {
   "cell_type": "code",
   "execution_count": 149,
   "metadata": {},
   "outputs": [
    {
     "name": "stdout",
     "output_type": "stream",
     "text": [
      "Pqt[[2, 0], [1, 1]]\n"
     ]
    }
   ],
   "source": [
    "# First, we need the non-symmetric Macdonald polynomial\n",
    "# We import it\n",
    "from sage.combinat.sf.ns_macdonald import E\n",
    "# We define the q,t parameter and set the superspace with N=5\n",
    "q, t = QQ['q','t'].fraction_field().gens()\n",
    "N = 5\n",
    "ss = superspace(N)\n",
    "\n",
    "\n",
    "# We define the composition Lambda^R, let's say we want\n",
    "# Lambda = (2,0;1,1), this yields the following composition\n",
    "# and sector (mm stands for m)\n",
    "composition = [0,2,0,1,1]\n",
    "mm = 2\n",
    "\n",
    "# Now we need the nsMacdonald, the Sage implementation does not\n",
    "# follow the same convention we use. So we have to reverse the\n",
    "# composition and also reverse the variables.\n",
    "composition.reverse()\n",
    "perm_vars = range(1,N+1)\n",
    "perm_vars.reverse()\n",
    "perm = Permutation(perm_vars)\n",
    "# Now we get the non-symmetric macdonald polynomial\n",
    "nsMacdo = E(composition, q, t, pi=perm)\n",
    "\n",
    "# This polynomial is not in the right ring, so we convert it\n",
    "# to a singular object\n",
    "string_list = str(nsMacdo).split('x')\n",
    "singular_str = 'x_'.join(string_list)\n",
    "nsMacdo_singular = singular(singular_str).normalize()\n",
    "# We now need to t-symmetrize on the variables mm...N-1\n",
    "SNslash = SymmetricGroup(range(mm, N))\n",
    "# we express permutations as chains of s_i\n",
    "elem_perms = [omega.reduced_word() for omega in SNslash]\n",
    "# We can now apply the Tw on the nsMacdonald and sum the result\n",
    "# to get a Macdonald with prescribed symmetry\n",
    "terms = [ss.Tw(nsMacdo_singular, w) for w in elem_perms]\n",
    "# We also normalize the leading terms to limit proliferation of \n",
    "# q,t factors \n",
    "prescMac = sum(terms).normalize()\n",
    "\n",
    "# We now need to multiply this by the theta variables\n",
    "theta = ss.theta_vars()\n",
    "super_prescMac = prod(theta[:mm])*prescMac\n",
    "\n",
    "# We symmetrize the result and normalize\n",
    "macdo = ss.symmetrize(super_prescMac).normalize()\n",
    "\n",
    "# We convert this back in the Macdonald basis\n",
    "macdo2 = Pqt.from_polynomial(macdo, ss)\n",
    "print(macdo2)"
   ]
  },
  {
   "cell_type": "markdown",
   "metadata": {},
   "source": [
    "Which is the expected result. You can try with your own compostion. The composition must be exactly of length $N$ to get sensible results. "
   ]
  },
  {
   "cell_type": "markdown",
   "metadata": {},
   "source": [
    "# The double Macdonald polynomials"
   ]
  },
  {
   "cell_type": "markdown",
   "metadata": {},
   "source": [
    "# The super-Schur and their Pieri rules \n",
    "The two types of Schur superpolynomials can be obtained from `sym.Schur()` and `sym.SchurBar()`. Note that your ring of symmetric superfunctions must have coefficients in $q,t$ since the expansion on other basis is obtained from the limiting process. "
   ]
  },
  {
   "cell_type": "code",
   "execution_count": 150,
   "metadata": {},
   "outputs": [
    {
     "name": "stdout",
     "output_type": "stream",
     "text": [
      "Defining QQqta as Fraction Field of Multivariate Polynomial Ring in q, t, alpha over Rational Field\n",
      "Defining Sym as Symmetric superfunctions over Fraction Field of Multivariate Polynomial Ring in q, t, alpha over Rational Field\n",
      "Defining m, p, e, h as monomial, powersum, elementary andhomogensous bases\n",
      "Defining Sparts as superpartitions\n"
     ]
    }
   ],
   "source": [
    "super_init();\n",
    "s = Sym.Schur()\n",
    "sbar = Sym.SchurBar()"
   ]
  },
  {
   "cell_type": "markdown",
   "metadata": {},
   "source": [
    "We also have their dual superfunctions, respectively:"
   ]
  },
  {
   "cell_type": "code",
   "execution_count": 151,
   "metadata": {},
   "outputs": [],
   "source": [
    "sStar = Sym.SchurStar()\n",
    "sbarStar = Sym.SchurBarStar()"
   ]
  },
  {
   "cell_type": "markdown",
   "metadata": {},
   "source": [
    "We see that these are indeed dual:"
   ]
  },
  {
   "cell_type": "code",
   "execution_count": 152,
   "metadata": {},
   "outputs": [
    {
     "data": {
      "text/latex": [
       "$$<s_\\Lambda|s^*_\\Lambda>$$"
      ],
      "text/plain": [
       "<IPython.core.display.Math object>"
      ]
     },
     "metadata": {},
     "output_type": "display_data"
    },
    {
     "name": "stdout",
     "output_type": "stream",
     "text": [
      "[-1, -1, -1, -1, -1, -1, -1, -1, -1, -1, -1, -1, -1, -1, -1, -1, -1]\n"
     ]
    }
   ],
   "source": [
    "sparts = Superpartitions(5,2)\n",
    "scals = [s(spart).scalar_product(sStar(spart)) for spart in sparts]\n",
    "display(Math('<s_\\Lambda|s^*_\\Lambda>'))\n",
    "print(scals)"
   ]
  },
  {
   "cell_type": "code",
   "execution_count": 153,
   "metadata": {},
   "outputs": [
    {
     "data": {
      "text/latex": [
       "$$<\\overline{s}_\\Lambda|\\overline{s}^*_\\Lambda>$$"
      ],
      "text/plain": [
       "<IPython.core.display.Math object>"
      ]
     },
     "metadata": {},
     "output_type": "display_data"
    },
    {
     "name": "stdout",
     "output_type": "stream",
     "text": [
      "[1, 1, 1, -1, 1, -1, 1, -1, 1, 1, 1, -1, 1, -1, 1, 1, 1]\n"
     ]
    }
   ],
   "source": [
    "sparts = Superpartitions(5,2)\n",
    "scals = [sbar(spart).scalar_product(sbarStar(spart)) for spart in sparts]\n",
    "display(Math('<\\overline{s}_\\Lambda|\\overline{s}^*_\\Lambda>'))\n",
    "print(scals)"
   ]
  },
  {
   "cell_type": "markdown",
   "metadata": {},
   "source": [
    "We now illustrate some standard operations that work out of the box. Note that the first two expression are indeed triangular on the monomial basis."
   ]
  },
  {
   "cell_type": "code",
   "execution_count": 154,
   "metadata": {},
   "outputs": [
    {
     "name": "stdout",
     "output_type": "stream",
     "text": [
      "2*m[[2, 0], [1, 1, 1, 1]] + 2*m[[2, 1], [1, 1, 1]] + m[[2, 0], [2, 1, 1]] + m[[2, 1], [2, 1]] + m[[2, 0], [2, 2]]\n",
      "\n",
      "5*m[[1, 0], [1, 1, 1, 1, 1]] + 2*m[[1, 0], [2, 1, 1, 1]] + m[[1, 0], [2, 2, 1]] + 2*m[[2, 0], [1, 1, 1, 1]] + m[[2, 0], [2, 1, 1]] + m[[2, 0], [2, 2]]\n",
      "\n",
      "5*m[[1, 0], [1, 1, 1, 1, 1]] + 2*m[[1, 0], [2, 1, 1, 1]] + m[[1, 0], [2, 2, 1]] + 7*m[[2, 0], [1, 1, 1, 1]] + 5*m[[2, 1], [1, 1, 1]] + 3*m[[2, 0], [2, 1, 1]] + 4*m[[3, 0], [1, 1, 1]] + 2*m[[2, 1], [2, 1]] + 4*m[[3, 1], [1, 1]] + 2*m[[2, 0], [2, 2]] + 2*m[[3, 0], [2, 1]] + m[[4, 0], [1, 1]] + 2*m[[3, 1], [2]] + 2*m[[3, 2], [1]] + m[[4, 1], [1]] + m[[4, 0], [2]] + m[[4, 2], []]\n",
      "\n",
      "-m[[3, 0], [1, 1, 1]] - m[[3, 1], [1, 1]] + m[[5, 0], [1]] + m[[5, 1], []]\n",
      "\n",
      "s[[1, 0], [2, 2, 1]] - s[[2, 1], [2, 1]] + s[[2, 0], [2, 2]]\n",
      "\n",
      "sStar[[1, 0], [1, 1, 1, 1, 1]] + 2*sStar[[1, 0], [2, 1, 1, 1]] + 3*sStar[[1, 0], [2, 2, 1]] - sStar[[2, 0], [1, 1, 1, 1]] - 2*sStar[[2, 0], [2, 1, 1]] - sStar[[1, 0], [3, 1, 1]] + sStar[[3, 0], [1, 1, 1]]\n"
     ]
    }
   ],
   "source": [
    "spart = sparts([[2,0],[2,2]])\n",
    "print(m(s(spart)))\n",
    "print('')\n",
    "print(m(sbar(spart)))\n",
    "print('')\n",
    "print(m(sStar(spart)))\n",
    "print('')\n",
    "print(m(sbarStar(spart)))\n",
    "print('')\n",
    "print(s(sbar(spart)))\n",
    "print('')\n",
    "print(sStar(sbar(spart)))"
   ]
  },
  {
   "cell_type": "markdown",
   "metadata": {},
   "source": [
    "## Pieri rules\n",
    "We first illustrate the one-row and one-column super-Schur identities:"
   ]
  },
  {
   "cell_type": "code",
   "execution_count": 155,
   "metadata": {},
   "outputs": [
    {
     "data": {
      "text/latex": [
       "$$s_\\Lambda: $$"
      ],
      "text/plain": [
       "<IPython.core.display.Math object>"
      ]
     },
     "metadata": {},
     "output_type": "display_data"
    },
    {
     "data": {
      "text/latex": [
       "$$p_{[[3], []]}$$"
      ],
      "text/plain": [
       "<IPython.core.display.Math object>"
      ]
     },
     "metadata": {},
     "output_type": "display_data"
    },
    {
     "data": {
      "text/latex": [
       "$$h_{[[], [3]]}$$"
      ],
      "text/plain": [
       "<IPython.core.display.Math object>"
      ]
     },
     "metadata": {},
     "output_type": "display_data"
    },
    {
     "data": {
      "text/latex": [
       "$$e_{[[3], []]}$$"
      ],
      "text/plain": [
       "<IPython.core.display.Math object>"
      ]
     },
     "metadata": {},
     "output_type": "display_data"
    },
    {
     "data": {
      "text/latex": [
       "$$e_{[[], [3]]}$$"
      ],
      "text/plain": [
       "<IPython.core.display.Math object>"
      ]
     },
     "metadata": {},
     "output_type": "display_data"
    }
   ],
   "source": [
    "display(Math(\"s_\\Lambda: \"))\n",
    "s_row_ferm = p(s[[3],[]])\n",
    "s_row_bos = h(s[[],[3]])\n",
    "s_col_ferm = e(s[[0],[1,1,1]])\n",
    "s_col_bos = e(s[[],[1,1,1]])\n",
    "display(Math(latex(s_row_ferm)))\n",
    "display(Math(latex(s_row_bos)))\n",
    "display(Math(latex(s_col_ferm)))\n",
    "display(Math(latex(s_col_bos)))"
   ]
  },
  {
   "cell_type": "code",
   "execution_count": 156,
   "metadata": {},
   "outputs": [
    {
     "data": {
      "text/latex": [
       "$$s^*_\\Lambda: $$"
      ],
      "text/plain": [
       "<IPython.core.display.Math object>"
      ]
     },
     "metadata": {},
     "output_type": "display_data"
    },
    {
     "data": {
      "text/latex": [
       "$$h_{[[3], []]}$$"
      ],
      "text/plain": [
       "<IPython.core.display.Math object>"
      ]
     },
     "metadata": {},
     "output_type": "display_data"
    },
    {
     "data": {
      "text/latex": [
       "$$h_{[[], [3]]}$$"
      ],
      "text/plain": [
       "<IPython.core.display.Math object>"
      ]
     },
     "metadata": {},
     "output_type": "display_data"
    },
    {
     "data": {
      "text/latex": [
       "$$e_{[[0], [3]]}$$"
      ],
      "text/plain": [
       "<IPython.core.display.Math object>"
      ]
     },
     "metadata": {},
     "output_type": "display_data"
    },
    {
     "data": {
      "text/latex": [
       "$$e_{[[], [3]]}$$"
      ],
      "text/plain": [
       "<IPython.core.display.Math object>"
      ]
     },
     "metadata": {},
     "output_type": "display_data"
    }
   ],
   "source": [
    "display(Math(\"s^*_\\Lambda: \"))\n",
    "s_row_ferm = h(sStar[[3],[]])\n",
    "s_row_bos = h(sStar[[],[3]])\n",
    "s_col_ferm = e(sStar[[0],[1,1,1]])\n",
    "s_col_bos = e(sStar[[],[1,1,1]])\n",
    "display(Math(latex(s_row_ferm)))\n",
    "display(Math(latex(s_row_bos)))\n",
    "display(Math(latex(s_col_ferm)))\n",
    "display(Math(latex(s_col_bos)))"
   ]
  },
  {
   "cell_type": "markdown",
   "metadata": {},
   "source": [
    "We illustrate the Pieri rules with some examples. \n",
    "### A-"
   ]
  },
  {
   "cell_type": "code",
   "execution_count": 157,
   "metadata": {},
   "outputs": [
    {
     "data": {
      "text/plain": [
       "s[[3, 2, 0], [1]] + s[[4, 2, 0], []]"
      ]
     },
     "execution_count": 157,
     "metadata": {},
     "output_type": "execute_result"
    }
   ],
   "source": [
    "s[[2,0],[1]]*s[[3],[]]"
   ]
  },
  {
   "cell_type": "code",
   "execution_count": 158,
   "metadata": {},
   "outputs": [
    {
     "data": {
      "text/plain": [
       "s[[2, 0], [3, 1]] + s[[3, 0], [2, 1]] + s[[4, 0], [1, 1]] + s[[2, 0], [4]] + s[[4, 0], [2]] + s[[5, 0], [1]]"
      ]
     },
     "execution_count": 158,
     "metadata": {},
     "output_type": "execute_result"
    }
   ],
   "source": [
    "s[[2,0],[1]]*s[[],[3]]"
   ]
  },
  {
   "cell_type": "markdown",
   "metadata": {},
   "source": [
    "### B-"
   ]
  },
  {
   "cell_type": "code",
   "execution_count": 159,
   "metadata": {},
   "outputs": [
    {
     "data": {
      "text/plain": [
       "s[[2, 1, 0], [2, 1]] + s[[3, 1, 0], [2]]"
      ]
     },
     "execution_count": 159,
     "metadata": {},
     "output_type": "execute_result"
    }
   ],
   "source": [
    "s[[2,0],[1]]*s[[0],[1,1,1]]"
   ]
  },
  {
   "cell_type": "code",
   "execution_count": 160,
   "metadata": {},
   "outputs": [
    {
     "data": {
      "text/plain": [
       "s[[2, 0], [1, 1, 1, 1]] + s[[2, 0], [2, 1, 1]] + s[[3, 0], [1, 1, 1]] + s[[2, 1], [2, 1]] + s[[3, 0], [2, 1]] + s[[3, 1], [2]]"
      ]
     },
     "execution_count": 160,
     "metadata": {},
     "output_type": "execute_result"
    }
   ],
   "source": [
    "s[[2,0],[1]]*s[[],[1,1,1]]"
   ]
  },
  {
   "cell_type": "markdown",
   "metadata": {},
   "source": [
    "### C-"
   ]
  },
  {
   "cell_type": "code",
   "execution_count": 161,
   "metadata": {},
   "outputs": [
    {
     "data": {
      "text/plain": [
       "-sStar[[2, 1], [1]] + sStar[[1, 0], [3]]"
      ]
     },
     "execution_count": 161,
     "metadata": {},
     "output_type": "execute_result"
    }
   ],
   "source": [
    "sStar[[1],[1]]*sStar[[2],[]]"
   ]
  },
  {
   "cell_type": "code",
   "execution_count": 162,
   "metadata": {},
   "outputs": [
    {
     "data": {
      "text/plain": [
       "sStar[[1], [2, 1]] + sStar[[1], [3]]"
      ]
     },
     "execution_count": 162,
     "metadata": {},
     "output_type": "execute_result"
    }
   ],
   "source": [
    "sStar[[1],[1]]*sStar[[],[2]]"
   ]
  },
  {
   "cell_type": "markdown",
   "metadata": {},
   "source": [
    "### D-"
   ]
  },
  {
   "cell_type": "code",
   "execution_count": 163,
   "metadata": {},
   "outputs": [
    {
     "data": {
      "text/plain": [
       "sStar[[1, 0], [1, 1, 1, 1]] + sStar[[1, 0], [2, 1, 1]]"
      ]
     },
     "execution_count": 163,
     "metadata": {},
     "output_type": "execute_result"
    }
   ],
   "source": [
    "sStar[[1],[1]]*sStar[[0],[1,1,1]]"
   ]
  },
  {
   "cell_type": "code",
   "execution_count": 164,
   "metadata": {},
   "outputs": [
    {
     "data": {
      "text/plain": [
       "sStar[[1, 0], [1, 1, 1]] + sStar[[1, 0], [2, 1]]"
      ]
     },
     "execution_count": 164,
     "metadata": {},
     "output_type": "execute_result"
    }
   ],
   "source": [
    "sStar[[1,0],[1]]*sStar[[],[1,1]]"
   ]
  }
 ],
 "metadata": {
  "kernelspec": {
   "display_name": "SageMath 8.1",
   "language": "",
   "name": "sagemath"
  },
  "language_info": {
   "codemirror_mode": {
    "name": "ipython",
    "version": 2
   },
   "file_extension": ".py",
   "mimetype": "text/x-python",
   "name": "python",
   "nbconvert_exporter": "python",
   "pygments_lexer": "ipython2",
   "version": "2.7.14"
  }
 },
 "nbformat": 4,
 "nbformat_minor": 2
}
